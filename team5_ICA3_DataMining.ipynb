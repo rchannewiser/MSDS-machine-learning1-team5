{
 "cells": [
  {
   "cell_type": "code",
   "execution_count": 1,
   "metadata": {},
   "outputs": [
    {
     "data": {
      "text/html": [
       "<link href='https://fonts.googleapis.com/css?family=Passion+One' rel='stylesheet' type='text/css'><style>div.attn { font-family: 'Helvetica Neue'; font-size: 30px; line-height: 40px; color: #FFFFFF; text-align: center; margin: 30px 0; border-width: 10px 0; border-style: solid; border-color: #5AAAAA; padding: 30px 0; background-color: #DDDDFF; }hr { border: 0; background-color: #ffffff; border-top: 1px solid black; }hr.major { border-top: 10px solid #5AAA5A; }hr.minor { border: none; background-color: #ffffff; border-top: 5px dotted #CC3333; }div.bubble { width: 65%; padding: 20px; background: #DDDDDD; border-radius: 15px; margin: 0 auto; font-style: italic; color: #f00; }em { color: #AAA; }div.c1{visibility:hidden;margin:0;height:0;}div.note{color:red;}</style>"
      ],
      "text/plain": [
       "<IPython.core.display.HTML object>"
      ]
     },
     "execution_count": 1,
     "metadata": {},
     "output_type": "execute_result"
    }
   ],
   "source": [
    "#  Ebnable HTML/CSS \n",
    "from IPython.core.display import HTML\n",
    "HTML(\"<link href='https://fonts.googleapis.com/css?family=Passion+One' rel='stylesheet' type='text/css'><style>div.attn { font-family: 'Helvetica Neue'; font-size: 30px; line-height: 40px; color: #FFFFFF; text-align: center; margin: 30px 0; border-width: 10px 0; border-style: solid; border-color: #5AAAAA; padding: 30px 0; background-color: #DDDDFF; }hr { border: 0; background-color: #ffffff; border-top: 1px solid black; }hr.major { border-top: 10px solid #5AAA5A; }hr.minor { border: none; background-color: #ffffff; border-top: 5px dotted #CC3333; }div.bubble { width: 65%; padding: 20px; background: #DDDDDD; border-radius: 15px; margin: 0 auto; font-style: italic; color: #f00; }em { color: #AAA; }div.c1{visibility:hidden;margin:0;height:0;}div.note{color:red;}</style>\")"
   ]
  },
  {
   "cell_type": "markdown",
   "metadata": {},
   "source": [
    "___\n",
    "Enter Team Member Names here (double click to edit):\n",
    "\n",
    "- Name 1: Neddy N\n",
    "- Name 2: Blake H\n",
    "- Name 3: Rohit C\n",
    "\n",
    "________\n",
    "\n",
    "# In Class Assignment Three\n",
    "In the following assignment you will be asked to fill in python code and derivations for a number of different problems. Please read all instructions carefully and turn in the rendered notebook (or HTML of the rendered notebook)  before the end of class.\n",
    "\n",
    "<a id=\"top\"></a>\n",
    "## Contents\n",
    "* <a href=\"#Loading\">Loading the Data</a>\n",
    "* <a href=\"#distance\">Measuring Distances</a>\n",
    "* <a href=\"#KNN\">K-Nearest Neighbors</a>\n",
    "* <a href=\"#naive\">Naive Bayes</a>\n",
    "\n",
    "________________________________________________________________________________________________________\n",
    "<a id=\"Loading\"></a>\n",
    "<a href=\"#top\">Back to Top</a>\n",
    "## Downloading the Document Data\n",
    "Please run the following code to read in the \"20 newsgroups\" dataset from sklearn's data loading module."
   ]
  },
  {
   "cell_type": "code",
   "execution_count": 3,
   "metadata": {},
   "outputs": [
    {
     "name": "stdout",
     "output_type": "stream",
     "text": [
      "features shape: (11314, 130107)\n",
      "target shape: (11314,)\n",
      "range of target: 0 19\n",
      "Data type is <class 'scipy.sparse.csr.csr_matrix'> 0.1214353154362896 % of the data is non-zero\n"
     ]
    }
   ],
   "source": [
    "from sklearn.datasets import fetch_20newsgroups_vectorized\n",
    "import numpy as np\n",
    "\n",
    "# this takes about 30 seconds to compute, read the next section while this downloads\n",
    "ds = fetch_20newsgroups_vectorized(subset='train')\n",
    "\n",
    "# this holds the continuous feature data (which is tfidf)\n",
    "print('features shape:', ds.data.shape) # there are ~11000 instances and ~130k features per instance\n",
    "print('target shape:', ds.target.shape) \n",
    "print('range of target:', np.min(ds.target),np.max(ds.target))\n",
    "print('Data type is', type(ds.data), float(ds.data.nnz)/(ds.data.shape[0]*ds.data.shape[1])*100, '% of the data is non-zero')"
   ]
  },
  {
   "cell_type": "markdown",
   "metadata": {},
   "source": [
    "## Understanding the Dataset\n",
    "Look at the description for the 20 newsgroups dataset at http://qwone.com/~jason/20Newsgroups/. You have just downloaded the \"vectorized\" version of the dataset, which means all the words inside the articles have gone through a transformation that binned them into 130 thousand features related to the words in them.  \n",
    "\n",
    "**Question Set 1**:\n",
    "- How many instances are in the dataset? \n",
    "##### 11000\n",
    "- What does each instance represent? \n",
    "##### Article\n",
    "- How many classes are in the dataset and what does each class represent?\n",
    "##### 20 , they represent a newsgroup\n",
    "\n",
    "- Would you expect a classifier trained on this data would generalize to documents written in the past week? Why or why not?\n",
    "##### No. Because some of the articles are dated (20 years)\n",
    "- Is the data represented as a sparse or dense matrix?\n",
    "##### sparse"
   ]
  },
  {
   "cell_type": "markdown",
   "metadata": {},
   "source": [
    "___\n",
    "Enter your answer here:\n",
    "\n",
    "*Double click to edit*\n",
    "\n",
    "\n",
    "\n"
   ]
  },
  {
   "cell_type": "markdown",
   "metadata": {},
   "source": [
    "___\n",
    "<a id=\"distance\"></a>\n",
    "<a href=\"#top\">Back to Top</a>\n",
    "## Measures of Distance\n",
    "In the following block of code, we isolate three instances from the dataset. The instance \"`a`\" is from the group *computer graphics*, \"`b`\" is from from the group *recreation autos*, and \"`c`\" is from group *recreation motorcycle*. **Exercise for part 2**: Calculate the: \n",
    "- (1) Euclidean distance\n",
    "- (2) Cosine distance \n",
    "- (3) Jaccard similarity \n",
    "\n",
    "between each pair of instances using the imported functions below. Remember that the Jaccard similarity is only for binary valued vectors, so convert vectors to binary using a threshold. \n",
    "\n",
    "**Question for part 2**: Which distance seems more appropriate to use for this data? **Why**?"
   ]
  },
  {
   "cell_type": "code",
   "execution_count": 29,
   "metadata": {},
   "outputs": [
    {
     "name": "stdout",
     "output_type": "stream",
     "text": [
      "Instance A is from class comp.graphics\n",
      "Instance B is from class rec.autos\n",
      "Instance C is from class rec.motorcycles\n",
      "\n",
      "\n",
      "Euclidean Distance\n",
      " ab: 1.0985184671870858 ac: 1.1891405425398234 bc: 0.9177794226661624\n",
      "Cosine Distance\n",
      " ab: 0.6033714113755322 ac: 0.7070276149559529 bc: 0.4211595343347173\n",
      "Jaccard Dissimilarity (vectors should be boolean values)\n",
      " ab: 1.0 ac: 1.0 bc: 1.0\n",
      "\n",
      "\n",
      "The most appropriate distance is...\n",
      "Cosine distance shows the greatest distances between topics and gives us the best differentiation ability. It is the best distance metric for this analysis.\n"
     ]
    }
   ],
   "source": [
    "from scipy.spatial.distance import cosine\n",
    "from scipy.spatial.distance import euclidean\n",
    "from scipy.spatial.distance import jaccard\n",
    "import numpy as np\n",
    "# get first instance (comp)\n",
    "idx = 550\n",
    "a = ds.data[idx].todense()\n",
    "a_class = ds.target_names[ds.target[idx]]\n",
    "print('Instance A is from class', a_class)\n",
    "# get second instance (autos)\n",
    "idx = 4000\n",
    "b = ds.data[idx].todense()\n",
    "b_class = ds.target_names[ds.target[idx]]\n",
    "print('Instance B is from class', b_class)\n",
    "# get third instance (motorcycle)\n",
    "idx = 7000\n",
    "c = ds.data[idx].todense()\n",
    "c_class = ds.target_names[ds.target[idx]]\n",
    "print('Instance C is from class', c_class)\n",
    "# Enter distance comparison below for each pair of vectors:\n",
    "p = 'Placeholder'\n",
    "print('\\n\\nEuclidean Distance\\n ab:', euclidean(a,b), 'ac:', euclidean(a,c), 'bc:',euclidean(b,c))\n",
    "print('Cosine Distance\\n ab:', cosine(a,b), 'ac:', cosine(a,c), 'bc:',cosine(b,c))\n",
    "print('Jaccard Dissimilarity (vectors should be boolean values)\\n ab:', jaccard(a,b), 'ac:', jaccard(a,c), 'bc:',jaccard(b,c))\n",
    "print('\\n\\nThe most appropriate distance is...')\n",
    "print('Cosine distance shows the greatest distances between topics and gives us the best differentiation ability. It is the best distance metric for this analysis.')"
   ]
  },
  {
   "cell_type": "markdown",
   "metadata": {},
   "source": [
    "___\n",
    "# Start of Live Session Assignment\n",
    "___\n",
    "<a id=\"KNN\"></a>\n",
    "<a href=\"#top\">Back to Top</a>\n",
    "## Using scikit-learn with KNN\n",
    "Now let's use stratified cross validation with a holdout set to train a KNN model in `scikit-learn`. Use the example below to train a KNN classifier. The documentation for `KNeighborsClassifier` is here: http://scikit-learn.org/stable/modules/generated/sklearn.neighbors.KNeighborsClassifier.html  \n",
    "\n",
    "**Exercise for part 3**: Use the code below to test what value of `n_neighbors` works best for the given data. *Note: do NOT change the metric to be anything other than `'euclidean'`. Other distance functions are not optimized for the amount of data we are working with.* \n",
    "\n",
    "**Question for part 3**: What is the accuracy of the best classifier you can create for this data (by changing only the `n_neighbors` parameter)? "
   ]
  },
  {
   "cell_type": "code",
   "execution_count": 27,
   "metadata": {},
   "outputs": [
    {
     "data": {
      "text/plain": [
       "<function print>"
      ]
     },
     "execution_count": 27,
     "metadata": {},
     "output_type": "execute_result"
    }
   ],
   "source": [
    "import sklearn.model_selection as ms\n",
    "from sklearn.neighbors import KNeighborsClassifier\n",
    "from sklearn.metrics import accuracy_score\n",
    "from IPython.html import widgets \n",
    "from sklearn import metrics as mt\n",
    "from sklearn.metrics import (accuracy_score,brier_score_loss, precision_score, recall_score,f1_score)\n",
    "import pandas as pd\n",
    "import numpy as ny\n",
    "import numpy as np\n",
    "import seaborn as sb\n",
    "import matplotlib.pyplot as plt\n",
    "import plotly.express as px\n",
    "import os \n",
    "\n",
    "cv = ms.StratifiedShuffleSplit( n_splits = 1, test_size = 0.5, train_size=0.5)\n",
    "\n",
    "K = [1,3,5,7,9,10,25] \n",
    "clf = KNeighborsClassifier(n_neighbors=K, weights='uniform', metric='euclidean')\n",
    "\n",
    "res=[]\n",
    "# fill in the training and testing data and save as separate variables\n",
    "for k in K:\n",
    "    for trainidx, testidx in cv.split(ds.data,ds.target):\n",
    "        # note that these are sparse matrices\n",
    "        X_train = ds.data[trainidx] \n",
    "        X_test = ds.data[testidx] \n",
    "        y_train = ds.target[trainidx]\n",
    "        y_test = ds.target[testidx]\n",
    "        \n",
    "        clf = KNeighborsClassifier(n_neighbors=k, weights='uniform', metric='euclidean')\n",
    "\n",
    "        clf.fit(X_train,y_train)  # train object\n",
    "        y_hat = clf.predict(X_test) # get test set precitions\n",
    "\n",
    "        conf = mt.confusion_matrix(y_test,y_hat)\n",
    "\n",
    "        row={}\n",
    "        row[\"K\"]=k\n",
    "        row[\"accuracy\"]=accuracy_score(y_test, y_hat)\n",
    "        row[\"precision\"]=precision_score(y_test, y_hat, average=\"macro\")\n",
    "        row[\"recall\"]=recall_score(y_test, y_hat, average=\"macro\")\n",
    "        row[\"f1\"]=f1_score(y_test, y_hat, average=\"macro\")\n",
    "        res.append(row)\n",
    "\n",
    "# fill in your code  here to train and test\n",
    "# calculate the accuracy and print it for various values of K\n",
    "\n",
    "\n",
    "acc = 0.2 # overwrite this with the actual accuracy\n",
    "\n",
    "#=====================================\n",
    "\n",
    "# print('Accuracy of classifier with %d neighbors is: %.2f'%(K,acc))\n"
   ]
  },
  {
   "cell_type": "code",
   "execution_count": 28,
   "metadata": {},
   "outputs": [
    {
     "data": {
      "text/plain": [
       "[{'K': 1,\n",
       "  'accuracy': 0.5981969241647517,\n",
       "  'precision': 0.6330893808501913,\n",
       "  'recall': 0.5983987427071629,\n",
       "  'f1': 0.5971601825785066},\n",
       " {'K': 3,\n",
       "  'accuracy': 0.541629839137352,\n",
       "  'precision': 0.5875002603514229,\n",
       "  'recall': 0.5407086363717296,\n",
       "  'f1': 0.5402138967349099},\n",
       " {'K': 5,\n",
       "  'accuracy': 0.4907194626126922,\n",
       "  'precision': 0.5868691483059326,\n",
       "  'recall': 0.491017707097131,\n",
       "  'f1': 0.5006925635104055},\n",
       " {'K': 7,\n",
       "  'accuracy': 0.4712745271345236,\n",
       "  'precision': 0.5581614937845362,\n",
       "  'recall': 0.46872842504532,\n",
       "  'f1': 0.47192530730039417},\n",
       " {'K': 9,\n",
       "  'accuracy': 0.4765776913558423,\n",
       "  'precision': 0.552788647073058,\n",
       "  'recall': 0.47667384453722816,\n",
       "  'f1': 0.4744401620660593},\n",
       " {'K': 10,\n",
       "  'accuracy': 0.46049142655117553,\n",
       "  'precision': 0.5513852550902149,\n",
       "  'recall': 0.4576560129727131,\n",
       "  'f1': 0.456259871211662},\n",
       " {'K': 25,\n",
       "  'accuracy': 0.3903128866890578,\n",
       "  'precision': 0.5048737343050946,\n",
       "  'recall': 0.38929324941454907,\n",
       "  'f1': 0.38521304824589275}]"
      ]
     },
     "execution_count": 28,
     "metadata": {},
     "output_type": "execute_result"
    }
   ],
   "source": [
    "res"
   ]
  },
  {
   "cell_type": "markdown",
   "metadata": {},
   "source": [
    "The best accuracy is 0.5981969241647517 with 1 neighbors."
   ]
  },
  {
   "cell_type": "markdown",
   "metadata": {},
   "source": [
    "**Question for part 3**: With sparse data, does the use of a KDTree representation make sense? Why or Why not?"
   ]
  },
  {
   "cell_type": "markdown",
   "metadata": {},
   "source": [
    "Enter your answer below:\n",
    "KD tree does make makes sense to use on sparse data because when data has been partitioned, it's easier to calculate the distance to the closest neighbor and identify the partitions to avoid calculating the distance in because if the distance to the partition is larger than the distance to our closest neighbor, we know that none of the data points inside that partition can be closer. This concept can be used in both dense and sparse data to find the closest neighbor\n",
    "___"
   ]
  },
  {
   "cell_type": "markdown",
   "metadata": {
    "collapsed": true
   },
   "source": [
    "_____\n",
    "## KNN extensions - Centroids\n",
    "Now lets look at a very closely related classifier to KNN, called nearest centroid. In this classifier (which is more appropriate for big data scenarios and sparse data), the training step is used to calculate the centroids for each class. These centroids are saved. Unknown attributes, at prediction time, only need to have distances calculated for each saved centroid, drastically decreasing the time required for a prediction. \n",
    "\n",
    "**Exercise for part 4**: Use the template code below to create a nearest centroid classifier. Test which metric has the best cross validated performance: Euclidean, Cosine, or Manhattan. In `scikit-learn` you can see the documentation for NearestCentroid here: \n",
    "- http://scikit-learn.org/stable/modules/generated/sklearn.neighbors.NearestCentroid.html#sklearn.neighbors.NearestCentroid\n",
    "\n",
    "and for supported distance metrics here:\n",
    "- http://scikit-learn.org/stable/modules/generated/sklearn.metrics.pairwise.distance_metrics.html#sklearn.metrics.pairwise.distance_metrics"
   ]
  },
  {
   "cell_type": "code",
   "execution_count": 34,
   "metadata": {},
   "outputs": [
    {
     "name": "stderr",
     "output_type": "stream",
     "text": [
      "/usr/local/lib/python3.7/site-packages/sklearn/neighbors/_nearest_centroid.py:150: UserWarning: Averaging for metrics other than euclidean and manhattan not supported. The average is set to be the mean.\n",
      "  warnings.warn(\"Averaging for metrics other than \"\n",
      "/usr/local/lib/python3.7/site-packages/sklearn/neighbors/_nearest_centroid.py:150: UserWarning: Averaging for metrics other than euclidean and manhattan not supported. The average is set to be the mean.\n",
      "  warnings.warn(\"Averaging for metrics other than \"\n",
      "/usr/local/lib/python3.7/site-packages/sklearn/neighbors/_nearest_centroid.py:150: UserWarning: Averaging for metrics other than euclidean and manhattan not supported. The average is set to be the mean.\n",
      "  warnings.warn(\"Averaging for metrics other than \"\n"
     ]
    }
   ],
   "source": [
    "from sklearn.neighbors import NearestCentroid\n",
    "\n",
    "# the parameters for the nearest centroid metric to test are:\n",
    "#    l1, l2, and cosine (all are optimized)\n",
    "\n",
    "dis = ['l1', 'l2', 'cosine','manhattan','euclidean' ]\n",
    "clf = NearestCentroid(metric='euclidean')\n",
    "\n",
    "res2 = []\n",
    "# fill in your code here\n",
    "for d in dis:\n",
    "    for trainidx, testidx in cv.split(ds.data,ds.target):\n",
    "        # note that these are sparse matrices\n",
    "        X_train = ds.data[trainidx] \n",
    "        X_test = ds.data[testidx] \n",
    "        y_train = ds.target[trainidx]\n",
    "        y_test = ds.target[testidx]\n",
    "        \n",
    "        clf = NearestCentroid(metric=d)\n",
    "\n",
    "        clf.fit(X_train,y_train)  # train object\n",
    "        y_hat = clf.predict(X_test) # get test set precitions\n",
    "\n",
    "        conf = mt.confusion_matrix(y_test,y_hat)\n",
    "\n",
    "        row={}\n",
    "        row[\"Distance\"]=d\n",
    "        row[\"accuracy\"]=accuracy_score(y_test, y_hat)\n",
    "        row[\"precision\"]=precision_score(y_test, y_hat, average=\"macro\")\n",
    "        row[\"recall\"]=recall_score(y_test, y_hat, average=\"macro\")\n",
    "        row[\"f1\"]=f1_score(y_test, y_hat, average=\"macro\")\n",
    "        res2.append(row)\n",
    "\n",
    "\n",
    "# print('The best distance metric is: ', p)"
   ]
  },
  {
   "cell_type": "code",
   "execution_count": 37,
   "metadata": {},
   "outputs": [
    {
     "data": {
      "text/plain": [
       "[{'Distance': 'l1',\n",
       "  'accuracy': 0.3242001060632844,\n",
       "  'precision': 0.7321792346143111,\n",
       "  'recall': 0.32030431824513117,\n",
       "  'f1': 0.3130919978063357},\n",
       " {'Distance': 'l2',\n",
       "  'accuracy': 0.4196570620470214,\n",
       "  'precision': 0.46472324254076386,\n",
       "  'recall': 0.415211234445198,\n",
       "  'f1': 0.4156310267434942},\n",
       " {'Distance': 'cosine',\n",
       "  'accuracy': 0.47109775499381296,\n",
       "  'precision': 0.49291313679904947,\n",
       "  'recall': 0.46535816877426683,\n",
       "  'f1': 0.4646398784927098},\n",
       " {'Distance': 'manhattan',\n",
       "  'accuracy': 0.1773024571327559,\n",
       "  'precision': 0.18619003478851054,\n",
       "  'recall': 0.17496368072860147,\n",
       "  'f1': 0.15950883414208109},\n",
       " {'Distance': 'euclidean',\n",
       "  'accuracy': 0.40834364504154147,\n",
       "  'precision': 0.4514386852288026,\n",
       "  'recall': 0.40380672087083164,\n",
       "  'f1': 0.40255049797053016}]"
      ]
     },
     "execution_count": 37,
     "metadata": {},
     "output_type": "execute_result"
    }
   ],
   "source": [
    "res2\n"
   ]
  },
  {
   "cell_type": "markdown",
   "metadata": {},
   "source": [
    "The best distance metric is: cosine"
   ]
  },
  {
   "cell_type": "markdown",
   "metadata": {},
   "source": [
    "___\n",
    "<a id=\"naive\"></a>\n",
    "<a href=\"#top\">Back to Top</a>\n",
    "## Naive Bayes Classification\n",
    "Now let's look at the use of the Naive Bayes classifier. The 20 newsgroups dataset has 20 classes and about 130,000 features per instance. Recall that the Naive Bayes classifer calculates a posterior distribution for each possible class. Each posterior distribution is a multiplication of many conditional distributions: \n",
    "\n",
    "$${\\arg \\max}_{j} \\left(p(class=j)\\prod_{i} p(attribute=i|class=j) \\right)$$\n",
    "\n",
    "where $p(class=j)$ is the prior and $p(attribute=i|class=j)$ is the conditional probability.\n",
    "\n",
    "**Question for part 5**: With this many classes and features, how many different conditional probabilities need to be parameterized? How many priors need to be parameterized?"
   ]
  },
  {
   "cell_type": "code",
   "execution_count": 38,
   "metadata": {},
   "outputs": [
    {
     "name": "stdout",
     "output_type": "stream",
     "text": [
      "total prob = 2600000, prior = 1\n"
     ]
    }
   ],
   "source": [
    "print(f'total prob = {20*130000}, prior = 1')"
   ]
  },
  {
   "cell_type": "markdown",
   "metadata": {},
   "source": [
    "Enter you answer here:\n",
    "\n",
    "*Double Click to edit*\n"
   ]
  },
  {
   "cell_type": "code",
   "execution_count": 15,
   "metadata": {},
   "outputs": [],
   "source": [
    "# Use this space for any calculations you might want to do\n"
   ]
  },
  {
   "cell_type": "markdown",
   "metadata": {},
   "source": [
    "___\n",
    "## Naive Bayes in Scikit-learn\n",
    "Scikit has several implementations of the Naive Bayes classifier: `GaussianNB`, `MultinomialNB`, and `BernoulliNB`. Look at the documentation here: http://scikit-learn.org/stable/modules/naive_bayes.html Take a look at each implementation and then answer this question: \n",
    "\n",
    "**Questions for part 6**: \n",
    "- If the instances contain mostly continuous attributes, would it be better to use Gaussian Naive Bayes, Multinomial Naive Bayes, or Bernoulli? And Why? \n",
    "- What if the data is sparse, does this change your answer? Why or Why not?"
   ]
  },
  {
   "cell_type": "markdown",
   "metadata": {},
   "source": [
    "Enter you answer here:\n",
    "\n",
    "Gaussian Naive Bayes is the most useful when doing an analysis involving continuous data. MultinomialNB is often used in text classification where data is represented as word vector counts. While Bernoulli is used for binary or discrete data. If our instances included mostly continuous attributes it would be best to use Gaussian Naive Bayes as a classifier. \n",
    "If however, the data was sparse, we might be reluctant to use a Gaussian Naive Bayes model as it will have trouble with all the zero values forcing means close to zero. Given this scenario and the three available models it might be prudent to try the Multinomial Baive Bayes model.\n",
    "___"
   ]
  },
  {
   "cell_type": "markdown",
   "metadata": {},
   "source": [
    "## Naive Bayes Comparison\n",
    "For the final section of this notebook let's compare the performance of Naive Bayes for document classification. Look at the parameters for `MultinomialNB`, and `BernoulliNB` (especially `alpha` and `binarize`). \n",
    "\n",
    "**Exercise for part 7**: Using the example code below, change the parameters for each classifier and see how accurate you can make the classifiers on the test set. \n",
    "\n",
    "**Question for part 7**: Why are these implementations so fast to train? What does the `'alpha'` value control in these models (*i.e.*, how does it change the parameterizations)? \n",
    "\n",
    "\n",
    "A: NB variants are fast because it is a linear classifier. Alpha of zero gives better results for sparce data sets becuase there is no smoothing of the curve."
   ]
  },
  {
   "cell_type": "code",
   "execution_count": 48,
   "metadata": {},
   "outputs": [
    {
     "name": "stderr",
     "output_type": "stream",
     "text": [
      "/usr/local/lib/python3.7/site-packages/sklearn/naive_bayes.py:509: UserWarning: alpha too small will result in numeric errors, setting alpha = 1.0e-10\n",
      "  'setting alpha = %.1e' % _ALPHA_MIN)\n",
      "/usr/local/lib/python3.7/site-packages/sklearn/naive_bayes.py:509: UserWarning: alpha too small will result in numeric errors, setting alpha = 1.0e-10\n",
      "  'setting alpha = %.1e' % _ALPHA_MIN)\n",
      "/usr/local/lib/python3.7/site-packages/sklearn/naive_bayes.py:509: UserWarning: alpha too small will result in numeric errors, setting alpha = 1.0e-10\n",
      "  'setting alpha = %.1e' % _ALPHA_MIN)\n",
      "/usr/local/lib/python3.7/site-packages/sklearn/metrics/_classification.py:1245: UndefinedMetricWarning: Precision is ill-defined and being set to 0.0 in labels with no predicted samples. Use `zero_division` parameter to control this behavior.\n",
      "  _warn_prf(average, modifier, msg_start, len(result))\n"
     ]
    }
   ],
   "source": [
    "from sklearn.naive_bayes import MultinomialNB\n",
    "from sklearn.naive_bayes import BernoulliNB\n",
    "\n",
    "\n",
    "clf_mnb = MultinomialNB(alpha=0.0)\n",
    "clf_bnb = BernoulliNB(alpha=0.0, binarize=0.0)\n",
    "clf_mnb1 = MultinomialNB(alpha=1.0)\n",
    "clf_bnb1 = BernoulliNB(alpha=1.0, binarize=0.0)\n",
    "clf_bnbb1 = BernoulliNB(alpha=0.0, binarize=1.0)\n",
    "\n",
    "clf_nb = {'mnb0':clf_mnb, 'bnb0':clf_bnb, 'mnb1':clf_mnb1, 'bnb1':clf_bnb1, 'bnbb1':clf_bnbb1}\n",
    "\n",
    "res3 = []\n",
    "for name, clf in clf_nb.items():\n",
    "    for trainidx, testidx in cv.split(ds.data,ds.target):\n",
    "        # note that these are sparse matrices\n",
    "        X_train = ds.data[trainidx] \n",
    "        X_test = ds.data[testidx] \n",
    "        y_train = ds.target[trainidx]\n",
    "        y_test = ds.target[testidx]\n",
    "        \n",
    "\n",
    "        clf.fit(X_train,y_train)  # train object\n",
    "        y_hat = clf.predict(X_test) # get test set precitions\n",
    "\n",
    "        conf = mt.confusion_matrix(y_test,y_hat)\n",
    "\n",
    "        row={}\n",
    "        row[\"Name\"]=name\n",
    "        row[\"accuracy\"]=accuracy_score(y_test, y_hat)\n",
    "        row[\"precision\"]=precision_score(y_test, y_hat, average=\"macro\")\n",
    "        row[\"recall\"]=recall_score(y_test, y_hat, average=\"macro\")\n",
    "        row[\"f1\"]=f1_score(y_test, y_hat, average=\"macro\")\n",
    "        res3.append(row)\n",
    "\n",
    "            \n",
    "# print('These classifiers are so fast because...', p)\n",
    "# print('The alpha values control...', p)\n"
   ]
  },
  {
   "cell_type": "code",
   "execution_count": 49,
   "metadata": {},
   "outputs": [
    {
     "data": {
      "text/plain": [
       "[{'Name': 'mnb0',\n",
       "  'accuracy': 0.8628248188085558,\n",
       "  'precision': 0.8645685003703341,\n",
       "  'recall': 0.8617354833932108,\n",
       "  'f1': 0.8612738581609956},\n",
       " {'Name': 'bnb0',\n",
       "  'accuracy': 0.8541629839137352,\n",
       "  'precision': 0.8586943279049004,\n",
       "  'recall': 0.8518120048336713,\n",
       "  'f1': 0.8520164659577519},\n",
       " {'Name': 'mnb1',\n",
       "  'accuracy': 0.7021389429025986,\n",
       "  'precision': 0.8135438385608513,\n",
       "  'recall': 0.6790569682324433,\n",
       "  'f1': 0.6760989706851678},\n",
       " {'Name': 'bnb1',\n",
       "  'accuracy': 0.6061516704967297,\n",
       "  'precision': 0.7242223657815596,\n",
       "  'recall': 0.5830115227306705,\n",
       "  'f1': 0.5611009234189634},\n",
       " {'Name': 'bnbb1',\n",
       "  'accuracy': 0.0530316422131872,\n",
       "  'precision': 0.00265158211065936,\n",
       "  'recall': 0.05,\n",
       "  'f1': 0.005036091992613732}]"
      ]
     },
     "execution_count": 49,
     "metadata": {},
     "output_type": "execute_result"
    }
   ],
   "source": [
    "res3"
   ]
  },
  {
   "cell_type": "markdown",
   "metadata": {
    "collapsed": true
   },
   "source": [
    "________________________________________________________________________________________________________\n",
    "\n",
    "That's all! Please **upload your rendered notebook to blackboard** and please include **team member names** in the notebook submission."
   ]
  },
  {
   "cell_type": "markdown",
   "metadata": {
    "collapsed": true
   },
   "source": []
  },
  {
   "cell_type": "code",
   "execution_count": null,
   "metadata": {},
   "outputs": [],
   "source": []
  }
 ],
 "metadata": {
  "kernelspec": {
   "display_name": "Python 3",
   "language": "python",
   "name": "python3"
  },
  "language_info": {
   "codemirror_mode": {
    "name": "ipython",
    "version": 3
   },
   "file_extension": ".py",
   "mimetype": "text/x-python",
   "name": "python",
   "nbconvert_exporter": "python",
   "pygments_lexer": "ipython3",
   "version": "3.7.7"
  }
 },
 "nbformat": 4,
 "nbformat_minor": 1
}
