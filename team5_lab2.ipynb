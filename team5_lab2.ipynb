{
 "cells": [
  {
   "cell_type": "markdown",
   "metadata": {},
   "source": [
    "# Create Models\t50\t"
   ]
  },
  {
   "cell_type": "markdown",
   "metadata": {},
   "source": [
    "Create a logistic regression model and a support vector machine model for the classification task involved with your dataset. Assess how well each model performs (use 80/20 training/testing split for your data). Adjust parameters of the models to make them more accurate. If your dataset size requires the use of stochastic gradient descent, then linear kernel only is fine to use. That is, the SGDClassifier is fine to use for optimizing logistic regression and linear support vector machines. For many problems, SGD will be required in order to train the SVM model in a reasonable timeframe. "
   ]
  },
  {
   "cell_type": "code",
   "execution_count": 1,
   "metadata": {},
   "outputs": [],
   "source": [
    "import pandas as pd\n",
    "import numpy as ny\n",
    "import numpy as np\n",
    "import seaborn as sb\n",
    "import matplotlib.pyplot as plt\n",
    "import plotly.express as px\n",
    "import os \n",
    "import sklearn.model_selection as ms\n",
    "from sklearn.linear_model import LogisticRegression\n",
    "import sklearn.linear_model as lm\n",
    "from sklearn import metrics as mt\n",
    "from sklearn.preprocessing import StandardScaler\n",
    "from sklearn.metrics import (accuracy_score,brier_score_loss, precision_score, recall_score,f1_score)\n",
    "import time"
   ]
  },
  {
   "cell_type": "code",
   "execution_count": 2,
   "metadata": {},
   "outputs": [
    {
     "name": "stdout",
     "output_type": "stream",
     "text": [
      "Defaulting to user installation because normal site-packages is not writeable\n",
      "Requirement already satisfied: pickle5 in /home/bjholmes23/.local/lib/python3.8/site-packages (0.0.11)\n",
      "\u001b[33mWARNING: You are using pip version 21.0; however, version 21.0.1 is available.\n",
      "You should consider upgrading via the '/usr/bin/python3 -m pip install --upgrade pip' command.\u001b[0m\n"
     ]
    }
   ],
   "source": [
    "!pip3 install pickle5\n",
    "import socket\n",
    "import pickle5 as pickle\n",
    "\n",
    "is_rohit=socket.gethostname()=='Rohits-MacBook-Pro.local'\n",
    "is_blake=socket.gethostname()=='BJH-ML-machine'\n",
    "is_neddy=(is_rohit+is_blake==0)\n",
    "\n",
    "if(is_rohit):\n",
    "    with open('~/Documents/yelp_datasets/df_business_eda.pickle', \"rb\") as f:\n",
    "      pick_data = pickle.load(f)\n",
    "      pick_data.to_pickle('~/Documents/yelp_datasets/df_business_eda_proto4.pickle')\n",
    "\n",
    "    df_business_eda = pd.read_pickle(\"~/Documents/yelp_datasets/df_business_eda_proto4.pickle\")\n",
    "    \n",
    "if(is_blake):\n",
    "    df_business_eda = pd.read_pickle(\"df_business_eda.pickle\")"
   ]
  },
  {
   "cell_type": "code",
   "execution_count": 3,
   "metadata": {},
   "outputs": [
    {
     "data": {
      "text/html": [
       "<div>\n",
       "<style scoped>\n",
       "    .dataframe tbody tr th:only-of-type {\n",
       "        vertical-align: middle;\n",
       "    }\n",
       "\n",
       "    .dataframe tbody tr th {\n",
       "        vertical-align: top;\n",
       "    }\n",
       "\n",
       "    .dataframe thead th {\n",
       "        text-align: right;\n",
       "    }\n",
       "</style>\n",
       "<table border=\"1\" class=\"dataframe\">\n",
       "  <thead>\n",
       "    <tr style=\"text-align: right;\">\n",
       "      <th></th>\n",
       "      <th>rating_category</th>\n",
       "      <th>stars</th>\n",
       "      <th>Beauty &amp; Spas</th>\n",
       "      <th>BusinessAcceptsCreditCards</th>\n",
       "      <th>Restaurants</th>\n",
       "      <th>is_open</th>\n",
       "      <th>parking_lot</th>\n",
       "      <th>city_state</th>\n",
       "      <th>zip3</th>\n",
       "      <th>RestaurantsPriceRange2</th>\n",
       "      <th>text</th>\n",
       "      <th>checkin_count</th>\n",
       "      <th>useful_count</th>\n",
       "      <th>cool_count</th>\n",
       "      <th>funny_count</th>\n",
       "      <th>review_count</th>\n",
       "      <th>review_word_count</th>\n",
       "    </tr>\n",
       "  </thead>\n",
       "  <tbody>\n",
       "    <tr>\n",
       "      <th>1</th>\n",
       "      <td>2</td>\n",
       "      <td>5.0</td>\n",
       "      <td>False</td>\n",
       "      <td>False</td>\n",
       "      <td>False</td>\n",
       "      <td>True</td>\n",
       "      <td>False</td>\n",
       "      <td>Scottsdale_AZ</td>\n",
       "      <td>852</td>\n",
       "      <td>NaN</td>\n",
       "      <td>NaN</td>\n",
       "      <td>9.0</td>\n",
       "      <td>4</td>\n",
       "      <td>1</td>\n",
       "      <td>2</td>\n",
       "      <td>4</td>\n",
       "      <td>121.000000</td>\n",
       "    </tr>\n",
       "    <tr>\n",
       "      <th>3</th>\n",
       "      <td>0</td>\n",
       "      <td>2.5</td>\n",
       "      <td>False</td>\n",
       "      <td>True</td>\n",
       "      <td>False</td>\n",
       "      <td>False</td>\n",
       "      <td>True</td>\n",
       "      <td>North Las Vegas_NV</td>\n",
       "      <td>890</td>\n",
       "      <td>4.0</td>\n",
       "      <td>NaN</td>\n",
       "      <td>3.0</td>\n",
       "      <td>1</td>\n",
       "      <td>0</td>\n",
       "      <td>0</td>\n",
       "      <td>3</td>\n",
       "      <td>26.666667</td>\n",
       "    </tr>\n",
       "  </tbody>\n",
       "</table>\n",
       "</div>"
      ],
      "text/plain": [
       "   rating_category  stars  Beauty & Spas  BusinessAcceptsCreditCards  \\\n",
       "1                2    5.0          False                       False   \n",
       "3                0    2.5          False                        True   \n",
       "\n",
       "   Restaurants  is_open  parking_lot          city_state zip3  \\\n",
       "1        False     True        False       Scottsdale_AZ  852   \n",
       "3        False    False         True  North Las Vegas_NV  890   \n",
       "\n",
       "   RestaurantsPriceRange2  text  checkin_count  useful_count  cool_count  \\\n",
       "1                     NaN   NaN            9.0             4           1   \n",
       "3                     4.0   NaN            3.0             1           0   \n",
       "\n",
       "   funny_count  review_count  review_word_count  \n",
       "1            2             4         121.000000  \n",
       "3            0             3          26.666667  "
      ]
     },
     "execution_count": 3,
     "metadata": {},
     "output_type": "execute_result"
    }
   ],
   "source": [
    "df_business_eda.head(2)"
   ]
  },
  {
   "cell_type": "code",
   "execution_count": 4,
   "metadata": {},
   "outputs": [
    {
     "data": {
      "text/html": [
       "<div>\n",
       "<style scoped>\n",
       "    .dataframe tbody tr th:only-of-type {\n",
       "        vertical-align: middle;\n",
       "    }\n",
       "\n",
       "    .dataframe tbody tr th {\n",
       "        vertical-align: top;\n",
       "    }\n",
       "\n",
       "    .dataframe thead th {\n",
       "        text-align: right;\n",
       "    }\n",
       "</style>\n",
       "<table border=\"1\" class=\"dataframe\">\n",
       "  <thead>\n",
       "    <tr style=\"text-align: right;\">\n",
       "      <th></th>\n",
       "      <th>rating_category</th>\n",
       "      <th>stars</th>\n",
       "      <th>Beauty &amp; Spas</th>\n",
       "      <th>BusinessAcceptsCreditCards</th>\n",
       "      <th>Restaurants</th>\n",
       "      <th>is_open</th>\n",
       "      <th>parking_lot</th>\n",
       "      <th>RestaurantsPriceRange2</th>\n",
       "      <th>text</th>\n",
       "      <th>checkin_count</th>\n",
       "      <th>...</th>\n",
       "      <th>zip3_928</th>\n",
       "      <th>zip3_930</th>\n",
       "      <th>zip3_940</th>\n",
       "      <th>zip3_952</th>\n",
       "      <th>zip3_953</th>\n",
       "      <th>zip3_959</th>\n",
       "      <th>zip3_967</th>\n",
       "      <th>zip3_981</th>\n",
       "      <th>zip3_nan</th>\n",
       "      <th>zip3_nan</th>\n",
       "    </tr>\n",
       "  </thead>\n",
       "  <tbody>\n",
       "    <tr>\n",
       "      <th>1</th>\n",
       "      <td>2</td>\n",
       "      <td>5.0</td>\n",
       "      <td>False</td>\n",
       "      <td>False</td>\n",
       "      <td>False</td>\n",
       "      <td>True</td>\n",
       "      <td>False</td>\n",
       "      <td>False</td>\n",
       "      <td>False</td>\n",
       "      <td>9</td>\n",
       "      <td>...</td>\n",
       "      <td>0</td>\n",
       "      <td>0</td>\n",
       "      <td>0</td>\n",
       "      <td>0</td>\n",
       "      <td>0</td>\n",
       "      <td>0</td>\n",
       "      <td>0</td>\n",
       "      <td>0</td>\n",
       "      <td>0</td>\n",
       "      <td>0</td>\n",
       "    </tr>\n",
       "    <tr>\n",
       "      <th>3</th>\n",
       "      <td>0</td>\n",
       "      <td>2.5</td>\n",
       "      <td>False</td>\n",
       "      <td>True</td>\n",
       "      <td>False</td>\n",
       "      <td>False</td>\n",
       "      <td>True</td>\n",
       "      <td>4</td>\n",
       "      <td>False</td>\n",
       "      <td>3</td>\n",
       "      <td>...</td>\n",
       "      <td>0</td>\n",
       "      <td>0</td>\n",
       "      <td>0</td>\n",
       "      <td>0</td>\n",
       "      <td>0</td>\n",
       "      <td>0</td>\n",
       "      <td>0</td>\n",
       "      <td>0</td>\n",
       "      <td>0</td>\n",
       "      <td>0</td>\n",
       "    </tr>\n",
       "  </tbody>\n",
       "</table>\n",
       "<p>2 rows × 276 columns</p>\n",
       "</div>"
      ],
      "text/plain": [
       "   rating_category  stars  Beauty & Spas  BusinessAcceptsCreditCards  \\\n",
       "1                2    5.0          False                       False   \n",
       "3                0    2.5          False                        True   \n",
       "\n",
       "   Restaurants  is_open  parking_lot RestaurantsPriceRange2   text  \\\n",
       "1        False     True        False                  False  False   \n",
       "3        False    False         True                      4  False   \n",
       "\n",
       "  checkin_count  ...  zip3_928  zip3_930  zip3_940  zip3_952  zip3_953  \\\n",
       "1             9  ...         0         0         0         0         0   \n",
       "3             3  ...         0         0         0         0         0   \n",
       "\n",
       "   zip3_959  zip3_967  zip3_981  zip3_nan  zip3_nan  \n",
       "1         0         0         0         0         0  \n",
       "3         0         0         0         0         0  \n",
       "\n",
       "[2 rows x 276 columns]"
      ]
     },
     "execution_count": 4,
     "metadata": {},
     "output_type": "execute_result"
    }
   ],
   "source": [
    "categorical_cols=df_business_eda.select_dtypes(include=['object']).columns\n",
    "\n",
    "df_business_hot=df_business_eda\n",
    "\n",
    "for col in categorical_cols:\n",
    "    dummies=pd.get_dummies(df_business_hot[col], dummy_na=True, prefix=col)\n",
    "    df_business_hot=df_business_hot.\\\n",
    "        drop(col,axis=1).\\\n",
    "    merge(\n",
    "        dummies,\n",
    "        how='left',\n",
    "        left_index=True,\n",
    "        right_index=True\n",
    "        )\n",
    "    \n",
    "df_business_hot=df_business_hot.fillna(False)\n",
    "df_business_hot.head(2)"
   ]
  },
  {
   "cell_type": "code",
   "execution_count": 5,
   "metadata": {},
   "outputs": [
    {
     "data": {
      "text/html": [
       "<div>\n",
       "<style scoped>\n",
       "    .dataframe tbody tr th:only-of-type {\n",
       "        vertical-align: middle;\n",
       "    }\n",
       "\n",
       "    .dataframe tbody tr th {\n",
       "        vertical-align: top;\n",
       "    }\n",
       "\n",
       "    .dataframe thead th {\n",
       "        text-align: right;\n",
       "    }\n",
       "</style>\n",
       "<table border=\"1\" class=\"dataframe\">\n",
       "  <thead>\n",
       "    <tr style=\"text-align: right;\">\n",
       "      <th></th>\n",
       "      <th>Beauty &amp; Spas</th>\n",
       "      <th>BusinessAcceptsCreditCards</th>\n",
       "      <th>Restaurants</th>\n",
       "      <th>is_open</th>\n",
       "      <th>parking_lot</th>\n",
       "      <th>RestaurantsPriceRange2</th>\n",
       "      <th>text</th>\n",
       "      <th>checkin_count</th>\n",
       "      <th>useful_count</th>\n",
       "      <th>cool_count</th>\n",
       "      <th>...</th>\n",
       "      <th>zip3_928</th>\n",
       "      <th>zip3_930</th>\n",
       "      <th>zip3_940</th>\n",
       "      <th>zip3_952</th>\n",
       "      <th>zip3_953</th>\n",
       "      <th>zip3_959</th>\n",
       "      <th>zip3_967</th>\n",
       "      <th>zip3_981</th>\n",
       "      <th>zip3_nan</th>\n",
       "      <th>zip3_nan</th>\n",
       "    </tr>\n",
       "  </thead>\n",
       "  <tbody>\n",
       "    <tr>\n",
       "      <th>0</th>\n",
       "      <td>-0.284181</td>\n",
       "      <td>-1.686292</td>\n",
       "      <td>-0.507601</td>\n",
       "      <td>0.489254</td>\n",
       "      <td>-0.580683</td>\n",
       "      <td>-0.800061</td>\n",
       "      <td>-0.255661</td>\n",
       "      <td>-0.150669</td>\n",
       "      <td>-0.273438</td>\n",
       "      <td>-0.252466</td>\n",
       "      <td>...</td>\n",
       "      <td>-0.003164</td>\n",
       "      <td>-0.003164</td>\n",
       "      <td>-0.003164</td>\n",
       "      <td>-0.003164</td>\n",
       "      <td>-0.003164</td>\n",
       "      <td>-0.003164</td>\n",
       "      <td>-0.003164</td>\n",
       "      <td>-0.003164</td>\n",
       "      <td>-0.043309</td>\n",
       "      <td>0.0</td>\n",
       "    </tr>\n",
       "    <tr>\n",
       "      <th>1</th>\n",
       "      <td>-0.284181</td>\n",
       "      <td>0.593017</td>\n",
       "      <td>-0.507601</td>\n",
       "      <td>-2.043927</td>\n",
       "      <td>1.722109</td>\n",
       "      <td>3.225868</td>\n",
       "      <td>-0.255661</td>\n",
       "      <td>-0.156851</td>\n",
       "      <td>-0.314588</td>\n",
       "      <td>-0.273815</td>\n",
       "      <td>...</td>\n",
       "      <td>-0.003164</td>\n",
       "      <td>-0.003164</td>\n",
       "      <td>-0.003164</td>\n",
       "      <td>-0.003164</td>\n",
       "      <td>-0.003164</td>\n",
       "      <td>-0.003164</td>\n",
       "      <td>-0.003164</td>\n",
       "      <td>-0.003164</td>\n",
       "      <td>-0.043309</td>\n",
       "      <td>0.0</td>\n",
       "    </tr>\n",
       "  </tbody>\n",
       "</table>\n",
       "<p>2 rows × 274 columns</p>\n",
       "</div>"
      ],
      "text/plain": [
       "   Beauty & Spas  BusinessAcceptsCreditCards  Restaurants   is_open  \\\n",
       "0      -0.284181                   -1.686292    -0.507601  0.489254   \n",
       "1      -0.284181                    0.593017    -0.507601 -2.043927   \n",
       "\n",
       "   parking_lot  RestaurantsPriceRange2      text  checkin_count  useful_count  \\\n",
       "0    -0.580683               -0.800061 -0.255661      -0.150669     -0.273438   \n",
       "1     1.722109                3.225868 -0.255661      -0.156851     -0.314588   \n",
       "\n",
       "   cool_count  ...  zip3_928  zip3_930  zip3_940  zip3_952  zip3_953  \\\n",
       "0   -0.252466  ... -0.003164 -0.003164 -0.003164 -0.003164 -0.003164   \n",
       "1   -0.273815  ... -0.003164 -0.003164 -0.003164 -0.003164 -0.003164   \n",
       "\n",
       "   zip3_959  zip3_967  zip3_981  zip3_nan  zip3_nan  \n",
       "0 -0.003164 -0.003164 -0.003164 -0.043309       0.0  \n",
       "1 -0.003164 -0.003164 -0.003164 -0.043309       0.0  \n",
       "\n",
       "[2 rows x 274 columns]"
      ]
     },
     "execution_count": 5,
     "metadata": {},
     "output_type": "execute_result"
    }
   ],
   "source": [
    "df_business_hot[\"above_average\"] = ny.where(df_business_hot[\"stars\"] > 3.5, 0, 1)\n",
    "y=df_business_hot.rating_category\n",
    "y2 = df_business_hot[\"above_average\"]\n",
    "X=df_business_hot.drop([\"rating_category\", \"stars\",\"above_average\"], axis=1)\n",
    "#Scale your data\n",
    "scaler = StandardScaler()\n",
    "scaler.fit(X) \n",
    "X_scaled = pd.DataFrame(scaler.transform(X),columns = X.columns)\n",
    "X_scaled.head(2)"
   ]
  },
  {
   "cell_type": "code",
   "execution_count": 6,
   "metadata": {},
   "outputs": [
    {
     "name": "stdout",
     "output_type": "stream",
     "text": [
      "ShuffleSplit(n_splits=5, random_state=123, test_size=0.2, train_size=None)\n"
     ]
    }
   ],
   "source": [
    "num_cv_iterations = 5\n",
    "num_instances = len(y)\n",
    "cv_object = ms.ShuffleSplit(n_splits=num_cv_iterations,\n",
    "                         random_state=123,\n",
    "                         test_size  = 0.2)\n",
    "                         \n",
    "print(cv_object)"
   ]
  },
  {
   "cell_type": "code",
   "execution_count": 7,
   "metadata": {},
   "outputs": [],
   "source": [
    "def cv_train(name,model,x,y):\n",
    "    print(f\"====Performing Cross Validation for {name}\")\n",
    "    print(f\" Iteration \", end = '')\n",
    "    iter_num=0\n",
    "    res=pd.DataFrame()\n",
    "\n",
    "    for train_indices, test_indices in cv_object.split(x,y):\n",
    "        t = time.time()\n",
    "        print(f\" {iter_num},\", end = '')\n",
    "\n",
    "        X_train = x.iloc[train_indices]\n",
    "        y_train = y.iloc[train_indices]\n",
    "\n",
    "        X_test = x.iloc[test_indices]\n",
    "        y_test = y.iloc[test_indices]\n",
    "\n",
    "        model.fit(X_train,y_train)  # train object\n",
    "        y_hat = model.predict(X_test) # get test set precitions\n",
    "\n",
    "        conf = mt.confusion_matrix(y_test,y_hat)\n",
    "        \n",
    "        row=pd.DataFrame([iter_num],columns=['Iteration'])\n",
    "        row[\"accuracy\"]=accuracy_score(y_test, y_hat)\n",
    "        row[\"precision\"]=precision_score(y_test, y_hat, average=\"macro\")\n",
    "        row[\"recall\"]=recall_score(y_test, y_hat, average=\"macro\")\n",
    "        row[\"f1\"]=f1_score(y_test, y_hat, average=\"macro\")\n",
    "        row[\"average_seconds\"]= ny.round(time.time() - t)\n",
    "\n",
    "        res=res.append(row)\n",
    "        iter_num+=1\n",
    "    \n",
    "    #Summarize CV Results \n",
    "    summary=res.drop(\"Iteration\",axis=1).agg(\"mean\").to_frame().T\n",
    "    summary.insert(0,\"model\",model)\n",
    "    summary.insert(0,\"name\",name)\n",
    "    print(\"  Cross-validation complete\")\n",
    "\n",
    "    return(summary)"
   ]
  },
  {
   "cell_type": "markdown",
   "metadata": {},
   "source": [
    "# Compare Competing Models"
   ]
  },
  {
   "cell_type": "code",
   "execution_count": 8,
   "metadata": {},
   "outputs": [],
   "source": [
    "#LogisticRegression\n",
    "log_newton_model = LogisticRegression(penalty='l2', C=1.0, class_weight=None, solver='newton-cg' )\n",
    "log_lbfgs_model = LogisticRegression(penalty='l2', C=1.0, class_weight=None, solver='lbfgs' )\n",
    "log_liblinear_model = LogisticRegression(penalty='l2', C=1.0, class_weight=None, solver='liblinear' )\n",
    "log_sag_model = LogisticRegression(penalty='l2', C=1.0, class_weight=None, solver='sag' )\n",
    "log_saga_model = LogisticRegression(penalty='l2', C=1.0, class_weight=None, solver='saga')\n",
    "#SGDClassifier\n",
    "log_sgd_model = lm.SGDClassifier(n_jobs=-1, loss=\"log\")\n",
    "svm_sgd_model = lm.SGDClassifier(n_jobs=-1, loss=\"hinge\")"
   ]
  },
  {
   "cell_type": "markdown",
   "metadata": {},
   "source": [
    "# Model Advantages\t10"
   ]
  },
  {
   "cell_type": "markdown",
   "metadata": {},
   "source": [
    "Discuss the advantages of each model for each classification task. Does one type of model offer superior performance over another in terms of prediction accuracy? In terms of training time or efficiency? Explain in detail."
   ]
  },
  {
   "cell_type": "code",
   "execution_count": 9,
   "metadata": {},
   "outputs": [
    {
     "name": "stdout",
     "output_type": "stream",
     "text": [
      "====Performing Cross Validation for log_newton\n",
      " Iteration  0, 1, 2, 3, 4,  Cross-validation complete\n",
      "====Performing Cross Validation for log_lbfgs\n",
      " Iteration  0, 1, 2, 3, 4,  Cross-validation complete\n",
      "====Performing Cross Validation for log_liblinear\n",
      " Iteration  0, 1, 2, 3, 4,  Cross-validation complete\n",
      "====Performing Cross Validation for log_sag\n",
      " Iteration  0, 1, 2, 3, 4,  Cross-validation complete\n",
      "====Performing Cross Validation for log_saga\n",
      " Iteration  0, 1, 2, 3, 4,  Cross-validation complete\n",
      "====Performing Cross Validation for log_sgd\n",
      " Iteration  0, 1, 2, 3, 4,  Cross-validation complete\n",
      "====Performing Cross Validation for svm_sgd\n",
      " Iteration  0, 1, 2, 3, 4,  Cross-validation complete\n"
     ]
    },
    {
     "data": {
      "text/html": [
       "<div>\n",
       "<style scoped>\n",
       "    .dataframe tbody tr th:only-of-type {\n",
       "        vertical-align: middle;\n",
       "    }\n",
       "\n",
       "    .dataframe tbody tr th {\n",
       "        vertical-align: top;\n",
       "    }\n",
       "\n",
       "    .dataframe thead th {\n",
       "        text-align: right;\n",
       "    }\n",
       "</style>\n",
       "<table border=\"1\" class=\"dataframe\">\n",
       "  <thead>\n",
       "    <tr style=\"text-align: right;\">\n",
       "      <th></th>\n",
       "      <th>name</th>\n",
       "      <th>model</th>\n",
       "      <th>accuracy</th>\n",
       "      <th>precision</th>\n",
       "      <th>recall</th>\n",
       "      <th>f1</th>\n",
       "      <th>average_seconds</th>\n",
       "    </tr>\n",
       "  </thead>\n",
       "  <tbody>\n",
       "    <tr>\n",
       "      <th>0</th>\n",
       "      <td>log_lbfgs</td>\n",
       "      <td>LogisticRegression()</td>\n",
       "      <td>0.689829</td>\n",
       "      <td>0.690756</td>\n",
       "      <td>0.688683</td>\n",
       "      <td>0.688497</td>\n",
       "      <td>2.0</td>\n",
       "    </tr>\n",
       "    <tr>\n",
       "      <th>0</th>\n",
       "      <td>log_newton</td>\n",
       "      <td>LogisticRegression(solver='newton-cg')</td>\n",
       "      <td>0.689789</td>\n",
       "      <td>0.690720</td>\n",
       "      <td>0.688641</td>\n",
       "      <td>0.688454</td>\n",
       "      <td>7.0</td>\n",
       "    </tr>\n",
       "    <tr>\n",
       "      <th>0</th>\n",
       "      <td>log_liblinear</td>\n",
       "      <td>LogisticRegression(solver='liblinear')</td>\n",
       "      <td>0.689779</td>\n",
       "      <td>0.690707</td>\n",
       "      <td>0.688632</td>\n",
       "      <td>0.688446</td>\n",
       "      <td>19.0</td>\n",
       "    </tr>\n",
       "    <tr>\n",
       "      <th>0</th>\n",
       "      <td>log_sgd</td>\n",
       "      <td>SGDClassifier(loss='log', n_jobs=-1)</td>\n",
       "      <td>0.683432</td>\n",
       "      <td>0.683667</td>\n",
       "      <td>0.682594</td>\n",
       "      <td>0.682567</td>\n",
       "      <td>3.2</td>\n",
       "    </tr>\n",
       "    <tr>\n",
       "      <th>0</th>\n",
       "      <td>svm_sgd</td>\n",
       "      <td>SGDClassifier(n_jobs=-1)</td>\n",
       "      <td>0.680749</td>\n",
       "      <td>0.684017</td>\n",
       "      <td>0.678933</td>\n",
       "      <td>0.677810</td>\n",
       "      <td>3.4</td>\n",
       "    </tr>\n",
       "    <tr>\n",
       "      <th>0</th>\n",
       "      <td>log_sag</td>\n",
       "      <td>LogisticRegression(solver='sag')</td>\n",
       "      <td>0.672500</td>\n",
       "      <td>0.673407</td>\n",
       "      <td>0.671282</td>\n",
       "      <td>0.670958</td>\n",
       "      <td>13.0</td>\n",
       "    </tr>\n",
       "    <tr>\n",
       "      <th>0</th>\n",
       "      <td>log_saga</td>\n",
       "      <td>LogisticRegression(solver='saga')</td>\n",
       "      <td>0.665552</td>\n",
       "      <td>0.666393</td>\n",
       "      <td>0.664320</td>\n",
       "      <td>0.663956</td>\n",
       "      <td>15.0</td>\n",
       "    </tr>\n",
       "  </tbody>\n",
       "</table>\n",
       "</div>"
      ],
      "text/plain": [
       "            name                                   model  accuracy  precision  \\\n",
       "0      log_lbfgs                    LogisticRegression()  0.689829   0.690756   \n",
       "0     log_newton  LogisticRegression(solver='newton-cg')  0.689789   0.690720   \n",
       "0  log_liblinear  LogisticRegression(solver='liblinear')  0.689779   0.690707   \n",
       "0        log_sgd    SGDClassifier(loss='log', n_jobs=-1)  0.683432   0.683667   \n",
       "0        svm_sgd                SGDClassifier(n_jobs=-1)  0.680749   0.684017   \n",
       "0        log_sag        LogisticRegression(solver='sag')  0.672500   0.673407   \n",
       "0       log_saga       LogisticRegression(solver='saga')  0.665552   0.666393   \n",
       "\n",
       "     recall        f1  average_seconds  \n",
       "0  0.688683  0.688497              2.0  \n",
       "0  0.688641  0.688454              7.0  \n",
       "0  0.688632  0.688446             19.0  \n",
       "0  0.682594  0.682567              3.2  \n",
       "0  0.678933  0.677810              3.4  \n",
       "0  0.671282  0.670958             13.0  \n",
       "0  0.664320  0.663956             15.0  "
      ]
     },
     "execution_count": 9,
     "metadata": {},
     "output_type": "execute_result"
    }
   ],
   "source": [
    "#supressing warnings, many of the logistic models complain during fitting\n",
    "import warnings\n",
    "warnings.filterwarnings('ignore')\n",
    "\n",
    "#Run CV on all models and combine results into dataframe\n",
    "cv_results=cv_train(\"log_newton\",log_newton_model, X_scaled, y2).\\\n",
    "    append(cv_train(\"log_lbfgs\",log_lbfgs_model, X_scaled, y2)).\\\n",
    "    append(cv_train(\"log_liblinear\",log_liblinear_model, X_scaled, y2)).\\\n",
    "    append(cv_train(\"log_sag\",log_sag_model, X_scaled, y2)).\\\n",
    "    append(cv_train(\"log_saga\",log_saga_model, X_scaled, y2)).\\\n",
    "    append(cv_train(\"log_sgd\",log_sgd_model, X_scaled, y2)).\\\n",
    "    append(cv_train(\"svm_sgd\",svm_sgd_model, X_scaled, y2)).\\\n",
    "    sort_values(\"f1\", ascending=False)\n",
    "\n",
    "cv_results"
   ]
  },
  {
   "cell_type": "code",
   "execution_count": 10,
   "metadata": {},
   "outputs": [
    {
     "data": {
      "text/plain": [
       "SGDClassifier(n_jobs=-1)"
      ]
     },
     "execution_count": 10,
     "metadata": {},
     "output_type": "execute_result"
    }
   ],
   "source": [
    "#WINNER-Train final logistic regression model on all scaled data\n",
    "log_lbfgs_model_final = LogisticRegression(penalty='l2', C=1.0, class_weight=None, solver='lbfgs',max_iter=15000)\n",
    "log_lbfgs_model_final.fit(X_scaled,y2)\n",
    "\n",
    "#Train final SVM model on all scaled data\n",
    "\n",
    "svm_sgd_model_final = lm.SGDClassifier(n_jobs=-1, loss=\"hinge\")\n",
    "svm_sgd_model_final.fit(X_scaled,y2)"
   ]
  },
  {
   "cell_type": "markdown",
   "metadata": {},
   "source": [
    "# Interpret Feature Importance\t30"
   ]
  },
  {
   "cell_type": "markdown",
   "metadata": {},
   "source": [
    "Use the weights from logistic regression to interpret the importance of different features for the classification task. Explain your interpretation in detail. Why do you think some variables are more important?"
   ]
  },
  {
   "cell_type": "code",
   "execution_count": 11,
   "metadata": {},
   "outputs": [],
   "source": [
    "def get_importance(model):\n",
    "    feature_importance = abs(model.coef_[0])\n",
    "    feature_importance = 100.0 * (feature_importance / feature_importance.max())\n",
    "    sorted_idx = np.argsort(feature_importance)\n",
    "    res=dict(zip(np.array(X.columns)[sorted_idx],feature_importance[sorted_idx]))\n",
    "    res=dict(sorted(res.items(), key=lambda item: item[1], reverse=True))\n",
    "    return(res)\n",
    "\n",
    "def plot_importance(importance_dict, top_n=20):\n",
    "    importance_dict=dict(sorted(importance_dict.items(), key=lambda item: item[1], reverse=True))\n",
    "    \n",
    "    names=list(importance_dict.keys())[0:top_n]\n",
    "    values=list(importance_dict.values())[0:top_n]\n",
    "    \n",
    "    pos = np.arange(len(names)) + .5\n",
    "    featfig = plt.figure(figsize=(10, top_n/2))\n",
    "    featax = featfig.add_subplot(1, 1, 1)\n",
    "    featax.barh(pos, values, align='center')\n",
    "    featax.set_yticks(pos)\n",
    "    featax.set_yticklabels(names, fontsize=12)\n",
    "    featax.set_xlabel('Relative Feature Importance')\n",
    "    plt.gca().invert_yaxis()\n",
    "    plt.show()"
   ]
  },
  {
   "cell_type": "code",
   "execution_count": 12,
   "metadata": {},
   "outputs": [
    {
     "data": {
      "image/png": "[encoded data removed]",
      "text/plain": [
       "<Figure size 720x720 with 1 Axes>"
      ]
     },
     "metadata": {
      "needs_background": "light"
     },
     "output_type": "display_data"
    }
   ],
   "source": [
    "logistic_importance=get_importance(log_lbfgs_model_final)\n",
    "plot_importance(logistic_importance,top_n=20)"
   ]
  },
  {
   "cell_type": "code",
   "execution_count": 13,
   "metadata": {},
   "outputs": [
    {
     "data": {
      "image/png": "[encoded data removed]",
      "text/plain": [
       "<Figure size 720x720 with 1 Axes>"
      ]
     },
     "metadata": {
      "needs_background": "light"
     },
     "output_type": "display_data"
    }
   ],
   "source": [
    "svm_importance=get_importance(svm_sgd_model_final)\n",
    "plot_importance(svm_importance,top_n=20)"
   ]
  },
  {
   "cell_type": "markdown",
   "metadata": {},
   "source": [
    "# Interpret Support Vectors\t10"
   ]
  },
  {
   "cell_type": "markdown",
   "metadata": {},
   "source": [
    "Look at the chosen support vectors for the classification task. Do these provide any insight into the data? Explain. If you used stochastic gradient descent (and therefore did not explicitly solve for support vectors), try subsampling your data to train the SVC model— then analyze the support vectors from the subsampled dataset."
   ]
  }
 ],
 "metadata": {
  "kernelspec": {
   "display_name": "Python 3",
   "language": "python",
   "name": "python3"
  },
  "language_info": {
   "codemirror_mode": {
    "name": "ipython",
    "version": 3
   },
   "file_extension": ".py",
   "mimetype": "text/x-python",
   "name": "python",
   "nbconvert_exporter": "python",
   "pygments_lexer": "ipython3",
   "version": "3.8.5"
  }
 },
 "nbformat": 4,
 "nbformat_minor": 4
}
