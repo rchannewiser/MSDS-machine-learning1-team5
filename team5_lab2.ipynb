{
 "cells": [
  {
   "cell_type": "markdown",
   "metadata": {},
   "source": [
    "# Create Models\t50\t"
   ]
  },
  {
   "cell_type": "markdown",
   "metadata": {},
   "source": [
    "Create a logistic regression model and a support vector machine model for the classification task involved with your dataset. Assess how well each model performs (use 80/20 training/testing split for your data). Adjust parameters of the models to make them more accurate. If your dataset size requires the use of stochastic gradient descent, then linear kernel only is fine to use. That is, the SGDClassifier is fine to use for optimizing logistic regression and linear support vector machines. For many problems, SGD will be required in order to train the SVM model in a reasonable timeframe. "
   ]
  },
  {
   "cell_type": "code",
   "execution_count": 1,
   "metadata": {},
   "outputs": [],
   "source": [
    "import pandas as pd\n",
    "import numpy as ny\n",
    "import seaborn as sb\n",
    "import matplotlib.pyplot as plt\n",
    "import plotly.express as px\n",
    "import os \n",
    "import sklearn.model_selection as ms\n",
    "from sklearn.linear_model import LogisticRegression\n",
    "import sklearn.linear_model as lm\n",
    "from sklearn import metrics as mt\n",
    "\n",
    "from sklearn.metrics import (accuracy_score,brier_score_loss, precision_score, recall_score,\n",
    "                             f1_score)\n",
    "\n",
    "import time"
   ]
  },
  {
   "cell_type": "code",
   "execution_count": 2,
   "metadata": {},
   "outputs": [
    {
     "name": "stdout",
     "output_type": "stream",
     "text": [
      "Defaulting to user installation because normal site-packages is not writeable\n",
      "Requirement already satisfied: pickle5 in /home/bjholmes23/.local/lib/python3.8/site-packages (0.0.11)\n",
      "\u001b[33mWARNING: You are using pip version 21.0; however, version 21.0.1 is available.\n",
      "You should consider upgrading via the '/usr/bin/python3 -m pip install --upgrade pip' command.\u001b[0m\n"
     ]
    }
   ],
   "source": [
    "!pip3 install pickle5\n",
    "import socket\n",
    "import pickle5 as pickle\n",
    "\n",
    "is_rohit=socket.gethostname()=='Rohits-MacBook-Pro.local'\n",
    "is_blake=socket.gethostname()=='BJH-ML-machine'\n",
    "\n",
    "if(is_rohit):\n",
    "    with open('~/Documents/yelp_datasets/df_business_eda.pickle', \"rb\") as f:\n",
    "      pick_data = pickle.load(f)\n",
    "      pick_data.to_pickle('~/Documents/yelp_datasets/df_business_eda_proto4.pickle')\n",
    "\n",
    "    df_business_eda = pd.read_pickle(\"~/Documents/yelp_datasets/df_business_eda_proto4.pickle\")\n",
    "    \n",
    "if(is_blake):\n",
    "    df_business_eda = pd.read_pickle(\"df_business_eda.pickle\")"
   ]
  },
  {
   "cell_type": "code",
   "execution_count": 3,
   "metadata": {},
   "outputs": [
    {
     "data": {
      "text/html": [
       "<div>\n",
       "<style scoped>\n",
       "    .dataframe tbody tr th:only-of-type {\n",
       "        vertical-align: middle;\n",
       "    }\n",
       "\n",
       "    .dataframe tbody tr th {\n",
       "        vertical-align: top;\n",
       "    }\n",
       "\n",
       "    .dataframe thead th {\n",
       "        text-align: right;\n",
       "    }\n",
       "</style>\n",
       "<table border=\"1\" class=\"dataframe\">\n",
       "  <thead>\n",
       "    <tr style=\"text-align: right;\">\n",
       "      <th></th>\n",
       "      <th>rating_category</th>\n",
       "      <th>stars</th>\n",
       "      <th>Beauty &amp; Spas</th>\n",
       "      <th>BusinessAcceptsCreditCards</th>\n",
       "      <th>Restaurants</th>\n",
       "      <th>is_open</th>\n",
       "      <th>parking_lot</th>\n",
       "      <th>city_state</th>\n",
       "      <th>zip3</th>\n",
       "      <th>RestaurantsPriceRange2</th>\n",
       "      <th>text</th>\n",
       "      <th>checkin_count</th>\n",
       "      <th>useful_count</th>\n",
       "      <th>cool_count</th>\n",
       "      <th>funny_count</th>\n",
       "      <th>review_count</th>\n",
       "      <th>review_word_count</th>\n",
       "    </tr>\n",
       "  </thead>\n",
       "  <tbody>\n",
       "    <tr>\n",
       "      <th>1</th>\n",
       "      <td>2</td>\n",
       "      <td>5.0</td>\n",
       "      <td>False</td>\n",
       "      <td>False</td>\n",
       "      <td>False</td>\n",
       "      <td>True</td>\n",
       "      <td>False</td>\n",
       "      <td>Scottsdale_AZ</td>\n",
       "      <td>852</td>\n",
       "      <td>NaN</td>\n",
       "      <td>NaN</td>\n",
       "      <td>9.0</td>\n",
       "      <td>4</td>\n",
       "      <td>1</td>\n",
       "      <td>2</td>\n",
       "      <td>4</td>\n",
       "      <td>121.000000</td>\n",
       "    </tr>\n",
       "    <tr>\n",
       "      <th>3</th>\n",
       "      <td>0</td>\n",
       "      <td>2.5</td>\n",
       "      <td>False</td>\n",
       "      <td>True</td>\n",
       "      <td>False</td>\n",
       "      <td>False</td>\n",
       "      <td>True</td>\n",
       "      <td>North Las Vegas_NV</td>\n",
       "      <td>890</td>\n",
       "      <td>4.0</td>\n",
       "      <td>NaN</td>\n",
       "      <td>3.0</td>\n",
       "      <td>1</td>\n",
       "      <td>0</td>\n",
       "      <td>0</td>\n",
       "      <td>3</td>\n",
       "      <td>26.666667</td>\n",
       "    </tr>\n",
       "    <tr>\n",
       "      <th>4</th>\n",
       "      <td>2</td>\n",
       "      <td>4.5</td>\n",
       "      <td>False</td>\n",
       "      <td>True</td>\n",
       "      <td>False</td>\n",
       "      <td>True</td>\n",
       "      <td>False</td>\n",
       "      <td>Mesa_AZ</td>\n",
       "      <td>852</td>\n",
       "      <td>NaN</td>\n",
       "      <td>NaN</td>\n",
       "      <td>1.0</td>\n",
       "      <td>11</td>\n",
       "      <td>3</td>\n",
       "      <td>6</td>\n",
       "      <td>26</td>\n",
       "      <td>86.962963</td>\n",
       "    </tr>\n",
       "    <tr>\n",
       "      <th>5</th>\n",
       "      <td>2</td>\n",
       "      <td>4.5</td>\n",
       "      <td>False</td>\n",
       "      <td>True</td>\n",
       "      <td>False</td>\n",
       "      <td>True</td>\n",
       "      <td>False</td>\n",
       "      <td>Gilbert_AZ</td>\n",
       "      <td>852</td>\n",
       "      <td>NaN</td>\n",
       "      <td>4.0</td>\n",
       "      <td>39.0</td>\n",
       "      <td>25</td>\n",
       "      <td>2</td>\n",
       "      <td>6</td>\n",
       "      <td>38</td>\n",
       "      <td>81.690476</td>\n",
       "    </tr>\n",
       "    <tr>\n",
       "      <th>6</th>\n",
       "      <td>1</td>\n",
       "      <td>3.5</td>\n",
       "      <td>False</td>\n",
       "      <td>True</td>\n",
       "      <td>False</td>\n",
       "      <td>True</td>\n",
       "      <td>True</td>\n",
       "      <td>Las Vegas_NV</td>\n",
       "      <td>891</td>\n",
       "      <td>1.0</td>\n",
       "      <td>22.0</td>\n",
       "      <td>328.0</td>\n",
       "      <td>50</td>\n",
       "      <td>22</td>\n",
       "      <td>18</td>\n",
       "      <td>81</td>\n",
       "      <td>111.097561</td>\n",
       "    </tr>\n",
       "    <tr>\n",
       "      <th>...</th>\n",
       "      <td>...</td>\n",
       "      <td>...</td>\n",
       "      <td>...</td>\n",
       "      <td>...</td>\n",
       "      <td>...</td>\n",
       "      <td>...</td>\n",
       "      <td>...</td>\n",
       "      <td>...</td>\n",
       "      <td>...</td>\n",
       "      <td>...</td>\n",
       "      <td>...</td>\n",
       "      <td>...</td>\n",
       "      <td>...</td>\n",
       "      <td>...</td>\n",
       "      <td>...</td>\n",
       "      <td>...</td>\n",
       "      <td>...</td>\n",
       "    </tr>\n",
       "    <tr>\n",
       "      <th>209380</th>\n",
       "      <td>0</td>\n",
       "      <td>2.0</td>\n",
       "      <td>False</td>\n",
       "      <td>True</td>\n",
       "      <td>True</td>\n",
       "      <td>True</td>\n",
       "      <td>True</td>\n",
       "      <td>Phoenix_AZ</td>\n",
       "      <td>850</td>\n",
       "      <td>2.0</td>\n",
       "      <td>32.0</td>\n",
       "      <td>253.0</td>\n",
       "      <td>43</td>\n",
       "      <td>27</td>\n",
       "      <td>26</td>\n",
       "      <td>106</td>\n",
       "      <td>103.944954</td>\n",
       "    </tr>\n",
       "    <tr>\n",
       "      <th>209382</th>\n",
       "      <td>2</td>\n",
       "      <td>4.5</td>\n",
       "      <td>False</td>\n",
       "      <td>False</td>\n",
       "      <td>False</td>\n",
       "      <td>True</td>\n",
       "      <td>False</td>\n",
       "      <td>Las Vegas_NV</td>\n",
       "      <td>891</td>\n",
       "      <td>NaN</td>\n",
       "      <td>9.0</td>\n",
       "      <td>168.0</td>\n",
       "      <td>73</td>\n",
       "      <td>30</td>\n",
       "      <td>10</td>\n",
       "      <td>124</td>\n",
       "      <td>143.593985</td>\n",
       "    </tr>\n",
       "    <tr>\n",
       "      <th>209384</th>\n",
       "      <td>2</td>\n",
       "      <td>5.0</td>\n",
       "      <td>False</td>\n",
       "      <td>True</td>\n",
       "      <td>False</td>\n",
       "      <td>True</td>\n",
       "      <td>False</td>\n",
       "      <td>Tempe _AZ</td>\n",
       "      <td>852</td>\n",
       "      <td>NaN</td>\n",
       "      <td>NaN</td>\n",
       "      <td>9.0</td>\n",
       "      <td>1</td>\n",
       "      <td>0</td>\n",
       "      <td>0</td>\n",
       "      <td>5</td>\n",
       "      <td>65.200000</td>\n",
       "    </tr>\n",
       "    <tr>\n",
       "      <th>209386</th>\n",
       "      <td>2</td>\n",
       "      <td>5.0</td>\n",
       "      <td>False</td>\n",
       "      <td>True</td>\n",
       "      <td>False</td>\n",
       "      <td>True</td>\n",
       "      <td>False</td>\n",
       "      <td>Las Vegas_NV</td>\n",
       "      <td>891</td>\n",
       "      <td>NaN</td>\n",
       "      <td>11.0</td>\n",
       "      <td>8.0</td>\n",
       "      <td>89</td>\n",
       "      <td>49</td>\n",
       "      <td>52</td>\n",
       "      <td>217</td>\n",
       "      <td>100.977679</td>\n",
       "    </tr>\n",
       "    <tr>\n",
       "      <th>209390</th>\n",
       "      <td>1</td>\n",
       "      <td>3.5</td>\n",
       "      <td>False</td>\n",
       "      <td>True</td>\n",
       "      <td>True</td>\n",
       "      <td>True</td>\n",
       "      <td>True</td>\n",
       "      <td>Scottsdale_AZ</td>\n",
       "      <td>852</td>\n",
       "      <td>2.0</td>\n",
       "      <td>31.0</td>\n",
       "      <td>553.0</td>\n",
       "      <td>39</td>\n",
       "      <td>25</td>\n",
       "      <td>25</td>\n",
       "      <td>97</td>\n",
       "      <td>107.840000</td>\n",
       "    </tr>\n",
       "  </tbody>\n",
       "</table>\n",
       "<p>99887 rows × 17 columns</p>\n",
       "</div>"
      ],
      "text/plain": [
       "        rating_category  stars  Beauty & Spas  BusinessAcceptsCreditCards  \\\n",
       "1                     2    5.0          False                       False   \n",
       "3                     0    2.5          False                        True   \n",
       "4                     2    4.5          False                        True   \n",
       "5                     2    4.5          False                        True   \n",
       "6                     1    3.5          False                        True   \n",
       "...                 ...    ...            ...                         ...   \n",
       "209380                0    2.0          False                        True   \n",
       "209382                2    4.5          False                       False   \n",
       "209384                2    5.0          False                        True   \n",
       "209386                2    5.0          False                        True   \n",
       "209390                1    3.5          False                        True   \n",
       "\n",
       "        Restaurants  is_open  parking_lot          city_state zip3  \\\n",
       "1             False     True        False       Scottsdale_AZ  852   \n",
       "3             False    False         True  North Las Vegas_NV  890   \n",
       "4             False     True        False             Mesa_AZ  852   \n",
       "5             False     True        False          Gilbert_AZ  852   \n",
       "6             False     True         True        Las Vegas_NV  891   \n",
       "...             ...      ...          ...                 ...  ...   \n",
       "209380         True     True         True          Phoenix_AZ  850   \n",
       "209382        False     True        False        Las Vegas_NV  891   \n",
       "209384        False     True        False           Tempe _AZ  852   \n",
       "209386        False     True        False        Las Vegas_NV  891   \n",
       "209390         True     True         True       Scottsdale_AZ  852   \n",
       "\n",
       "        RestaurantsPriceRange2  text  checkin_count  useful_count  cool_count  \\\n",
       "1                          NaN   NaN            9.0             4           1   \n",
       "3                          4.0   NaN            3.0             1           0   \n",
       "4                          NaN   NaN            1.0            11           3   \n",
       "5                          NaN   4.0           39.0            25           2   \n",
       "6                          1.0  22.0          328.0            50          22   \n",
       "...                        ...   ...            ...           ...         ...   \n",
       "209380                     2.0  32.0          253.0            43          27   \n",
       "209382                     NaN   9.0          168.0            73          30   \n",
       "209384                     NaN   NaN            9.0             1           0   \n",
       "209386                     NaN  11.0            8.0            89          49   \n",
       "209390                     2.0  31.0          553.0            39          25   \n",
       "\n",
       "        funny_count  review_count  review_word_count  \n",
       "1                 2             4         121.000000  \n",
       "3                 0             3          26.666667  \n",
       "4                 6            26          86.962963  \n",
       "5                 6            38          81.690476  \n",
       "6                18            81         111.097561  \n",
       "...             ...           ...                ...  \n",
       "209380           26           106         103.944954  \n",
       "209382           10           124         143.593985  \n",
       "209384            0             5          65.200000  \n",
       "209386           52           217         100.977679  \n",
       "209390           25            97         107.840000  \n",
       "\n",
       "[99887 rows x 17 columns]"
      ]
     },
     "execution_count": 3,
     "metadata": {},
     "output_type": "execute_result"
    }
   ],
   "source": [
    "df_business_eda"
   ]
  },
  {
   "cell_type": "code",
   "execution_count": 4,
   "metadata": {},
   "outputs": [
    {
     "data": {
      "text/html": [
       "<div>\n",
       "<style scoped>\n",
       "    .dataframe tbody tr th:only-of-type {\n",
       "        vertical-align: middle;\n",
       "    }\n",
       "\n",
       "    .dataframe tbody tr th {\n",
       "        vertical-align: top;\n",
       "    }\n",
       "\n",
       "    .dataframe thead th {\n",
       "        text-align: right;\n",
       "    }\n",
       "</style>\n",
       "<table border=\"1\" class=\"dataframe\">\n",
       "  <thead>\n",
       "    <tr style=\"text-align: right;\">\n",
       "      <th></th>\n",
       "      <th>rating_category</th>\n",
       "      <th>stars</th>\n",
       "      <th>Beauty &amp; Spas</th>\n",
       "      <th>BusinessAcceptsCreditCards</th>\n",
       "      <th>Restaurants</th>\n",
       "      <th>is_open</th>\n",
       "      <th>parking_lot</th>\n",
       "      <th>RestaurantsPriceRange2</th>\n",
       "      <th>text</th>\n",
       "      <th>checkin_count</th>\n",
       "      <th>...</th>\n",
       "      <th>zip3_928</th>\n",
       "      <th>zip3_930</th>\n",
       "      <th>zip3_940</th>\n",
       "      <th>zip3_952</th>\n",
       "      <th>zip3_953</th>\n",
       "      <th>zip3_959</th>\n",
       "      <th>zip3_967</th>\n",
       "      <th>zip3_981</th>\n",
       "      <th>zip3_nan</th>\n",
       "      <th>zip3_nan</th>\n",
       "    </tr>\n",
       "  </thead>\n",
       "  <tbody>\n",
       "    <tr>\n",
       "      <th>1</th>\n",
       "      <td>2</td>\n",
       "      <td>5.0</td>\n",
       "      <td>False</td>\n",
       "      <td>False</td>\n",
       "      <td>False</td>\n",
       "      <td>True</td>\n",
       "      <td>False</td>\n",
       "      <td>False</td>\n",
       "      <td>False</td>\n",
       "      <td>9</td>\n",
       "      <td>...</td>\n",
       "      <td>0</td>\n",
       "      <td>0</td>\n",
       "      <td>0</td>\n",
       "      <td>0</td>\n",
       "      <td>0</td>\n",
       "      <td>0</td>\n",
       "      <td>0</td>\n",
       "      <td>0</td>\n",
       "      <td>0</td>\n",
       "      <td>0</td>\n",
       "    </tr>\n",
       "    <tr>\n",
       "      <th>3</th>\n",
       "      <td>0</td>\n",
       "      <td>2.5</td>\n",
       "      <td>False</td>\n",
       "      <td>True</td>\n",
       "      <td>False</td>\n",
       "      <td>False</td>\n",
       "      <td>True</td>\n",
       "      <td>4</td>\n",
       "      <td>False</td>\n",
       "      <td>3</td>\n",
       "      <td>...</td>\n",
       "      <td>0</td>\n",
       "      <td>0</td>\n",
       "      <td>0</td>\n",
       "      <td>0</td>\n",
       "      <td>0</td>\n",
       "      <td>0</td>\n",
       "      <td>0</td>\n",
       "      <td>0</td>\n",
       "      <td>0</td>\n",
       "      <td>0</td>\n",
       "    </tr>\n",
       "    <tr>\n",
       "      <th>4</th>\n",
       "      <td>2</td>\n",
       "      <td>4.5</td>\n",
       "      <td>False</td>\n",
       "      <td>True</td>\n",
       "      <td>False</td>\n",
       "      <td>True</td>\n",
       "      <td>False</td>\n",
       "      <td>False</td>\n",
       "      <td>False</td>\n",
       "      <td>1</td>\n",
       "      <td>...</td>\n",
       "      <td>0</td>\n",
       "      <td>0</td>\n",
       "      <td>0</td>\n",
       "      <td>0</td>\n",
       "      <td>0</td>\n",
       "      <td>0</td>\n",
       "      <td>0</td>\n",
       "      <td>0</td>\n",
       "      <td>0</td>\n",
       "      <td>0</td>\n",
       "    </tr>\n",
       "    <tr>\n",
       "      <th>5</th>\n",
       "      <td>2</td>\n",
       "      <td>4.5</td>\n",
       "      <td>False</td>\n",
       "      <td>True</td>\n",
       "      <td>False</td>\n",
       "      <td>True</td>\n",
       "      <td>False</td>\n",
       "      <td>False</td>\n",
       "      <td>4</td>\n",
       "      <td>39</td>\n",
       "      <td>...</td>\n",
       "      <td>0</td>\n",
       "      <td>0</td>\n",
       "      <td>0</td>\n",
       "      <td>0</td>\n",
       "      <td>0</td>\n",
       "      <td>0</td>\n",
       "      <td>0</td>\n",
       "      <td>0</td>\n",
       "      <td>0</td>\n",
       "      <td>0</td>\n",
       "    </tr>\n",
       "    <tr>\n",
       "      <th>6</th>\n",
       "      <td>1</td>\n",
       "      <td>3.5</td>\n",
       "      <td>False</td>\n",
       "      <td>True</td>\n",
       "      <td>False</td>\n",
       "      <td>True</td>\n",
       "      <td>True</td>\n",
       "      <td>1</td>\n",
       "      <td>22</td>\n",
       "      <td>328</td>\n",
       "      <td>...</td>\n",
       "      <td>0</td>\n",
       "      <td>0</td>\n",
       "      <td>0</td>\n",
       "      <td>0</td>\n",
       "      <td>0</td>\n",
       "      <td>0</td>\n",
       "      <td>0</td>\n",
       "      <td>0</td>\n",
       "      <td>0</td>\n",
       "      <td>0</td>\n",
       "    </tr>\n",
       "  </tbody>\n",
       "</table>\n",
       "<p>5 rows × 276 columns</p>\n",
       "</div>"
      ],
      "text/plain": [
       "   rating_category  stars  Beauty & Spas  BusinessAcceptsCreditCards  \\\n",
       "1                2    5.0          False                       False   \n",
       "3                0    2.5          False                        True   \n",
       "4                2    4.5          False                        True   \n",
       "5                2    4.5          False                        True   \n",
       "6                1    3.5          False                        True   \n",
       "\n",
       "   Restaurants  is_open  parking_lot RestaurantsPriceRange2   text  \\\n",
       "1        False     True        False                  False  False   \n",
       "3        False    False         True                      4  False   \n",
       "4        False     True        False                  False  False   \n",
       "5        False     True        False                  False      4   \n",
       "6        False     True         True                      1     22   \n",
       "\n",
       "  checkin_count  ...  zip3_928  zip3_930  zip3_940  zip3_952  zip3_953  \\\n",
       "1             9  ...         0         0         0         0         0   \n",
       "3             3  ...         0         0         0         0         0   \n",
       "4             1  ...         0         0         0         0         0   \n",
       "5            39  ...         0         0         0         0         0   \n",
       "6           328  ...         0         0         0         0         0   \n",
       "\n",
       "   zip3_959  zip3_967  zip3_981  zip3_nan  zip3_nan  \n",
       "1         0         0         0         0         0  \n",
       "3         0         0         0         0         0  \n",
       "4         0         0         0         0         0  \n",
       "5         0         0         0         0         0  \n",
       "6         0         0         0         0         0  \n",
       "\n",
       "[5 rows x 276 columns]"
      ]
     },
     "execution_count": 4,
     "metadata": {},
     "output_type": "execute_result"
    }
   ],
   "source": [
    "categorical_cols=df_business_eda.select_dtypes(include=['object']).columns\n",
    "\n",
    "df_business_hot=df_business_eda\n",
    "\n",
    "for col in categorical_cols:\n",
    "    dummies=pd.get_dummies(df_business_hot[col], dummy_na=True, prefix=col)\n",
    "    df_business_hot=df_business_hot.\\\n",
    "        drop(col,axis=1).\\\n",
    "    merge(\n",
    "        dummies,\n",
    "        how='left',\n",
    "        left_index=True,\n",
    "        right_index=True\n",
    "        )\n",
    "    \n",
    "df_business_hot=df_business_hot.fillna(False)\n",
    "df_business_hot.head()"
   ]
  },
  {
   "cell_type": "code",
   "execution_count": 5,
   "metadata": {},
   "outputs": [],
   "source": [
    "df_business_hot[\"above_average\"] = ny.where(df_business_hot[\"stars\"] > 3.5, 0, 1)\n",
    "y=df_business_hot.rating_category\n",
    "y2 = df_business_hot[\"above_average\"]\n",
    "X=df_business_hot.drop([\"rating_category\", \"stars\",\"above_average\"], axis=1)"
   ]
  },
  {
   "cell_type": "code",
   "execution_count": 6,
   "metadata": {},
   "outputs": [
    {
     "name": "stdout",
     "output_type": "stream",
     "text": [
      "ShuffleSplit(n_splits=5, random_state=123, test_size=0.2, train_size=None)\n"
     ]
    }
   ],
   "source": [
    "num_cv_iterations = 5\n",
    "num_instances = len(y)\n",
    "cv_object = ms.ShuffleSplit(n_splits=num_cv_iterations,\n",
    "                         random_state=123,\n",
    "                         test_size  = 0.2)\n",
    "                         \n",
    "print(cv_object)"
   ]
  },
  {
   "cell_type": "code",
   "execution_count": 7,
   "metadata": {},
   "outputs": [],
   "source": [
    "def cv_train(name,model,x,y):\n",
    "    print(f\"====Performing Cross Validation for {name}\")\n",
    "    print(f\" Iteration \", end = '')\n",
    "\n",
    "\n",
    "    iter_num=0\n",
    "    \n",
    "    res=pd.DataFrame()\n",
    "\n",
    "    for train_indices, test_indices in cv_object.split(x,y):\n",
    "        t = time.time()\n",
    "        print(f\" {iter_num},\", end = '')\n",
    "\n",
    "        X_train = x.iloc[train_indices]\n",
    "        y_train = y.iloc[train_indices]\n",
    "\n",
    "        X_test = x.iloc[test_indices]\n",
    "        y_test = y.iloc[test_indices]\n",
    "\n",
    "        model.fit(X_train,y_train)  # train object\n",
    "        y_hat = model.predict(X_test) # get test set precitions\n",
    "\n",
    "        conf = mt.confusion_matrix(y_test,y_hat)\n",
    "        \n",
    "        row=pd.DataFrame([iter_num],columns=['Iteration'])\n",
    "        row[\"accuracy\"]=accuracy_score(y_test, y_hat)\n",
    "        row[\"precision\"]=precision_score(y_test, y_hat, average=\"macro\")\n",
    "        row[\"recall\"]=recall_score(y_test, y_hat, average=\"macro\")\n",
    "        row[\"f1\"]=f1_score(y_test, y_hat, average=\"macro\")\n",
    "        row[\"elapsed_time\"]= ny.round(time.time() - t)\n",
    "\n",
    "        res=res.append(row)\n",
    "        iter_num+=1\n",
    "    \n",
    "    #Summarize CV Results \n",
    "    summary=res.drop(\"Iteration\",axis=1).agg(\"mean\").to_frame().T\n",
    "    summary.insert(0,\"model\",model)\n",
    "    summary.insert(0,\"name\",name)\n",
    "    print(\"  Cross-validation complete\")\n",
    "\n",
    "    return(summary)"
   ]
  },
  {
   "cell_type": "markdown",
   "metadata": {},
   "source": [
    "# Logistic Regression"
   ]
  },
  {
   "cell_type": "markdown",
   "metadata": {},
   "source": [
    "## 3 Classes"
   ]
  },
  {
   "cell_type": "code",
   "execution_count": 8,
   "metadata": {},
   "outputs": [],
   "source": [
    "linear_model = LogisticRegression(penalty='l2', C=1.0, class_weight=None, solver='liblinear' )"
   ]
  },
  {
   "cell_type": "markdown",
   "metadata": {},
   "source": [
    "Tried all solvers (‘newton-cg’, ‘lbfgs’, ‘liblinear’, ‘sag’, ‘saga’), liblinear --> gives the best accuracy"
   ]
  },
  {
   "cell_type": "code",
   "execution_count": 9,
   "metadata": {},
   "outputs": [
    {
     "name": "stdout",
     "output_type": "stream",
     "text": [
      "====Performing Cross Validation for linear_model\n",
      " Iteration  0, 1, 2, 3, 4,  Cross-validation complete\n"
     ]
    },
    {
     "data": {
      "text/html": [
       "<div>\n",
       "<style scoped>\n",
       "    .dataframe tbody tr th:only-of-type {\n",
       "        vertical-align: middle;\n",
       "    }\n",
       "\n",
       "    .dataframe tbody tr th {\n",
       "        vertical-align: top;\n",
       "    }\n",
       "\n",
       "    .dataframe thead th {\n",
       "        text-align: right;\n",
       "    }\n",
       "</style>\n",
       "<table border=\"1\" class=\"dataframe\">\n",
       "  <thead>\n",
       "    <tr style=\"text-align: right;\">\n",
       "      <th></th>\n",
       "      <th>name</th>\n",
       "      <th>model</th>\n",
       "      <th>accuracy</th>\n",
       "      <th>precision</th>\n",
       "      <th>recall</th>\n",
       "      <th>f1</th>\n",
       "      <th>elapsed_time</th>\n",
       "    </tr>\n",
       "  </thead>\n",
       "  <tbody>\n",
       "    <tr>\n",
       "      <th>0</th>\n",
       "      <td>linear_model</td>\n",
       "      <td>LogisticRegression(solver='liblinear')</td>\n",
       "      <td>0.582411</td>\n",
       "      <td>0.541641</td>\n",
       "      <td>0.473398</td>\n",
       "      <td>0.472385</td>\n",
       "      <td>5.6</td>\n",
       "    </tr>\n",
       "  </tbody>\n",
       "</table>\n",
       "</div>"
      ],
      "text/plain": [
       "           name                                   model  accuracy  precision  \\\n",
       "0  linear_model  LogisticRegression(solver='liblinear')  0.582411   0.541641   \n",
       "\n",
       "     recall        f1  elapsed_time  \n",
       "0  0.473398  0.472385           5.6  "
      ]
     },
     "execution_count": 9,
     "metadata": {},
     "output_type": "execute_result"
    }
   ],
   "source": [
    "cv_train(\"linear_model\",linear_model, X, y)"
   ]
  },
  {
   "cell_type": "markdown",
   "metadata": {},
   "source": [
    "## 2 Class"
   ]
  },
  {
   "cell_type": "code",
   "execution_count": 10,
   "metadata": {},
   "outputs": [
    {
     "name": "stdout",
     "output_type": "stream",
     "text": [
      "====Performing Cross Validation for linear_model_binary\n",
      " Iteration  0, 1, 2, 3, 4,  Cross-validation complete\n"
     ]
    },
    {
     "data": {
      "text/html": [
       "<div>\n",
       "<style scoped>\n",
       "    .dataframe tbody tr th:only-of-type {\n",
       "        vertical-align: middle;\n",
       "    }\n",
       "\n",
       "    .dataframe tbody tr th {\n",
       "        vertical-align: top;\n",
       "    }\n",
       "\n",
       "    .dataframe thead th {\n",
       "        text-align: right;\n",
       "    }\n",
       "</style>\n",
       "<table border=\"1\" class=\"dataframe\">\n",
       "  <thead>\n",
       "    <tr style=\"text-align: right;\">\n",
       "      <th></th>\n",
       "      <th>name</th>\n",
       "      <th>model</th>\n",
       "      <th>accuracy</th>\n",
       "      <th>precision</th>\n",
       "      <th>recall</th>\n",
       "      <th>f1</th>\n",
       "      <th>elapsed_time</th>\n",
       "    </tr>\n",
       "  </thead>\n",
       "  <tbody>\n",
       "    <tr>\n",
       "      <th>0</th>\n",
       "      <td>linear_model_binary</td>\n",
       "      <td>LogisticRegression(solver='liblinear')</td>\n",
       "      <td>0.690039</td>\n",
       "      <td>0.691012</td>\n",
       "      <td>0.688876</td>\n",
       "      <td>0.688678</td>\n",
       "      <td>3.2</td>\n",
       "    </tr>\n",
       "  </tbody>\n",
       "</table>\n",
       "</div>"
      ],
      "text/plain": [
       "                  name                                   model  accuracy  \\\n",
       "0  linear_model_binary  LogisticRegression(solver='liblinear')  0.690039   \n",
       "\n",
       "   precision    recall        f1  elapsed_time  \n",
       "0   0.691012  0.688876  0.688678           3.2  "
      ]
     },
     "execution_count": 10,
     "metadata": {},
     "output_type": "execute_result"
    }
   ],
   "source": [
    "cv_train(\"linear_model_binary\",linear_model, X, y2)"
   ]
  },
  {
   "cell_type": "markdown",
   "metadata": {},
   "source": [
    "## Logistic Regression - Stoichastic Gradient Descent "
   ]
  },
  {
   "cell_type": "markdown",
   "metadata": {},
   "source": [
    "## 3 Class"
   ]
  },
  {
   "cell_type": "code",
   "execution_count": 11,
   "metadata": {},
   "outputs": [],
   "source": [
    "log_model = lm.SGDClassifier(n_jobs=-1, loss=\"log\")"
   ]
  },
  {
   "cell_type": "markdown",
   "metadata": {},
   "source": [
    "## 3 class"
   ]
  },
  {
   "cell_type": "code",
   "execution_count": 12,
   "metadata": {},
   "outputs": [
    {
     "name": "stdout",
     "output_type": "stream",
     "text": [
      "====Performing Cross Validation for sgd_logistic\n",
      " Iteration  0, 1, 2, 3, 4,  Cross-validation complete\n"
     ]
    },
    {
     "data": {
      "text/html": [
       "<div>\n",
       "<style scoped>\n",
       "    .dataframe tbody tr th:only-of-type {\n",
       "        vertical-align: middle;\n",
       "    }\n",
       "\n",
       "    .dataframe tbody tr th {\n",
       "        vertical-align: top;\n",
       "    }\n",
       "\n",
       "    .dataframe thead th {\n",
       "        text-align: right;\n",
       "    }\n",
       "</style>\n",
       "<table border=\"1\" class=\"dataframe\">\n",
       "  <thead>\n",
       "    <tr style=\"text-align: right;\">\n",
       "      <th></th>\n",
       "      <th>name</th>\n",
       "      <th>model</th>\n",
       "      <th>accuracy</th>\n",
       "      <th>precision</th>\n",
       "      <th>recall</th>\n",
       "      <th>f1</th>\n",
       "      <th>elapsed_time</th>\n",
       "    </tr>\n",
       "  </thead>\n",
       "  <tbody>\n",
       "    <tr>\n",
       "      <th>0</th>\n",
       "      <td>sgd_logistic</td>\n",
       "      <td>SGDClassifier(loss='log', n_jobs=-1)</td>\n",
       "      <td>0.515737</td>\n",
       "      <td>0.415606</td>\n",
       "      <td>0.437295</td>\n",
       "      <td>0.392106</td>\n",
       "      <td>3.0</td>\n",
       "    </tr>\n",
       "  </tbody>\n",
       "</table>\n",
       "</div>"
      ],
      "text/plain": [
       "           name                                 model  accuracy  precision  \\\n",
       "0  sgd_logistic  SGDClassifier(loss='log', n_jobs=-1)  0.515737   0.415606   \n",
       "\n",
       "     recall        f1  elapsed_time  \n",
       "0  0.437295  0.392106           3.0  "
      ]
     },
     "execution_count": 12,
     "metadata": {},
     "output_type": "execute_result"
    }
   ],
   "source": [
    "cv_train(\"sgd_logistic\",log_model, X, y)"
   ]
  },
  {
   "cell_type": "markdown",
   "metadata": {},
   "source": [
    "## 2 class"
   ]
  },
  {
   "cell_type": "code",
   "execution_count": 13,
   "metadata": {},
   "outputs": [
    {
     "name": "stdout",
     "output_type": "stream",
     "text": [
      "====Performing Cross Validation for sgd_logistic_binary\n",
      " Iteration  0, 1, 2, 3, 4,  Cross-validation complete\n"
     ]
    },
    {
     "data": {
      "text/html": [
       "<div>\n",
       "<style scoped>\n",
       "    .dataframe tbody tr th:only-of-type {\n",
       "        vertical-align: middle;\n",
       "    }\n",
       "\n",
       "    .dataframe tbody tr th {\n",
       "        vertical-align: top;\n",
       "    }\n",
       "\n",
       "    .dataframe thead th {\n",
       "        text-align: right;\n",
       "    }\n",
       "</style>\n",
       "<table border=\"1\" class=\"dataframe\">\n",
       "  <thead>\n",
       "    <tr style=\"text-align: right;\">\n",
       "      <th></th>\n",
       "      <th>name</th>\n",
       "      <th>model</th>\n",
       "      <th>accuracy</th>\n",
       "      <th>precision</th>\n",
       "      <th>recall</th>\n",
       "      <th>f1</th>\n",
       "      <th>elapsed_time</th>\n",
       "    </tr>\n",
       "  </thead>\n",
       "  <tbody>\n",
       "    <tr>\n",
       "      <th>0</th>\n",
       "      <td>sgd_logistic_binary</td>\n",
       "      <td>SGDClassifier(loss='log', n_jobs=-1)</td>\n",
       "      <td>0.620362</td>\n",
       "      <td>0.625082</td>\n",
       "      <td>0.619219</td>\n",
       "      <td>0.614774</td>\n",
       "      <td>2.0</td>\n",
       "    </tr>\n",
       "  </tbody>\n",
       "</table>\n",
       "</div>"
      ],
      "text/plain": [
       "                  name                                 model  accuracy  \\\n",
       "0  sgd_logistic_binary  SGDClassifier(loss='log', n_jobs=-1)  0.620362   \n",
       "\n",
       "   precision    recall        f1  elapsed_time  \n",
       "0   0.625082  0.619219  0.614774           2.0  "
      ]
     },
     "execution_count": 13,
     "metadata": {},
     "output_type": "execute_result"
    }
   ],
   "source": [
    "cv_train(\"sgd_logistic_binary\",log_model, X, y2)"
   ]
  },
  {
   "cell_type": "markdown",
   "metadata": {},
   "source": [
    "# Support Vector Machine"
   ]
  },
  {
   "cell_type": "code",
   "execution_count": 14,
   "metadata": {},
   "outputs": [],
   "source": [
    "svm_model = lm.SGDClassifier(n_jobs=-1, loss=\"hinge\")"
   ]
  },
  {
   "cell_type": "markdown",
   "metadata": {},
   "source": [
    "## 3 Class"
   ]
  },
  {
   "cell_type": "code",
   "execution_count": 15,
   "metadata": {},
   "outputs": [
    {
     "name": "stdout",
     "output_type": "stream",
     "text": [
      "====Performing Cross Validation for sgd_svm\n",
      " Iteration  0, 1, 2, 3, 4,  Cross-validation complete\n"
     ]
    },
    {
     "data": {
      "text/html": [
       "<div>\n",
       "<style scoped>\n",
       "    .dataframe tbody tr th:only-of-type {\n",
       "        vertical-align: middle;\n",
       "    }\n",
       "\n",
       "    .dataframe tbody tr th {\n",
       "        vertical-align: top;\n",
       "    }\n",
       "\n",
       "    .dataframe thead th {\n",
       "        text-align: right;\n",
       "    }\n",
       "</style>\n",
       "<table border=\"1\" class=\"dataframe\">\n",
       "  <thead>\n",
       "    <tr style=\"text-align: right;\">\n",
       "      <th></th>\n",
       "      <th>name</th>\n",
       "      <th>model</th>\n",
       "      <th>accuracy</th>\n",
       "      <th>precision</th>\n",
       "      <th>recall</th>\n",
       "      <th>f1</th>\n",
       "      <th>elapsed_time</th>\n",
       "    </tr>\n",
       "  </thead>\n",
       "  <tbody>\n",
       "    <tr>\n",
       "      <th>0</th>\n",
       "      <td>sgd_svm</td>\n",
       "      <td>SGDClassifier(n_jobs=-1)</td>\n",
       "      <td>0.507118</td>\n",
       "      <td>0.459914</td>\n",
       "      <td>0.455165</td>\n",
       "      <td>0.422441</td>\n",
       "      <td>2.4</td>\n",
       "    </tr>\n",
       "  </tbody>\n",
       "</table>\n",
       "</div>"
      ],
      "text/plain": [
       "      name                     model  accuracy  precision    recall        f1  \\\n",
       "0  sgd_svm  SGDClassifier(n_jobs=-1)  0.507118   0.459914  0.455165  0.422441   \n",
       "\n",
       "   elapsed_time  \n",
       "0           2.4  "
      ]
     },
     "execution_count": 15,
     "metadata": {},
     "output_type": "execute_result"
    }
   ],
   "source": [
    "cv_train(\"sgd_svm\",svm_model, X, y)"
   ]
  },
  {
   "cell_type": "markdown",
   "metadata": {},
   "source": [
    "## 2 Class"
   ]
  },
  {
   "cell_type": "code",
   "execution_count": 16,
   "metadata": {},
   "outputs": [
    {
     "name": "stdout",
     "output_type": "stream",
     "text": [
      "====Performing Cross Validation for sgd_svm_binary\n",
      " Iteration  0, 1, 2, 3, 4,  Cross-validation complete\n"
     ]
    },
    {
     "data": {
      "text/html": [
       "<div>\n",
       "<style scoped>\n",
       "    .dataframe tbody tr th:only-of-type {\n",
       "        vertical-align: middle;\n",
       "    }\n",
       "\n",
       "    .dataframe tbody tr th {\n",
       "        vertical-align: top;\n",
       "    }\n",
       "\n",
       "    .dataframe thead th {\n",
       "        text-align: right;\n",
       "    }\n",
       "</style>\n",
       "<table border=\"1\" class=\"dataframe\">\n",
       "  <thead>\n",
       "    <tr style=\"text-align: right;\">\n",
       "      <th></th>\n",
       "      <th>name</th>\n",
       "      <th>model</th>\n",
       "      <th>accuracy</th>\n",
       "      <th>precision</th>\n",
       "      <th>recall</th>\n",
       "      <th>f1</th>\n",
       "      <th>elapsed_time</th>\n",
       "    </tr>\n",
       "  </thead>\n",
       "  <tbody>\n",
       "    <tr>\n",
       "      <th>0</th>\n",
       "      <td>sgd_svm_binary</td>\n",
       "      <td>SGDClassifier(n_jobs=-1)</td>\n",
       "      <td>0.63623</td>\n",
       "      <td>0.662909</td>\n",
       "      <td>0.634812</td>\n",
       "      <td>0.615764</td>\n",
       "      <td>2.0</td>\n",
       "    </tr>\n",
       "  </tbody>\n",
       "</table>\n",
       "</div>"
      ],
      "text/plain": [
       "             name                     model  accuracy  precision    recall  \\\n",
       "0  sgd_svm_binary  SGDClassifier(n_jobs=-1)   0.63623   0.662909  0.634812   \n",
       "\n",
       "         f1  elapsed_time  \n",
       "0  0.615764           2.0  "
      ]
     },
     "execution_count": 16,
     "metadata": {},
     "output_type": "execute_result"
    }
   ],
   "source": [
    "cv_train(\"sgd_svm_binary\",svm_model, X, y2)"
   ]
  },
  {
   "cell_type": "markdown",
   "metadata": {},
   "source": [
    "# Compare Competing Models"
   ]
  },
  {
   "cell_type": "code",
   "execution_count": null,
   "metadata": {},
   "outputs": [
    {
     "name": "stdout",
     "output_type": "stream",
     "text": [
      "====Performing Cross Validation for linear_logistic\n",
      " Iteration  0, 1, 2, 3, 4,  Cross-validation complete\n",
      "====Performing Cross Validation for linear_logistic_binary\n",
      " Iteration  0, 1, 2, 3, 4,  Cross-validation complete\n",
      "====Performing Cross Validation for sgd_logistic\n",
      " Iteration  0,"
     ]
    }
   ],
   "source": [
    "cv_train(\"linear_logistic\",linear_model, X, y).\\\n",
    "    append(cv_train(\"linear_logistic_binary\",linear_model, X, y2)).\\\n",
    "    append(cv_train(\"sgd_logistic\",log_model, X, y)).\\\n",
    "    append(cv_train(\"sgd_logistic_binary\",log_model, X, y2)).\\\n",
    "    append(cv_train(\"sgd_svm\",svm_model, X, y)).\\\n",
    "    append(cv_train(\"sgd_svm_binary\",svm_model, X, y2))"
   ]
  },
  {
   "cell_type": "markdown",
   "metadata": {},
   "source": [
    "# Model Advantages\t10"
   ]
  },
  {
   "cell_type": "markdown",
   "metadata": {},
   "source": [
    "Discuss the advantages of each model for each classification task. Does one type of model offer superior performance over another in terms of prediction accuracy? In terms of training time or efficiency? Explain in detail."
   ]
  },
  {
   "cell_type": "markdown",
   "metadata": {},
   "source": [
    "# Interpret Feature Importance\t30"
   ]
  },
  {
   "cell_type": "markdown",
   "metadata": {},
   "source": [
    "Use the weights from logistic regression to interpret the importance of different features for the classification task. Explain your interpretation in detail. Why do you think some variables are more important?"
   ]
  },
  {
   "cell_type": "markdown",
   "metadata": {},
   "source": [
    "# Interpret Support Vectors\t10"
   ]
  },
  {
   "cell_type": "markdown",
   "metadata": {},
   "source": [
    "Look at the chosen support vectors for the classification task. Do these provide any insight into the data? Explain. If you used stochastic gradient descent (and therefore did not explicitly solve for support vectors), try subsampling your data to train the SVC model— then analyze the support vectors from the subsampled dataset."
   ]
  }
 ],
 "metadata": {
  "kernelspec": {
   "display_name": "Python 3",
   "language": "python",
   "name": "python3"
  },
  "language_info": {
   "codemirror_mode": {
    "name": "ipython",
    "version": 3
   },
   "file_extension": ".py",
   "mimetype": "text/x-python",
   "name": "python",
   "nbconvert_exporter": "python",
   "pygments_lexer": "ipython3",
   "version": "3.7.7"
  }
 },
 "nbformat": 4,
 "nbformat_minor": 4
}
