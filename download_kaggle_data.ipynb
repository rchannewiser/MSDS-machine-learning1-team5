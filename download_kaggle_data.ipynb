{
 "cells": [
  {
   "cell_type": "code",
   "execution_count": 3,
   "metadata": {},
   "outputs": [
    {
     "name": "stdout",
     "output_type": "stream",
     "text": [
      "Defaulting to user installation because normal site-packages is not writeable\n",
      "Requirement already satisfied: pandasql in /home/bjholmes23/.local/lib/python3.8/site-packages (from -r requirements.txt (line 1)) (0.7.3)\n",
      "Requirement already satisfied: pandas in /home/bjholmes23/.local/lib/python3.8/site-packages (from -r requirements.txt (line 2)) (1.2.0)\n",
      "Requirement already satisfied: numpy in /home/bjholmes23/.local/lib/python3.8/site-packages (from -r requirements.txt (line 3)) (1.18.5)\n",
      "Requirement already satisfied: seaborn in /home/bjholmes23/.local/lib/python3.8/site-packages (from -r requirements.txt (line 4)) (0.11.1)\n",
      "Requirement already satisfied: matplotlib in /usr/lib/python3/dist-packages (from -r requirements.txt (line 5)) (3.1.2)\n",
      "Requirement already satisfied: plotly in /home/bjholmes23/.local/lib/python3.8/site-packages (from -r requirements.txt (line 6)) (4.14.3)\n",
      "Requirement already satisfied: python-dateutil>=2.7.3 in /usr/lib/python3/dist-packages (from pandas->-r requirements.txt (line 2)) (2.7.3)\n",
      "Requirement already satisfied: pytz>=2017.3 in /usr/lib/python3/dist-packages (from pandas->-r requirements.txt (line 2)) (2019.3)\n",
      "Requirement already satisfied: sqlalchemy in /home/bjholmes23/.local/lib/python3.8/site-packages (from pandasql->-r requirements.txt (line 1)) (1.3.22)\n",
      "Requirement already satisfied: six in /home/bjholmes23/.local/lib/python3.8/site-packages (from plotly->-r requirements.txt (line 6)) (1.15.0)\n",
      "Requirement already satisfied: retrying>=1.3.3 in /home/bjholmes23/.local/lib/python3.8/site-packages (from plotly->-r requirements.txt (line 6)) (1.3.3)\n",
      "Requirement already satisfied: scipy>=1.0 in /home/bjholmes23/.local/lib/python3.8/site-packages (from seaborn->-r requirements.txt (line 4)) (1.4.1)\n"
     ]
    }
   ],
   "source": [
    "! pip install -r requirements.txt"
   ]
  },
  {
   "cell_type": "markdown",
   "metadata": {},
   "source": [
    "# Use Kaggle API to Download and prepare data "
   ]
  },
  {
   "cell_type": "code",
   "execution_count": 6,
   "metadata": {},
   "outputs": [],
   "source": [
    "import os\n",
    "\n",
    "#Set location to store data files\n",
    "file_path=os.path.expanduser('~')+'/Documents/yelp_datasets/'\n",
    "\n",
    "#make sure you've added your API token at ~/.kaggle/kaggle.json \n",
    "\n",
    "#follow this guide \n",
    "#https://medium.com/analytics-vidhya/fetch-data-from-kaggle-with-python-9154a4c610e3\n",
    "#!chmod 600 /home/$USER/.kaggle/kaggle.json\n",
    "\n",
    "if(os.path.isdir(file_path)):\n",
    "    print(\"Files already downloaded.\")\n",
    "else: \n",
    "    from kaggle.api.kaggle_api_extended import KaggleApi\n",
    "    kapi = KaggleApi()\n",
    "    kapi.authenticate()\n",
    "\n",
    "    os.makedirs(file_path,exist_ok=True)\n",
    "    kapi.dataset_download_files(dataset='yelp-dataset/yelp-dataset', path=file_path)\n",
    "    from zipfile import ZipFile\n",
    "    zf = ZipFile(file_path + 'yelp-dataset.zip')\n",
    "\n",
    "    zf.extractall(file_path) #save files in selected folder\n",
    "    zf.close()"
   ]
  }
 ],
 "metadata": {
  "kernelspec": {
   "display_name": "Python 3",
   "language": "python",
   "name": "python3"
  },
  "language_info": {
   "codemirror_mode": {
    "name": "ipython",
    "version": 3
   },
   "file_extension": ".py",
   "mimetype": "text/x-python",
   "name": "python",
   "nbconvert_exporter": "python",
   "pygments_lexer": "ipython3",
   "version": "3.8.5"
  }
 },
 "nbformat": 4,
 "nbformat_minor": 4
}
