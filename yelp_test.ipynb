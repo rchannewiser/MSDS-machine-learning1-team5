{
 "cells": [
  {
   "cell_type": "code",
   "execution_count": 1,
   "metadata": {},
   "outputs": [
    {
     "name": "stdout",
     "output_type": "stream",
     "text": [
      "Defaulting to user installation because normal site-packages is not writeable\n",
      "Requirement already satisfied: xgboost in /home/bjholmes23/.local/lib/python3.8/site-packages (from -r requirements.txt (line 1)) (1.3.3)\n",
      "Requirement already satisfied: pandas in /home/bjholmes23/.local/lib/python3.8/site-packages (from -r requirements.txt (line 2)) (1.1.5)\n",
      "Requirement already satisfied: pandasql in /home/bjholmes23/.local/lib/python3.8/site-packages (from -r requirements.txt (line 3)) (0.7.3)\n",
      "Requirement already satisfied: numpy in /home/bjholmes23/.local/lib/python3.8/site-packages (from -r requirements.txt (line 4)) (1.18.5)\n",
      "Requirement already satisfied: seaborn in /home/bjholmes23/.local/lib/python3.8/site-packages (from -r requirements.txt (line 5)) (0.11.1)\n",
      "Requirement already satisfied: matplotlib in /usr/lib/python3/dist-packages (from -r requirements.txt (line 6)) (3.1.2)\n",
      "Requirement already satisfied: plotly in /home/bjholmes23/.local/lib/python3.8/site-packages (from -r requirements.txt (line 7)) (4.14.3)\n",
      "Requirement already satisfied: pytz>=2017.2 in /usr/lib/python3/dist-packages (from pandas->-r requirements.txt (line 2)) (2019.3)\n",
      "Requirement already satisfied: python-dateutil>=2.7.3 in /usr/lib/python3/dist-packages (from pandas->-r requirements.txt (line 2)) (2.7.3)\n",
      "Requirement already satisfied: sqlalchemy in /home/bjholmes23/.local/lib/python3.8/site-packages (from pandasql->-r requirements.txt (line 3)) (1.3.22)\n",
      "Requirement already satisfied: six in /home/bjholmes23/.local/lib/python3.8/site-packages (from plotly->-r requirements.txt (line 7)) (1.15.0)\n",
      "Requirement already satisfied: retrying>=1.3.3 in /home/bjholmes23/.local/lib/python3.8/site-packages (from plotly->-r requirements.txt (line 7)) (1.3.3)\n",
      "Requirement already satisfied: scipy>=1.0 in /home/bjholmes23/.local/lib/python3.8/site-packages (from seaborn->-r requirements.txt (line 5)) (1.4.1)\n"
     ]
    }
   ],
   "source": [
    "! pip install -r requirements.txt"
   ]
  },
  {
   "cell_type": "code",
   "execution_count": 2,
   "metadata": {},
   "outputs": [],
   "source": [
    "import pandas as pd\n",
    "import numpy as ny\n",
    "import seaborn as sb\n",
    "import matplotlib.pyplot as plt\n",
    "import plotly.express as px\n",
    "import os \n",
    "from pandasql import sqldf"
   ]
  },
  {
   "cell_type": "markdown",
   "metadata": {},
   "source": [
    "# Reading json for business"
   ]
  },
  {
   "cell_type": "code",
   "execution_count": 3,
   "metadata": {},
   "outputs": [
    {
     "data": {
      "text/plain": [
       "(209393, 14)"
      ]
     },
     "execution_count": 3,
     "metadata": {},
     "output_type": "execute_result"
    }
   ],
   "source": [
    "df_business = pd.read_json('~/Documents/yelp_datasets/yelp_academic_dataset_business.json',lines=True)\n",
    "df_business.shape"
   ]
  },
  {
   "cell_type": "code",
   "execution_count": 4,
   "metadata": {},
   "outputs": [
    {
     "data": {
      "text/html": [
       "<div>\n",
       "<style scoped>\n",
       "    .dataframe tbody tr th:only-of-type {\n",
       "        vertical-align: middle;\n",
       "    }\n",
       "\n",
       "    .dataframe tbody tr th {\n",
       "        vertical-align: top;\n",
       "    }\n",
       "\n",
       "    .dataframe thead th {\n",
       "        text-align: right;\n",
       "    }\n",
       "</style>\n",
       "<table border=\"1\" class=\"dataframe\">\n",
       "  <thead>\n",
       "    <tr style=\"text-align: right;\">\n",
       "      <th></th>\n",
       "      <th>latitude</th>\n",
       "      <th>longitude</th>\n",
       "      <th>stars</th>\n",
       "      <th>review_count</th>\n",
       "      <th>is_open</th>\n",
       "    </tr>\n",
       "  </thead>\n",
       "  <tbody>\n",
       "    <tr>\n",
       "      <th>count</th>\n",
       "      <td>209393.000000</td>\n",
       "      <td>209393.000000</td>\n",
       "      <td>209393.000000</td>\n",
       "      <td>209393.000000</td>\n",
       "      <td>209393.000000</td>\n",
       "    </tr>\n",
       "    <tr>\n",
       "      <th>mean</th>\n",
       "      <td>38.579934</td>\n",
       "      <td>-97.390217</td>\n",
       "      <td>3.538055</td>\n",
       "      <td>36.937505</td>\n",
       "      <td>0.806632</td>\n",
       "    </tr>\n",
       "    <tr>\n",
       "      <th>std</th>\n",
       "      <td>4.940448</td>\n",
       "      <td>16.718535</td>\n",
       "      <td>1.023543</td>\n",
       "      <td>123.343597</td>\n",
       "      <td>0.394940</td>\n",
       "    </tr>\n",
       "    <tr>\n",
       "      <th>min</th>\n",
       "      <td>21.497258</td>\n",
       "      <td>-158.025525</td>\n",
       "      <td>1.000000</td>\n",
       "      <td>3.000000</td>\n",
       "      <td>0.000000</td>\n",
       "    </tr>\n",
       "    <tr>\n",
       "      <th>25%</th>\n",
       "      <td>33.638658</td>\n",
       "      <td>-112.269476</td>\n",
       "      <td>3.000000</td>\n",
       "      <td>4.000000</td>\n",
       "      <td>1.000000</td>\n",
       "    </tr>\n",
       "    <tr>\n",
       "      <th>50%</th>\n",
       "      <td>36.147408</td>\n",
       "      <td>-111.743531</td>\n",
       "      <td>3.500000</td>\n",
       "      <td>9.000000</td>\n",
       "      <td>1.000000</td>\n",
       "    </tr>\n",
       "    <tr>\n",
       "      <th>75%</th>\n",
       "      <td>43.611693</td>\n",
       "      <td>-79.972679</td>\n",
       "      <td>4.500000</td>\n",
       "      <td>27.000000</td>\n",
       "      <td>1.000000</td>\n",
       "    </tr>\n",
       "    <tr>\n",
       "      <th>max</th>\n",
       "      <td>51.299943</td>\n",
       "      <td>-72.806550</td>\n",
       "      <td>5.000000</td>\n",
       "      <td>10129.000000</td>\n",
       "      <td>1.000000</td>\n",
       "    </tr>\n",
       "  </tbody>\n",
       "</table>\n",
       "</div>"
      ],
      "text/plain": [
       "            latitude      longitude          stars   review_count  \\\n",
       "count  209393.000000  209393.000000  209393.000000  209393.000000   \n",
       "mean       38.579934     -97.390217       3.538055      36.937505   \n",
       "std         4.940448      16.718535       1.023543     123.343597   \n",
       "min        21.497258    -158.025525       1.000000       3.000000   \n",
       "25%        33.638658    -112.269476       3.000000       4.000000   \n",
       "50%        36.147408    -111.743531       3.500000       9.000000   \n",
       "75%        43.611693     -79.972679       4.500000      27.000000   \n",
       "max        51.299943     -72.806550       5.000000   10129.000000   \n",
       "\n",
       "             is_open  \n",
       "count  209393.000000  \n",
       "mean        0.806632  \n",
       "std         0.394940  \n",
       "min         0.000000  \n",
       "25%         1.000000  \n",
       "50%         1.000000  \n",
       "75%         1.000000  \n",
       "max         1.000000  "
      ]
     },
     "execution_count": 4,
     "metadata": {},
     "output_type": "execute_result"
    }
   ],
   "source": [
    "df_business.describe()"
   ]
  },
  {
   "cell_type": "code",
   "execution_count": 5,
   "metadata": {},
   "outputs": [
    {
     "data": {
      "text/html": [
       "<div>\n",
       "<style scoped>\n",
       "    .dataframe tbody tr th:only-of-type {\n",
       "        vertical-align: middle;\n",
       "    }\n",
       "\n",
       "    .dataframe tbody tr th {\n",
       "        vertical-align: top;\n",
       "    }\n",
       "\n",
       "    .dataframe thead th {\n",
       "        text-align: right;\n",
       "    }\n",
       "</style>\n",
       "<table border=\"1\" class=\"dataframe\">\n",
       "  <thead>\n",
       "    <tr style=\"text-align: right;\">\n",
       "      <th></th>\n",
       "      <th>business_id</th>\n",
       "      <th>name</th>\n",
       "      <th>address</th>\n",
       "      <th>city</th>\n",
       "      <th>state</th>\n",
       "      <th>postal_code</th>\n",
       "      <th>latitude</th>\n",
       "      <th>longitude</th>\n",
       "      <th>stars</th>\n",
       "      <th>review_count</th>\n",
       "      <th>is_open</th>\n",
       "      <th>attributes</th>\n",
       "      <th>categories</th>\n",
       "      <th>hours</th>\n",
       "    </tr>\n",
       "  </thead>\n",
       "  <tbody>\n",
       "    <tr>\n",
       "      <th>0</th>\n",
       "      <td>f9NumwFMBDn751xgFiRbNA</td>\n",
       "      <td>The Range At Lake Norman</td>\n",
       "      <td>10913 Bailey Rd</td>\n",
       "      <td>Cornelius</td>\n",
       "      <td>NC</td>\n",
       "      <td>28031</td>\n",
       "      <td>35.462724</td>\n",
       "      <td>-80.852612</td>\n",
       "      <td>3.5</td>\n",
       "      <td>36</td>\n",
       "      <td>1</td>\n",
       "      <td>{'BusinessAcceptsCreditCards': 'True', 'BikePa...</td>\n",
       "      <td>Active Life, Gun/Rifle Ranges, Guns &amp; Ammo, Sh...</td>\n",
       "      <td>{'Monday': '10:0-18:0', 'Tuesday': '11:0-20:0'...</td>\n",
       "    </tr>\n",
       "    <tr>\n",
       "      <th>1</th>\n",
       "      <td>Yzvjg0SayhoZgCljUJRF9Q</td>\n",
       "      <td>Carlos Santo, NMD</td>\n",
       "      <td>8880 E Via Linda, Ste 107</td>\n",
       "      <td>Scottsdale</td>\n",
       "      <td>AZ</td>\n",
       "      <td>85258</td>\n",
       "      <td>33.569404</td>\n",
       "      <td>-111.890264</td>\n",
       "      <td>5.0</td>\n",
       "      <td>4</td>\n",
       "      <td>1</td>\n",
       "      <td>{'GoodForKids': 'True', 'ByAppointmentOnly': '...</td>\n",
       "      <td>Health &amp; Medical, Fitness &amp; Instruction, Yoga,...</td>\n",
       "      <td>None</td>\n",
       "    </tr>\n",
       "    <tr>\n",
       "      <th>2</th>\n",
       "      <td>XNoUzKckATkOD1hP6vghZg</td>\n",
       "      <td>Felinus</td>\n",
       "      <td>3554 Rue Notre-Dame O</td>\n",
       "      <td>Montreal</td>\n",
       "      <td>QC</td>\n",
       "      <td>H4C 1P4</td>\n",
       "      <td>45.479984</td>\n",
       "      <td>-73.580070</td>\n",
       "      <td>5.0</td>\n",
       "      <td>5</td>\n",
       "      <td>1</td>\n",
       "      <td>None</td>\n",
       "      <td>Pets, Pet Services, Pet Groomers</td>\n",
       "      <td>None</td>\n",
       "    </tr>\n",
       "    <tr>\n",
       "      <th>3</th>\n",
       "      <td>6OAZjbxqM5ol29BuHsil3w</td>\n",
       "      <td>Nevada House of Hose</td>\n",
       "      <td>1015 Sharp Cir</td>\n",
       "      <td>North Las Vegas</td>\n",
       "      <td>NV</td>\n",
       "      <td>89030</td>\n",
       "      <td>36.219728</td>\n",
       "      <td>-115.127725</td>\n",
       "      <td>2.5</td>\n",
       "      <td>3</td>\n",
       "      <td>0</td>\n",
       "      <td>{'BusinessAcceptsCreditCards': 'True', 'ByAppo...</td>\n",
       "      <td>Hardware Stores, Home Services, Building Suppl...</td>\n",
       "      <td>{'Monday': '7:0-16:0', 'Tuesday': '7:0-16:0', ...</td>\n",
       "    </tr>\n",
       "    <tr>\n",
       "      <th>4</th>\n",
       "      <td>51M2Kk903DFYI6gnB5I6SQ</td>\n",
       "      <td>USE MY GUY SERVICES LLC</td>\n",
       "      <td>4827 E Downing Cir</td>\n",
       "      <td>Mesa</td>\n",
       "      <td>AZ</td>\n",
       "      <td>85205</td>\n",
       "      <td>33.428065</td>\n",
       "      <td>-111.726648</td>\n",
       "      <td>4.5</td>\n",
       "      <td>26</td>\n",
       "      <td>1</td>\n",
       "      <td>{'BusinessAcceptsCreditCards': 'True', 'ByAppo...</td>\n",
       "      <td>Home Services, Plumbing, Electricians, Handyma...</td>\n",
       "      <td>{'Monday': '0:0-0:0', 'Tuesday': '9:0-16:0', '...</td>\n",
       "    </tr>\n",
       "  </tbody>\n",
       "</table>\n",
       "</div>"
      ],
      "text/plain": [
       "              business_id                      name  \\\n",
       "0  f9NumwFMBDn751xgFiRbNA  The Range At Lake Norman   \n",
       "1  Yzvjg0SayhoZgCljUJRF9Q         Carlos Santo, NMD   \n",
       "2  XNoUzKckATkOD1hP6vghZg                   Felinus   \n",
       "3  6OAZjbxqM5ol29BuHsil3w      Nevada House of Hose   \n",
       "4  51M2Kk903DFYI6gnB5I6SQ   USE MY GUY SERVICES LLC   \n",
       "\n",
       "                     address             city state postal_code   latitude  \\\n",
       "0            10913 Bailey Rd        Cornelius    NC       28031  35.462724   \n",
       "1  8880 E Via Linda, Ste 107       Scottsdale    AZ       85258  33.569404   \n",
       "2      3554 Rue Notre-Dame O         Montreal    QC     H4C 1P4  45.479984   \n",
       "3             1015 Sharp Cir  North Las Vegas    NV       89030  36.219728   \n",
       "4         4827 E Downing Cir             Mesa    AZ       85205  33.428065   \n",
       "\n",
       "    longitude  stars  review_count  is_open  \\\n",
       "0  -80.852612    3.5            36        1   \n",
       "1 -111.890264    5.0             4        1   \n",
       "2  -73.580070    5.0             5        1   \n",
       "3 -115.127725    2.5             3        0   \n",
       "4 -111.726648    4.5            26        1   \n",
       "\n",
       "                                          attributes  \\\n",
       "0  {'BusinessAcceptsCreditCards': 'True', 'BikePa...   \n",
       "1  {'GoodForKids': 'True', 'ByAppointmentOnly': '...   \n",
       "2                                               None   \n",
       "3  {'BusinessAcceptsCreditCards': 'True', 'ByAppo...   \n",
       "4  {'BusinessAcceptsCreditCards': 'True', 'ByAppo...   \n",
       "\n",
       "                                          categories  \\\n",
       "0  Active Life, Gun/Rifle Ranges, Guns & Ammo, Sh...   \n",
       "1  Health & Medical, Fitness & Instruction, Yoga,...   \n",
       "2                   Pets, Pet Services, Pet Groomers   \n",
       "3  Hardware Stores, Home Services, Building Suppl...   \n",
       "4  Home Services, Plumbing, Electricians, Handyma...   \n",
       "\n",
       "                                               hours  \n",
       "0  {'Monday': '10:0-18:0', 'Tuesday': '11:0-20:0'...  \n",
       "1                                               None  \n",
       "2                                               None  \n",
       "3  {'Monday': '7:0-16:0', 'Tuesday': '7:0-16:0', ...  \n",
       "4  {'Monday': '0:0-0:0', 'Tuesday': '9:0-16:0', '...  "
      ]
     },
     "execution_count": 5,
     "metadata": {},
     "output_type": "execute_result"
    }
   ],
   "source": [
    "df_business.head(5)"
   ]
  },
  {
   "cell_type": "code",
   "execution_count": 6,
   "metadata": {},
   "outputs": [
    {
     "name": "stdout",
     "output_type": "stream",
     "text": [
      "<class 'pandas.core.frame.DataFrame'>\n",
      "RangeIndex: 209393 entries, 0 to 209392\n",
      "Data columns (total 14 columns):\n",
      " #   Column        Non-Null Count   Dtype  \n",
      "---  ------        --------------   -----  \n",
      " 0   business_id   209393 non-null  object \n",
      " 1   name          209393 non-null  object \n",
      " 2   address       209393 non-null  object \n",
      " 3   city          209393 non-null  object \n",
      " 4   state         209393 non-null  object \n",
      " 5   postal_code   209393 non-null  object \n",
      " 6   latitude      209393 non-null  float64\n",
      " 7   longitude     209393 non-null  float64\n",
      " 8   stars         209393 non-null  float64\n",
      " 9   review_count  209393 non-null  int64  \n",
      " 10  is_open       209393 non-null  int64  \n",
      " 11  attributes    180348 non-null  object \n",
      " 12  categories    208869 non-null  object \n",
      " 13  hours         164550 non-null  object \n",
      "dtypes: float64(3), int64(2), object(9)\n",
      "memory usage: 22.4+ MB\n"
     ]
    }
   ],
   "source": [
    "df_business.info()"
   ]
  },
  {
   "cell_type": "code",
   "execution_count": 7,
   "metadata": {},
   "outputs": [],
   "source": [
    "from pandas import json_normalize"
   ]
  },
  {
   "cell_type": "code",
   "execution_count": 8,
   "metadata": {
    "scrolled": true
   },
   "outputs": [
    {
     "data": {
      "text/plain": [
       "0         {'BusinessAcceptsCreditCards': 'True', 'BikePa...\n",
       "1         {'GoodForKids': 'True', 'ByAppointmentOnly': '...\n",
       "2                                                      None\n",
       "3         {'BusinessAcceptsCreditCards': 'True', 'ByAppo...\n",
       "4         {'BusinessAcceptsCreditCards': 'True', 'ByAppo...\n",
       "                                ...                        \n",
       "209388    {'Ambience': '{'romantic': False, 'intimate': ...\n",
       "209389    {'RestaurantsPriceRange2': '1', 'BusinessParki...\n",
       "209390    {'BusinessAcceptsCreditCards': 'True', 'Restau...\n",
       "209391                                                 None\n",
       "209392                                                 None\n",
       "Name: attributes, Length: 209393, dtype: object"
      ]
     },
     "execution_count": 8,
     "metadata": {},
     "output_type": "execute_result"
    }
   ],
   "source": [
    "df_business['attributes']"
   ]
  },
  {
   "cell_type": "markdown",
   "metadata": {},
   "source": [
    "# Example to flatten a nested column"
   ]
  },
  {
   "cell_type": "code",
   "execution_count": 9,
   "metadata": {},
   "outputs": [],
   "source": [
    "df_battributes = df_business['attributes'].apply(pd.Series)"
   ]
  },
  {
   "cell_type": "code",
   "execution_count": 10,
   "metadata": {},
   "outputs": [
    {
     "data": {
      "text/html": [
       "<div>\n",
       "<style scoped>\n",
       "    .dataframe tbody tr th:only-of-type {\n",
       "        vertical-align: middle;\n",
       "    }\n",
       "\n",
       "    .dataframe tbody tr th {\n",
       "        vertical-align: top;\n",
       "    }\n",
       "\n",
       "    .dataframe thead th {\n",
       "        text-align: right;\n",
       "    }\n",
       "</style>\n",
       "<table border=\"1\" class=\"dataframe\">\n",
       "  <thead>\n",
       "    <tr style=\"text-align: right;\">\n",
       "      <th></th>\n",
       "      <th>BusinessAcceptsCreditCards</th>\n",
       "      <th>BikeParking</th>\n",
       "      <th>GoodForKids</th>\n",
       "      <th>BusinessParking</th>\n",
       "      <th>ByAppointmentOnly</th>\n",
       "      <th>RestaurantsPriceRange2</th>\n",
       "      <th>DogsAllowed</th>\n",
       "      <th>WiFi</th>\n",
       "      <th>RestaurantsAttire</th>\n",
       "      <th>RestaurantsTakeOut</th>\n",
       "      <th>...</th>\n",
       "      <th>BestNights</th>\n",
       "      <th>Music</th>\n",
       "      <th>Smoking</th>\n",
       "      <th>DietaryRestrictions</th>\n",
       "      <th>DriveThru</th>\n",
       "      <th>HairSpecializesIn</th>\n",
       "      <th>BYOBCorkage</th>\n",
       "      <th>AgesAllowed</th>\n",
       "      <th>RestaurantsCounterService</th>\n",
       "      <th>Open24Hours</th>\n",
       "    </tr>\n",
       "  </thead>\n",
       "  <tbody>\n",
       "    <tr>\n",
       "      <th>0</th>\n",
       "      <td>True</td>\n",
       "      <td>True</td>\n",
       "      <td>False</td>\n",
       "      <td>{'garage': False, 'street': False, 'validated'...</td>\n",
       "      <td>False</td>\n",
       "      <td>3</td>\n",
       "      <td>NaN</td>\n",
       "      <td>NaN</td>\n",
       "      <td>NaN</td>\n",
       "      <td>NaN</td>\n",
       "      <td>...</td>\n",
       "      <td>NaN</td>\n",
       "      <td>NaN</td>\n",
       "      <td>NaN</td>\n",
       "      <td>NaN</td>\n",
       "      <td>NaN</td>\n",
       "      <td>NaN</td>\n",
       "      <td>NaN</td>\n",
       "      <td>NaN</td>\n",
       "      <td>NaN</td>\n",
       "      <td>NaN</td>\n",
       "    </tr>\n",
       "    <tr>\n",
       "      <th>1</th>\n",
       "      <td>NaN</td>\n",
       "      <td>NaN</td>\n",
       "      <td>True</td>\n",
       "      <td>NaN</td>\n",
       "      <td>True</td>\n",
       "      <td>NaN</td>\n",
       "      <td>NaN</td>\n",
       "      <td>NaN</td>\n",
       "      <td>NaN</td>\n",
       "      <td>NaN</td>\n",
       "      <td>...</td>\n",
       "      <td>NaN</td>\n",
       "      <td>NaN</td>\n",
       "      <td>NaN</td>\n",
       "      <td>NaN</td>\n",
       "      <td>NaN</td>\n",
       "      <td>NaN</td>\n",
       "      <td>NaN</td>\n",
       "      <td>NaN</td>\n",
       "      <td>NaN</td>\n",
       "      <td>NaN</td>\n",
       "    </tr>\n",
       "    <tr>\n",
       "      <th>2</th>\n",
       "      <td>NaN</td>\n",
       "      <td>NaN</td>\n",
       "      <td>NaN</td>\n",
       "      <td>NaN</td>\n",
       "      <td>NaN</td>\n",
       "      <td>NaN</td>\n",
       "      <td>NaN</td>\n",
       "      <td>NaN</td>\n",
       "      <td>NaN</td>\n",
       "      <td>NaN</td>\n",
       "      <td>...</td>\n",
       "      <td>NaN</td>\n",
       "      <td>NaN</td>\n",
       "      <td>NaN</td>\n",
       "      <td>NaN</td>\n",
       "      <td>NaN</td>\n",
       "      <td>NaN</td>\n",
       "      <td>NaN</td>\n",
       "      <td>NaN</td>\n",
       "      <td>NaN</td>\n",
       "      <td>NaN</td>\n",
       "    </tr>\n",
       "    <tr>\n",
       "      <th>3</th>\n",
       "      <td>True</td>\n",
       "      <td>True</td>\n",
       "      <td>NaN</td>\n",
       "      <td>{'garage': False, 'street': False, 'validated'...</td>\n",
       "      <td>False</td>\n",
       "      <td>4</td>\n",
       "      <td>True</td>\n",
       "      <td>NaN</td>\n",
       "      <td>NaN</td>\n",
       "      <td>NaN</td>\n",
       "      <td>...</td>\n",
       "      <td>NaN</td>\n",
       "      <td>NaN</td>\n",
       "      <td>NaN</td>\n",
       "      <td>NaN</td>\n",
       "      <td>NaN</td>\n",
       "      <td>NaN</td>\n",
       "      <td>NaN</td>\n",
       "      <td>NaN</td>\n",
       "      <td>NaN</td>\n",
       "      <td>NaN</td>\n",
       "    </tr>\n",
       "    <tr>\n",
       "      <th>4</th>\n",
       "      <td>True</td>\n",
       "      <td>NaN</td>\n",
       "      <td>NaN</td>\n",
       "      <td>NaN</td>\n",
       "      <td>True</td>\n",
       "      <td>NaN</td>\n",
       "      <td>NaN</td>\n",
       "      <td>NaN</td>\n",
       "      <td>NaN</td>\n",
       "      <td>NaN</td>\n",
       "      <td>...</td>\n",
       "      <td>NaN</td>\n",
       "      <td>NaN</td>\n",
       "      <td>NaN</td>\n",
       "      <td>NaN</td>\n",
       "      <td>NaN</td>\n",
       "      <td>NaN</td>\n",
       "      <td>NaN</td>\n",
       "      <td>NaN</td>\n",
       "      <td>NaN</td>\n",
       "      <td>NaN</td>\n",
       "    </tr>\n",
       "  </tbody>\n",
       "</table>\n",
       "<p>5 rows × 39 columns</p>\n",
       "</div>"
      ],
      "text/plain": [
       "  BusinessAcceptsCreditCards BikeParking GoodForKids  \\\n",
       "0                       True        True       False   \n",
       "1                        NaN         NaN        True   \n",
       "2                        NaN         NaN         NaN   \n",
       "3                       True        True         NaN   \n",
       "4                       True         NaN         NaN   \n",
       "\n",
       "                                     BusinessParking ByAppointmentOnly  \\\n",
       "0  {'garage': False, 'street': False, 'validated'...             False   \n",
       "1                                                NaN              True   \n",
       "2                                                NaN               NaN   \n",
       "3  {'garage': False, 'street': False, 'validated'...             False   \n",
       "4                                                NaN              True   \n",
       "\n",
       "  RestaurantsPriceRange2 DogsAllowed WiFi RestaurantsAttire  \\\n",
       "0                      3         NaN  NaN               NaN   \n",
       "1                    NaN         NaN  NaN               NaN   \n",
       "2                    NaN         NaN  NaN               NaN   \n",
       "3                      4        True  NaN               NaN   \n",
       "4                    NaN         NaN  NaN               NaN   \n",
       "\n",
       "  RestaurantsTakeOut  ... BestNights Music Smoking DietaryRestrictions  \\\n",
       "0                NaN  ...        NaN   NaN     NaN                 NaN   \n",
       "1                NaN  ...        NaN   NaN     NaN                 NaN   \n",
       "2                NaN  ...        NaN   NaN     NaN                 NaN   \n",
       "3                NaN  ...        NaN   NaN     NaN                 NaN   \n",
       "4                NaN  ...        NaN   NaN     NaN                 NaN   \n",
       "\n",
       "  DriveThru HairSpecializesIn BYOBCorkage AgesAllowed  \\\n",
       "0       NaN               NaN         NaN         NaN   \n",
       "1       NaN               NaN         NaN         NaN   \n",
       "2       NaN               NaN         NaN         NaN   \n",
       "3       NaN               NaN         NaN         NaN   \n",
       "4       NaN               NaN         NaN         NaN   \n",
       "\n",
       "  RestaurantsCounterService Open24Hours  \n",
       "0                       NaN         NaN  \n",
       "1                       NaN         NaN  \n",
       "2                       NaN         NaN  \n",
       "3                       NaN         NaN  \n",
       "4                       NaN         NaN  \n",
       "\n",
       "[5 rows x 39 columns]"
      ]
     },
     "execution_count": 10,
     "metadata": {},
     "output_type": "execute_result"
    }
   ],
   "source": [
    "df_battributes.head(5)"
   ]
  },
  {
   "cell_type": "code",
   "execution_count": 11,
   "metadata": {},
   "outputs": [
    {
     "data": {
      "text/plain": [
       "(209393, 39)"
      ]
     },
     "execution_count": 11,
     "metadata": {},
     "output_type": "execute_result"
    }
   ],
   "source": [
    "df_battributes.shape"
   ]
  },
  {
   "cell_type": "code",
   "execution_count": 12,
   "metadata": {},
   "outputs": [
    {
     "name": "stdout",
     "output_type": "stream",
     "text": [
      "<class 'pandas.core.frame.DataFrame'>\n",
      "RangeIndex: 209393 entries, 0 to 209392\n",
      "Data columns (total 39 columns):\n",
      " #   Column                      Non-Null Count   Dtype \n",
      "---  ------                      --------------   ----- \n",
      " 0   BusinessAcceptsCreditCards  122237 non-null  object\n",
      " 1   BikeParking                 89765 non-null   object\n",
      " 2   GoodForKids                 68535 non-null   object\n",
      " 3   BusinessParking             115215 non-null  object\n",
      " 4   ByAppointmentOnly           60799 non-null   object\n",
      " 5   RestaurantsPriceRange2      111288 non-null  object\n",
      " 6   DogsAllowed                 17539 non-null   object\n",
      " 7   WiFi                        65331 non-null   object\n",
      " 8   RestaurantsAttire           49567 non-null   object\n",
      " 9   RestaurantsTakeOut          66301 non-null   object\n",
      " 10  NoiseLevel                  46559 non-null   object\n",
      " 11  RestaurantsReservations     55361 non-null   object\n",
      " 12  RestaurantsGoodForGroups    56162 non-null   object\n",
      " 13  HasTV                       53388 non-null   object\n",
      " 14  Alcohol                     50838 non-null   object\n",
      " 15  RestaurantsDelivery         56679 non-null   object\n",
      " 16  OutdoorSeating              58441 non-null   object\n",
      " 17  Caters                      43969 non-null   object\n",
      " 18  WheelchairAccessible        28635 non-null   object\n",
      " 19  AcceptsInsurance            8660 non-null    object\n",
      " 20  RestaurantsTableService     20785 non-null   object\n",
      " 21  Ambience                    53806 non-null   object\n",
      " 22  GoodForMeal                 35182 non-null   object\n",
      " 23  HappyHour                   15324 non-null   object\n",
      " 24  BusinessAcceptsBitcoin      16532 non-null   object\n",
      " 25  BYOB                        740 non-null     object\n",
      " 26  Corkage                     1090 non-null    object\n",
      " 27  GoodForDancing              5186 non-null    object\n",
      " 28  CoatCheck                   4909 non-null    object\n",
      " 29  BestNights                  5483 non-null    object\n",
      " 30  Music                       7912 non-null    object\n",
      " 31  Smoking                     4270 non-null    object\n",
      " 32  DietaryRestrictions         61 non-null      object\n",
      " 33  DriveThru                   4282 non-null    object\n",
      " 34  HairSpecializesIn           1260 non-null    object\n",
      " 35  BYOBCorkage                 1425 non-null    object\n",
      " 36  AgesAllowed                 136 non-null     object\n",
      " 37  RestaurantsCounterService   13 non-null      object\n",
      " 38  Open24Hours                 14 non-null      object\n",
      "dtypes: object(39)\n",
      "memory usage: 62.3+ MB\n"
     ]
    }
   ],
   "source": [
    "df_battributes.info()"
   ]
  },
  {
   "cell_type": "markdown",
   "metadata": {},
   "source": [
    "# Reading file for all checkins"
   ]
  },
  {
   "cell_type": "code",
   "execution_count": 13,
   "metadata": {},
   "outputs": [],
   "source": [
    "df_checkin = pd.read_json('~/Documents/yelp_datasets/yelp_academic_dataset_checkin.json',lines=True)"
   ]
  },
  {
   "cell_type": "code",
   "execution_count": 14,
   "metadata": {},
   "outputs": [
    {
     "data": {
      "text/plain": [
       "(175187, 2)"
      ]
     },
     "execution_count": 14,
     "metadata": {},
     "output_type": "execute_result"
    }
   ],
   "source": [
    "df_checkin.shape"
   ]
  },
  {
   "cell_type": "code",
   "execution_count": 15,
   "metadata": {},
   "outputs": [
    {
     "data": {
      "text/html": [
       "<div>\n",
       "<style scoped>\n",
       "    .dataframe tbody tr th:only-of-type {\n",
       "        vertical-align: middle;\n",
       "    }\n",
       "\n",
       "    .dataframe tbody tr th {\n",
       "        vertical-align: top;\n",
       "    }\n",
       "\n",
       "    .dataframe thead th {\n",
       "        text-align: right;\n",
       "    }\n",
       "</style>\n",
       "<table border=\"1\" class=\"dataframe\">\n",
       "  <thead>\n",
       "    <tr style=\"text-align: right;\">\n",
       "      <th></th>\n",
       "      <th>business_id</th>\n",
       "      <th>date</th>\n",
       "    </tr>\n",
       "  </thead>\n",
       "  <tbody>\n",
       "    <tr>\n",
       "      <th>0</th>\n",
       "      <td>--1UhMGODdWsrMastO9DZw</td>\n",
       "      <td>2016-04-26 19:49:16, 2016-08-30 18:36:57, 2016...</td>\n",
       "    </tr>\n",
       "    <tr>\n",
       "      <th>1</th>\n",
       "      <td>--6MefnULPED_I942VcFNA</td>\n",
       "      <td>2011-06-04 18:22:23, 2011-07-23 23:51:33, 2012...</td>\n",
       "    </tr>\n",
       "    <tr>\n",
       "      <th>2</th>\n",
       "      <td>--7zmmkVg-IMGaXbuVd0SQ</td>\n",
       "      <td>2014-12-29 19:25:50, 2015-01-17 01:49:14, 2015...</td>\n",
       "    </tr>\n",
       "  </tbody>\n",
       "</table>\n",
       "</div>"
      ],
      "text/plain": [
       "              business_id                                               date\n",
       "0  --1UhMGODdWsrMastO9DZw  2016-04-26 19:49:16, 2016-08-30 18:36:57, 2016...\n",
       "1  --6MefnULPED_I942VcFNA  2011-06-04 18:22:23, 2011-07-23 23:51:33, 2012...\n",
       "2  --7zmmkVg-IMGaXbuVd0SQ  2014-12-29 19:25:50, 2015-01-17 01:49:14, 2015..."
      ]
     },
     "execution_count": 15,
     "metadata": {},
     "output_type": "execute_result"
    }
   ],
   "source": [
    "df_checkin.head(3)"
   ]
  },
  {
   "cell_type": "code",
   "execution_count": 16,
   "metadata": {},
   "outputs": [
    {
     "name": "stdout",
     "output_type": "stream",
     "text": [
      "<class 'pandas.core.frame.DataFrame'>\n",
      "RangeIndex: 175187 entries, 0 to 175186\n",
      "Data columns (total 2 columns):\n",
      " #   Column       Non-Null Count   Dtype \n",
      "---  ------       --------------   ----- \n",
      " 0   business_id  175187 non-null  object\n",
      " 1   date         175187 non-null  object\n",
      "dtypes: object(2)\n",
      "memory usage: 2.7+ MB\n"
     ]
    }
   ],
   "source": [
    "df_checkin.info()"
   ]
  },
  {
   "cell_type": "markdown",
   "metadata": {},
   "source": [
    "## Aggregating all checkins"
   ]
  },
  {
   "cell_type": "code",
   "execution_count": 17,
   "metadata": {},
   "outputs": [],
   "source": [
    "df_checkin['checkin_count'] = df_checkin['date'].str.count(',') + 1"
   ]
  },
  {
   "cell_type": "markdown",
   "metadata": {},
   "source": [
    "## Example of using SQL on DF"
   ]
  },
  {
   "cell_type": "code",
   "execution_count": 18,
   "metadata": {},
   "outputs": [],
   "source": [
    "from pandasql import sqldf\n",
    "cc = sqldf(\"select business_id,checkin_count from df_checkin\")"
   ]
  },
  {
   "cell_type": "code",
   "execution_count": 19,
   "metadata": {},
   "outputs": [
    {
     "name": "stdout",
     "output_type": "stream",
     "text": [
      "<class 'pandas.core.frame.DataFrame'>\n",
      "RangeIndex: 175187 entries, 0 to 175186\n",
      "Data columns (total 2 columns):\n",
      " #   Column         Non-Null Count   Dtype \n",
      "---  ------         --------------   ----- \n",
      " 0   business_id    175187 non-null  object\n",
      " 1   checkin_count  175187 non-null  int64 \n",
      "dtypes: int64(1), object(1)\n",
      "memory usage: 2.7+ MB\n"
     ]
    }
   ],
   "source": [
    "cc.info()"
   ]
  },
  {
   "cell_type": "markdown",
   "metadata": {},
   "source": [
    "# Reading file for tips (thank you notes)"
   ]
  },
  {
   "cell_type": "code",
   "execution_count": 20,
   "metadata": {},
   "outputs": [],
   "source": [
    "df_tip = pd.read_json('~/Documents/yelp_datasets/yelp_academic_dataset_tip.json',lines=True)"
   ]
  },
  {
   "cell_type": "code",
   "execution_count": 21,
   "metadata": {},
   "outputs": [
    {
     "data": {
      "text/html": [
       "<div>\n",
       "<style scoped>\n",
       "    .dataframe tbody tr th:only-of-type {\n",
       "        vertical-align: middle;\n",
       "    }\n",
       "\n",
       "    .dataframe tbody tr th {\n",
       "        vertical-align: top;\n",
       "    }\n",
       "\n",
       "    .dataframe thead th {\n",
       "        text-align: right;\n",
       "    }\n",
       "</style>\n",
       "<table border=\"1\" class=\"dataframe\">\n",
       "  <thead>\n",
       "    <tr style=\"text-align: right;\">\n",
       "      <th></th>\n",
       "      <th>user_id</th>\n",
       "      <th>business_id</th>\n",
       "      <th>text</th>\n",
       "      <th>date</th>\n",
       "      <th>compliment_count</th>\n",
       "    </tr>\n",
       "  </thead>\n",
       "  <tbody>\n",
       "    <tr>\n",
       "      <th>0</th>\n",
       "      <td>hf27xTME3EiCp6NL6VtWZQ</td>\n",
       "      <td>UYX5zL_Xj9WEc_Wp-FrqHw</td>\n",
       "      <td>Here for a quick mtg</td>\n",
       "      <td>2013-11-26 18:20:08</td>\n",
       "      <td>0</td>\n",
       "    </tr>\n",
       "    <tr>\n",
       "      <th>1</th>\n",
       "      <td>uEvusDwoSymbJJ0auR3muQ</td>\n",
       "      <td>Ch3HkwQYv1YKw_FO06vBWA</td>\n",
       "      <td>Cucumber strawberry refresher</td>\n",
       "      <td>2014-06-15 22:26:45</td>\n",
       "      <td>0</td>\n",
       "    </tr>\n",
       "    <tr>\n",
       "      <th>2</th>\n",
       "      <td>AY-laIws3S7YXNl_f_D6rQ</td>\n",
       "      <td>rDoT-MgxGRiYqCmi0bG10g</td>\n",
       "      <td>Very nice good service good food</td>\n",
       "      <td>2016-07-18 22:03:42</td>\n",
       "      <td>0</td>\n",
       "    </tr>\n",
       "    <tr>\n",
       "      <th>3</th>\n",
       "      <td>Ue_7yUlkEbX4AhnYdUfL7g</td>\n",
       "      <td>OHXnDV01gLokiX1ELaQufA</td>\n",
       "      <td>It's a small place. The staff is friendly.</td>\n",
       "      <td>2014-06-06 01:10:34</td>\n",
       "      <td>0</td>\n",
       "    </tr>\n",
       "    <tr>\n",
       "      <th>4</th>\n",
       "      <td>LltbT_fUMqZ-ZJP-vJ84IQ</td>\n",
       "      <td>GMrwDXRlAZU2zj5nH6l4vQ</td>\n",
       "      <td>8 sandwiches, $24 total...what a bargain!!! An...</td>\n",
       "      <td>2011-04-08 18:12:01</td>\n",
       "      <td>0</td>\n",
       "    </tr>\n",
       "    <tr>\n",
       "      <th>5</th>\n",
       "      <td>HHNBqfbDR8b1iq-QGxu8ww</td>\n",
       "      <td>ALwAlxItASeEs2vYAeLXHA</td>\n",
       "      <td>Great ramen! Not only is the presentation gorg...</td>\n",
       "      <td>2015-05-20 20:17:38</td>\n",
       "      <td>0</td>\n",
       "    </tr>\n",
       "    <tr>\n",
       "      <th>6</th>\n",
       "      <td>r0j4IpUbcdC1-HfoMYae4w</td>\n",
       "      <td>d_L-rfS1vT3JMzgCUGtiow</td>\n",
       "      <td>Cochinita Pibil was memorable &amp; delicious !</td>\n",
       "      <td>2014-09-01 01:23:48</td>\n",
       "      <td>0</td>\n",
       "    </tr>\n",
       "    <tr>\n",
       "      <th>7</th>\n",
       "      <td>gxVQZJVeKBUk7jEhSyqv-A</td>\n",
       "      <td>5FIOXmUE3qMviX9GafGH-Q</td>\n",
       "      <td>Get a tsoynami for sure.</td>\n",
       "      <td>2010-01-30 02:03:16</td>\n",
       "      <td>0</td>\n",
       "    </tr>\n",
       "    <tr>\n",
       "      <th>8</th>\n",
       "      <td>2hdR7KYAmnCk2FjTnPFsuw</td>\n",
       "      <td>rcaPajgKOJC2vo_l3xa42A</td>\n",
       "      <td>Kelly is an awesome waitress there!</td>\n",
       "      <td>2012-05-29 02:05:56</td>\n",
       "      <td>0</td>\n",
       "    </tr>\n",
       "    <tr>\n",
       "      <th>9</th>\n",
       "      <td>DsWg3leomfasGs3j0rOfbQ</td>\n",
       "      <td>hfBrethLHS9iXeBNR8MtzQ</td>\n",
       "      <td>Check out the great assortment of organic &amp; co...</td>\n",
       "      <td>2011-09-30 18:38:47</td>\n",
       "      <td>0</td>\n",
       "    </tr>\n",
       "  </tbody>\n",
       "</table>\n",
       "</div>"
      ],
      "text/plain": [
       "                  user_id             business_id  \\\n",
       "0  hf27xTME3EiCp6NL6VtWZQ  UYX5zL_Xj9WEc_Wp-FrqHw   \n",
       "1  uEvusDwoSymbJJ0auR3muQ  Ch3HkwQYv1YKw_FO06vBWA   \n",
       "2  AY-laIws3S7YXNl_f_D6rQ  rDoT-MgxGRiYqCmi0bG10g   \n",
       "3  Ue_7yUlkEbX4AhnYdUfL7g  OHXnDV01gLokiX1ELaQufA   \n",
       "4  LltbT_fUMqZ-ZJP-vJ84IQ  GMrwDXRlAZU2zj5nH6l4vQ   \n",
       "5  HHNBqfbDR8b1iq-QGxu8ww  ALwAlxItASeEs2vYAeLXHA   \n",
       "6  r0j4IpUbcdC1-HfoMYae4w  d_L-rfS1vT3JMzgCUGtiow   \n",
       "7  gxVQZJVeKBUk7jEhSyqv-A  5FIOXmUE3qMviX9GafGH-Q   \n",
       "8  2hdR7KYAmnCk2FjTnPFsuw  rcaPajgKOJC2vo_l3xa42A   \n",
       "9  DsWg3leomfasGs3j0rOfbQ  hfBrethLHS9iXeBNR8MtzQ   \n",
       "\n",
       "                                                text                date  \\\n",
       "0                               Here for a quick mtg 2013-11-26 18:20:08   \n",
       "1                      Cucumber strawberry refresher 2014-06-15 22:26:45   \n",
       "2                   Very nice good service good food 2016-07-18 22:03:42   \n",
       "3         It's a small place. The staff is friendly. 2014-06-06 01:10:34   \n",
       "4  8 sandwiches, $24 total...what a bargain!!! An... 2011-04-08 18:12:01   \n",
       "5  Great ramen! Not only is the presentation gorg... 2015-05-20 20:17:38   \n",
       "6        Cochinita Pibil was memorable & delicious ! 2014-09-01 01:23:48   \n",
       "7                           Get a tsoynami for sure. 2010-01-30 02:03:16   \n",
       "8                Kelly is an awesome waitress there! 2012-05-29 02:05:56   \n",
       "9  Check out the great assortment of organic & co... 2011-09-30 18:38:47   \n",
       "\n",
       "   compliment_count  \n",
       "0                 0  \n",
       "1                 0  \n",
       "2                 0  \n",
       "3                 0  \n",
       "4                 0  \n",
       "5                 0  \n",
       "6                 0  \n",
       "7                 0  \n",
       "8                 0  \n",
       "9                 0  "
      ]
     },
     "execution_count": 21,
     "metadata": {},
     "output_type": "execute_result"
    }
   ],
   "source": [
    "df_tip.head(10)"
   ]
  },
  {
   "cell_type": "markdown",
   "metadata": {},
   "source": [
    "# Aggregating count by business_id"
   ]
  },
  {
   "cell_type": "code",
   "execution_count": 22,
   "metadata": {},
   "outputs": [
    {
     "data": {
      "text/html": [
       "<div>\n",
       "<style scoped>\n",
       "    .dataframe tbody tr th:only-of-type {\n",
       "        vertical-align: middle;\n",
       "    }\n",
       "\n",
       "    .dataframe tbody tr th {\n",
       "        vertical-align: top;\n",
       "    }\n",
       "\n",
       "    .dataframe thead th {\n",
       "        text-align: right;\n",
       "    }\n",
       "</style>\n",
       "<table border=\"1\" class=\"dataframe\">\n",
       "  <thead>\n",
       "    <tr style=\"text-align: right;\">\n",
       "      <th></th>\n",
       "      <th>text</th>\n",
       "    </tr>\n",
       "    <tr>\n",
       "      <th>business_id</th>\n",
       "      <th></th>\n",
       "    </tr>\n",
       "  </thead>\n",
       "  <tbody>\n",
       "    <tr>\n",
       "      <th>--1UhMGODdWsrMastO9DZw</th>\n",
       "      <td>3</td>\n",
       "    </tr>\n",
       "    <tr>\n",
       "      <th>--6MefnULPED_I942VcFNA</th>\n",
       "      <td>15</td>\n",
       "    </tr>\n",
       "    <tr>\n",
       "      <th>--7zmmkVg-IMGaXbuVd0SQ</th>\n",
       "      <td>11</td>\n",
       "    </tr>\n",
       "    <tr>\n",
       "      <th>--9QQLMTbFzLJ_oT-ON3Xw</th>\n",
       "      <td>3</td>\n",
       "    </tr>\n",
       "    <tr>\n",
       "      <th>--9e1ONYQuAa-CB_Rrw7Tw</th>\n",
       "      <td>176</td>\n",
       "    </tr>\n",
       "    <tr>\n",
       "      <th>...</th>\n",
       "      <td>...</td>\n",
       "    </tr>\n",
       "    <tr>\n",
       "      <th>zztHqd_3ULxuIS8lkhYdwg</th>\n",
       "      <td>2</td>\n",
       "    </tr>\n",
       "    <tr>\n",
       "      <th>zzwaS0xn1MVEPEf0hNLjew</th>\n",
       "      <td>21</td>\n",
       "    </tr>\n",
       "    <tr>\n",
       "      <th>zzwhN7x37nyjP0ZM8oiHmw</th>\n",
       "      <td>6</td>\n",
       "    </tr>\n",
       "    <tr>\n",
       "      <th>zzwicjPC9g246MK2M1ZFBA</th>\n",
       "      <td>15</td>\n",
       "    </tr>\n",
       "    <tr>\n",
       "      <th>zzzaIBwimxVej4tY6qFOUQ</th>\n",
       "      <td>22</td>\n",
       "    </tr>\n",
       "  </tbody>\n",
       "</table>\n",
       "<p>132700 rows × 1 columns</p>\n",
       "</div>"
      ],
      "text/plain": [
       "                        text\n",
       "business_id                 \n",
       "--1UhMGODdWsrMastO9DZw     3\n",
       "--6MefnULPED_I942VcFNA    15\n",
       "--7zmmkVg-IMGaXbuVd0SQ    11\n",
       "--9QQLMTbFzLJ_oT-ON3Xw     3\n",
       "--9e1ONYQuAa-CB_Rrw7Tw   176\n",
       "...                      ...\n",
       "zztHqd_3ULxuIS8lkhYdwg     2\n",
       "zzwaS0xn1MVEPEf0hNLjew    21\n",
       "zzwhN7x37nyjP0ZM8oiHmw     6\n",
       "zzwicjPC9g246MK2M1ZFBA    15\n",
       "zzzaIBwimxVej4tY6qFOUQ    22\n",
       "\n",
       "[132700 rows x 1 columns]"
      ]
     },
     "execution_count": 22,
     "metadata": {},
     "output_type": "execute_result"
    }
   ],
   "source": [
    "df_tip.groupby(by=\"business_id\").agg('count').filter(regex = 'business_id|text')"
   ]
  },
  {
   "cell_type": "markdown",
   "metadata": {},
   "source": [
    "# Reading the Reviews Json\n",
    "## Since the Json is very big (6 gb), I had to split it into multiple files are then read it to same memory utilization\n",
    "### Command: split -l 500000 yelp_academic_dataset_review.json review\n",
    "### I also dropped the actual review column which probably is taking bulk of the space"
   ]
  },
  {
   "cell_type": "code",
   "execution_count": 23,
   "metadata": {},
   "outputs": [],
   "source": [
    "import socket\n",
    "\n",
    "is_blake=socket.gethostname()=='BJH-ML-machine'\n",
    "\n",
    "if(not is_blake):\n",
    "    df_review = pd.read_json('~/Documents/yelp_datasets/reviewaa',lines=True)\n",
    "else: \n",
    "    df_review = pd.read_json('~/Documents/yelp_datasets/yelp_academic_dataset_review.json',lines=True)"
   ]
  },
  {
   "cell_type": "code",
   "execution_count": 24,
   "metadata": {},
   "outputs": [
    {
     "data": {
      "text/plain": [
       "(8021122, 9)"
      ]
     },
     "execution_count": 24,
     "metadata": {},
     "output_type": "execute_result"
    }
   ],
   "source": [
    "df_review.shape"
   ]
  },
  {
   "cell_type": "code",
   "execution_count": 25,
   "metadata": {},
   "outputs": [],
   "source": [
    "df_review['review_word_count'] = df_review['text'].str.count(' ')"
   ]
  },
  {
   "cell_type": "code",
   "execution_count": 26,
   "metadata": {},
   "outputs": [],
   "source": [
    "file_names = ['reviewac','reviewae','reviewag','reviewai','reviewak','reviewam','reviewao','reviewaq','reviewab','reviewad','reviewaf','reviewah','reviewaj','reviewal','reviewan','reviewap']"
   ]
  },
  {
   "cell_type": "code",
   "execution_count": 27,
   "metadata": {},
   "outputs": [
    {
     "name": "stdout",
     "output_type": "stream",
     "text": [
      "<class 'pandas.core.frame.DataFrame'>\n",
      "RangeIndex: 8021122 entries, 0 to 8021121\n",
      "Data columns (total 10 columns):\n",
      " #   Column             Dtype         \n",
      "---  ------             -----         \n",
      " 0   review_id          object        \n",
      " 1   user_id            object        \n",
      " 2   business_id        object        \n",
      " 3   stars              int64         \n",
      " 4   useful             int64         \n",
      " 5   funny              int64         \n",
      " 6   cool               int64         \n",
      " 7   text               object        \n",
      " 8   date               datetime64[ns]\n",
      " 9   review_word_count  int64         \n",
      "dtypes: datetime64[ns](1), int64(5), object(4)\n",
      "memory usage: 612.0+ MB\n"
     ]
    }
   ],
   "source": [
    "df_review.info()"
   ]
  },
  {
   "cell_type": "code",
   "execution_count": 28,
   "metadata": {},
   "outputs": [],
   "source": [
    "df_review = df_review.drop(columns = ['text'])"
   ]
  },
  {
   "cell_type": "code",
   "execution_count": 29,
   "metadata": {},
   "outputs": [],
   "source": [
    "if(not is_blake):\n",
    "    for file in file_names:\n",
    "        df_temp = pd.read_json(f'~/Documents/yelp_datasets/{file}',lines=True)\n",
    "        df_temp['review_word_count'] = df_temp['text'].str.count(' ') + 1\n",
    "        df_temp.drop(columns = ['text'])\n",
    "        df_review = pd.concat([df_review,df_temp])"
   ]
  },
  {
   "cell_type": "code",
   "execution_count": 30,
   "metadata": {},
   "outputs": [
    {
     "data": {
      "text/plain": [
       "(8021122, 9)"
      ]
     },
     "execution_count": 30,
     "metadata": {},
     "output_type": "execute_result"
    }
   ],
   "source": [
    "df_review.shape"
   ]
  },
  {
   "cell_type": "code",
   "execution_count": 31,
   "metadata": {},
   "outputs": [
    {
     "data": {
      "text/html": [
       "<div>\n",
       "<style scoped>\n",
       "    .dataframe tbody tr th:only-of-type {\n",
       "        vertical-align: middle;\n",
       "    }\n",
       "\n",
       "    .dataframe tbody tr th {\n",
       "        vertical-align: top;\n",
       "    }\n",
       "\n",
       "    .dataframe thead th {\n",
       "        text-align: right;\n",
       "    }\n",
       "</style>\n",
       "<table border=\"1\" class=\"dataframe\">\n",
       "  <thead>\n",
       "    <tr style=\"text-align: right;\">\n",
       "      <th></th>\n",
       "      <th>review_id</th>\n",
       "      <th>user_id</th>\n",
       "      <th>business_id</th>\n",
       "      <th>stars</th>\n",
       "      <th>useful</th>\n",
       "      <th>funny</th>\n",
       "      <th>cool</th>\n",
       "      <th>date</th>\n",
       "      <th>review_word_count</th>\n",
       "    </tr>\n",
       "  </thead>\n",
       "  <tbody>\n",
       "    <tr>\n",
       "      <th>0</th>\n",
       "      <td>xQY8N_XvtGbearJ5X4QryQ</td>\n",
       "      <td>OwjRMXRC0KyPrIlcjaXeFQ</td>\n",
       "      <td>-MhfebM0QIsKt87iDN-FNw</td>\n",
       "      <td>2</td>\n",
       "      <td>5</td>\n",
       "      <td>0</td>\n",
       "      <td>0</td>\n",
       "      <td>2015-04-15 05:21:16</td>\n",
       "      <td>247</td>\n",
       "    </tr>\n",
       "    <tr>\n",
       "      <th>1</th>\n",
       "      <td>UmFMZ8PyXZTY2QcwzsfQYA</td>\n",
       "      <td>nIJD_7ZXHq-FX8byPMOkMQ</td>\n",
       "      <td>lbrU8StCq3yDfr-QMnGrmQ</td>\n",
       "      <td>1</td>\n",
       "      <td>1</td>\n",
       "      <td>1</td>\n",
       "      <td>0</td>\n",
       "      <td>2013-12-07 03:16:52</td>\n",
       "      <td>274</td>\n",
       "    </tr>\n",
       "    <tr>\n",
       "      <th>2</th>\n",
       "      <td>LG2ZaYiOgpr2DK_90pYjNw</td>\n",
       "      <td>V34qejxNsCbcgD8C0HVk-Q</td>\n",
       "      <td>HQl28KMwrEKHqhFrrDqVNQ</td>\n",
       "      <td>5</td>\n",
       "      <td>1</td>\n",
       "      <td>0</td>\n",
       "      <td>0</td>\n",
       "      <td>2015-12-05 03:18:11</td>\n",
       "      <td>82</td>\n",
       "    </tr>\n",
       "  </tbody>\n",
       "</table>\n",
       "</div>"
      ],
      "text/plain": [
       "                review_id                 user_id             business_id  \\\n",
       "0  xQY8N_XvtGbearJ5X4QryQ  OwjRMXRC0KyPrIlcjaXeFQ  -MhfebM0QIsKt87iDN-FNw   \n",
       "1  UmFMZ8PyXZTY2QcwzsfQYA  nIJD_7ZXHq-FX8byPMOkMQ  lbrU8StCq3yDfr-QMnGrmQ   \n",
       "2  LG2ZaYiOgpr2DK_90pYjNw  V34qejxNsCbcgD8C0HVk-Q  HQl28KMwrEKHqhFrrDqVNQ   \n",
       "\n",
       "   stars  useful  funny  cool                date  review_word_count  \n",
       "0      2       5      0     0 2015-04-15 05:21:16                247  \n",
       "1      1       1      1     0 2013-12-07 03:16:52                274  \n",
       "2      5       1      0     0 2015-12-05 03:18:11                 82  "
      ]
     },
     "execution_count": 31,
     "metadata": {},
     "output_type": "execute_result"
    }
   ],
   "source": [
    "df_review.head(3)"
   ]
  },
  {
   "cell_type": "code",
   "execution_count": 32,
   "metadata": {},
   "outputs": [],
   "source": [
    "df_review_agg = sqldf(\"\"\"\n",
    "select  business_id, \n",
    "        sum(case when useful > 0 then 1 else 0 end) as useful_count,\n",
    "        sum(case when funny > 0 then 1 else 0 end) as funny_count,\n",
    "        sum(case when cool > 0 then 1 else 0 end) as cool_count,\n",
    "        avg(review_word_count) review_word_count \n",
    "from df_review group by business_id\"\"\")"
   ]
  },
  {
   "cell_type": "markdown",
   "metadata": {},
   "source": [
    "# Below are just some experiments with SQL and Plots on the dataframes we just read."
   ]
  },
  {
   "cell_type": "code",
   "execution_count": 33,
   "metadata": {},
   "outputs": [
    {
     "name": "stdout",
     "output_type": "stream",
     "text": [
      "<class 'pandas.core.frame.DataFrame'>\n",
      "RangeIndex: 209393 entries, 0 to 209392\n",
      "Data columns (total 5 columns):\n",
      " #   Column             Non-Null Count   Dtype  \n",
      "---  ------             --------------   -----  \n",
      " 0   business_id        209393 non-null  object \n",
      " 1   useful_count       209393 non-null  int64  \n",
      " 2   funny_count        209393 non-null  int64  \n",
      " 3   cool_count         209393 non-null  int64  \n",
      " 4   review_word_count  209393 non-null  float64\n",
      "dtypes: float64(1), int64(3), object(1)\n",
      "memory usage: 8.0+ MB\n"
     ]
    }
   ],
   "source": [
    "df_review_agg.info()"
   ]
  },
  {
   "cell_type": "code",
   "execution_count": 34,
   "metadata": {},
   "outputs": [
    {
     "data": {
      "text/html": [
       "<div>\n",
       "<style scoped>\n",
       "    .dataframe tbody tr th:only-of-type {\n",
       "        vertical-align: middle;\n",
       "    }\n",
       "\n",
       "    .dataframe tbody tr th {\n",
       "        vertical-align: top;\n",
       "    }\n",
       "\n",
       "    .dataframe thead th {\n",
       "        text-align: right;\n",
       "    }\n",
       "</style>\n",
       "<table border=\"1\" class=\"dataframe\">\n",
       "  <thead>\n",
       "    <tr style=\"text-align: right;\">\n",
       "      <th></th>\n",
       "      <th>business_id</th>\n",
       "      <th>useful_count</th>\n",
       "      <th>funny_count</th>\n",
       "      <th>cool_count</th>\n",
       "      <th>review_word_count</th>\n",
       "    </tr>\n",
       "  </thead>\n",
       "  <tbody>\n",
       "    <tr>\n",
       "      <th>0</th>\n",
       "      <td>--1UhMGODdWsrMastO9DZw</td>\n",
       "      <td>9</td>\n",
       "      <td>1</td>\n",
       "      <td>11</td>\n",
       "      <td>94.103448</td>\n",
       "    </tr>\n",
       "    <tr>\n",
       "      <th>1</th>\n",
       "      <td>--6MefnULPED_I942VcFNA</td>\n",
       "      <td>40</td>\n",
       "      <td>15</td>\n",
       "      <td>16</td>\n",
       "      <td>140.859649</td>\n",
       "    </tr>\n",
       "    <tr>\n",
       "      <th>2</th>\n",
       "      <td>--7zmmkVg-IMGaXbuVd0SQ</td>\n",
       "      <td>36</td>\n",
       "      <td>27</td>\n",
       "      <td>33</td>\n",
       "      <td>94.411765</td>\n",
       "    </tr>\n",
       "    <tr>\n",
       "      <th>3</th>\n",
       "      <td>--8LPVSo5i0Oo61X01sV9A</td>\n",
       "      <td>3</td>\n",
       "      <td>0</td>\n",
       "      <td>0</td>\n",
       "      <td>88.800000</td>\n",
       "    </tr>\n",
       "    <tr>\n",
       "      <th>4</th>\n",
       "      <td>--9QQLMTbFzLJ_oT-ON3Xw</td>\n",
       "      <td>9</td>\n",
       "      <td>2</td>\n",
       "      <td>2</td>\n",
       "      <td>177.882353</td>\n",
       "    </tr>\n",
       "    <tr>\n",
       "      <th>5</th>\n",
       "      <td>--9e1ONYQuAa-CB_Rrw7Tw</td>\n",
       "      <td>674</td>\n",
       "      <td>369</td>\n",
       "      <td>442</td>\n",
       "      <td>145.718062</td>\n",
       "    </tr>\n",
       "    <tr>\n",
       "      <th>6</th>\n",
       "      <td>--DaPTJW3-tB1vP-PfdTEg</td>\n",
       "      <td>10</td>\n",
       "      <td>3</td>\n",
       "      <td>4</td>\n",
       "      <td>80.686275</td>\n",
       "    </tr>\n",
       "    <tr>\n",
       "      <th>7</th>\n",
       "      <td>--DdmeR16TRb3LsjG0ejrQ</td>\n",
       "      <td>5</td>\n",
       "      <td>5</td>\n",
       "      <td>4</td>\n",
       "      <td>438.000000</td>\n",
       "    </tr>\n",
       "    <tr>\n",
       "      <th>8</th>\n",
       "      <td>--EF5N7P70J_UYBTPypYlA</td>\n",
       "      <td>9</td>\n",
       "      <td>5</td>\n",
       "      <td>6</td>\n",
       "      <td>101.153846</td>\n",
       "    </tr>\n",
       "    <tr>\n",
       "      <th>9</th>\n",
       "      <td>--EX4rRznJrltyn-34Jz1w</td>\n",
       "      <td>2</td>\n",
       "      <td>1</td>\n",
       "      <td>1</td>\n",
       "      <td>89.000000</td>\n",
       "    </tr>\n",
       "  </tbody>\n",
       "</table>\n",
       "</div>"
      ],
      "text/plain": [
       "              business_id  useful_count  funny_count  cool_count  \\\n",
       "0  --1UhMGODdWsrMastO9DZw             9            1          11   \n",
       "1  --6MefnULPED_I942VcFNA            40           15          16   \n",
       "2  --7zmmkVg-IMGaXbuVd0SQ            36           27          33   \n",
       "3  --8LPVSo5i0Oo61X01sV9A             3            0           0   \n",
       "4  --9QQLMTbFzLJ_oT-ON3Xw             9            2           2   \n",
       "5  --9e1ONYQuAa-CB_Rrw7Tw           674          369         442   \n",
       "6  --DaPTJW3-tB1vP-PfdTEg            10            3           4   \n",
       "7  --DdmeR16TRb3LsjG0ejrQ             5            5           4   \n",
       "8  --EF5N7P70J_UYBTPypYlA             9            5           6   \n",
       "9  --EX4rRznJrltyn-34Jz1w             2            1           1   \n",
       "\n",
       "   review_word_count  \n",
       "0          94.103448  \n",
       "1         140.859649  \n",
       "2          94.411765  \n",
       "3          88.800000  \n",
       "4         177.882353  \n",
       "5         145.718062  \n",
       "6          80.686275  \n",
       "7         438.000000  \n",
       "8         101.153846  \n",
       "9          89.000000  "
      ]
     },
     "execution_count": 34,
     "metadata": {},
     "output_type": "execute_result"
    }
   ],
   "source": [
    "df_review_agg.head(10)"
   ]
  },
  {
   "cell_type": "markdown",
   "metadata": {},
   "source": [
    "## Exploding Categories (But keeping it as a separate df since it has a many to many relationship with business)"
   ]
  },
  {
   "cell_type": "code",
   "execution_count": 35,
   "metadata": {},
   "outputs": [],
   "source": [
    "df_category = df_business[['business_id','categories']]"
   ]
  },
  {
   "cell_type": "code",
   "execution_count": 36,
   "metadata": {},
   "outputs": [],
   "source": [
    "df_category = df_category.assign(categories=df_category['categories'].str.split(',')).explode('categories')"
   ]
  },
  {
   "cell_type": "markdown",
   "metadata": {},
   "source": [
    "## Flatten the categories (this takes some time to run) "
   ]
  },
  {
   "cell_type": "code",
   "execution_count": 37,
   "metadata": {},
   "outputs": [
    {
     "name": "stdout",
     "output_type": "stream",
     "text": [
      "Loading existing flattened csv file.\n"
     ]
    }
   ],
   "source": [
    "#Since this is long running, store the flattened categories as csv and import flatfile on subsequent runs\n",
    "\n",
    "business_categories_filepath=os.path.expanduser('~')+'/Documents/yelp_datasets/business_categories.csv'\n",
    "categories_filepath=os.path.expanduser('~')+'/Documents/yelp_datasets/categories.csv'\n",
    "\n",
    "\n",
    "if(os.path.isfile(business_categories_filepath) & os.path.isfile(categories_filepath)):\n",
    "    print(\"Loading existing flattened csv file.\")\n",
    "    df_business_categories = pd.read_csv(business_categories_filepath)\n",
    "    df_categories = pd.read_csv(categories_filepath)\n",
    "else: \n",
    "    print(\"Flattening business categories into dataframe. This will take a while.\")\n",
    "    df_categories=df_business['categories'].str.get_dummies(sep=\",\")\n",
    "    #Just keep the top 10 most used categories because there are 2000+\n",
    "    keep_columns=df_categories.sum().sort_values(ascending=False).index[0:10]\n",
    "    df_business_categories=pd.concat([df_business.drop('categories', 1), \n",
    "                                  df_categories[keep_columns]], \n",
    "                                 1)\n",
    "    df_business_categories.to_csv(business_categories_filepath)\n",
    "    df_categories.to_csv(categories_filepath)"
   ]
  },
  {
   "cell_type": "markdown",
   "metadata": {},
   "source": [
    "## Merging Business, checkin and Tip datasets (Not sure what do we need reviews for so didn't merge it)"
   ]
  },
  {
   "cell_type": "markdown",
   "metadata": {},
   "source": [
    "### Business plus Attributes"
   ]
  },
  {
   "cell_type": "code",
   "execution_count": 38,
   "metadata": {},
   "outputs": [],
   "source": [
    "df_business_final = pd.merge(df_business_categories,df_battributes,how='left',left_index=True, right_index=True)"
   ]
  },
  {
   "cell_type": "markdown",
   "metadata": {},
   "source": [
    "### Business plus Checkin"
   ]
  },
  {
   "cell_type": "code",
   "execution_count": 39,
   "metadata": {},
   "outputs": [],
   "source": [
    "df_business_final = pd.merge(df_business_final,df_checkin[['business_id','checkin_count']],how='left',on='business_id')"
   ]
  },
  {
   "cell_type": "markdown",
   "metadata": {},
   "source": [
    "### Business plus Tips"
   ]
  },
  {
   "cell_type": "code",
   "execution_count": 40,
   "metadata": {},
   "outputs": [],
   "source": [
    "df_business_final = pd.merge(df_business_final,df_tip.groupby(by=\"business_id\").agg('count').filter(regex = 'business_id|text'),how='left',on='business_id')"
   ]
  },
  {
   "cell_type": "markdown",
   "metadata": {},
   "source": [
    "### Business plus Engagement Stats"
   ]
  },
  {
   "cell_type": "code",
   "execution_count": 41,
   "metadata": {},
   "outputs": [],
   "source": [
    "df_business_final = pd.merge(df_business_final,df_review_agg,how='left',on='business_id')"
   ]
  },
  {
   "cell_type": "markdown",
   "metadata": {},
   "source": [
    "### Business Parking Flatten"
   ]
  },
  {
   "cell_type": "code",
   "execution_count": 42,
   "metadata": {},
   "outputs": [
    {
     "name": "stdout",
     "output_type": "stream",
     "text": [
      "CPU times: user 41.7 s, sys: 113 ms, total: 41.8 s\n",
      "Wall time: 41.7 s\n"
     ]
    }
   ],
   "source": [
    "%%time\n",
    "import json\n",
    "import pandas as pd\n",
    "\n",
    "def clean_ugly_json(json_str):\n",
    "    if json_str is None or json_str == \"None\" or pd.isnull(json_str):\n",
    "        return(None)\n",
    "    #keys need double quotes and values need to be quoted \n",
    "    ret=json.loads(json_str.replace(\"'\", '\"').\\\n",
    "                   replace(\"False\", '\"False\"').\\\n",
    "                   replace(\"True\", '\"True\"').\\\n",
    "                   replace(\"None\", '\"None\"'))\n",
    "    return(ret)\n",
    "\n",
    "def encode_bool(s):\n",
    "    if s == 'True':\n",
    "         return True\n",
    "    elif s == True:\n",
    "         return True\n",
    "    elif s == 'False':\n",
    "         return False\n",
    "    elif s == False:\n",
    "         return False\n",
    "    elif s=='None':\n",
    "         return None\n",
    "    elif pd.isnull(s):\n",
    "         return None\n",
    "    else:\n",
    "        print(s)\n",
    "        raise ValueError\n",
    "\n",
    "df_biz_parking = df_business_final['BusinessParking'].\\\n",
    "    apply(clean_ugly_json).\\\n",
    "    apply(pd.Series).\\\n",
    "    fillna(False).\\\n",
    "    add_prefix(\"parking_\").\\\n",
    "    applymap(encode_bool)"
   ]
  },
  {
   "cell_type": "code",
   "execution_count": 43,
   "metadata": {},
   "outputs": [
    {
     "data": {
      "text/plain": [
       "parking_garage       3\n",
       "parking_street       3\n",
       "parking_validated    3\n",
       "parking_lot          3\n",
       "parking_valet        2\n",
       "dtype: int64"
      ]
     },
     "execution_count": 43,
     "metadata": {},
     "output_type": "execute_result"
    }
   ],
   "source": [
    "df_biz_parking.nunique(dropna=False)"
   ]
  },
  {
   "cell_type": "code",
   "execution_count": 44,
   "metadata": {},
   "outputs": [],
   "source": [
    "df_business_final = pd.merge(\n",
    "                             df_business_final.drop(\"BusinessParking\", axis=1),\n",
    "                             df_biz_parking,\n",
    "                             how='left',\n",
    "                             left_index=True,\n",
    "                             right_index=True\n",
    "                            )"
   ]
  },
  {
   "cell_type": "markdown",
   "metadata": {},
   "source": [
    "# Filter Dataset\n",
    "\n",
    "Filter down to Arizona and Nevada still contains ~100k records"
   ]
  },
  {
   "cell_type": "code",
   "execution_count": 45,
   "metadata": {},
   "outputs": [
    {
     "data": {
      "image/png": "[encoded data removed]",
      "text/plain": [
       "<Figure size 1080x360 with 1 Axes>"
      ]
     },
     "metadata": {
      "needs_background": "light"
     },
     "output_type": "display_data"
    }
   ],
   "source": [
    "def plot_top(df, col):\n",
    "    df[col].value_counts().head(10).plot.bar(title='Top Businesses Counts by' + col,figsize=(15,5))\n",
    " \n",
    "plot_top(df_business_final,\"state\")"
   ]
  },
  {
   "cell_type": "code",
   "execution_count": 46,
   "metadata": {},
   "outputs": [
    {
     "name": "stdout",
     "output_type": "stream",
     "text": [
      "<class 'pandas.core.frame.DataFrame'>\n",
      "Int64Index: 99887 entries, 1 to 209390\n",
      "Data columns (total 73 columns):\n",
      " #   Column                      Non-Null Count  Dtype  \n",
      "---  ------                      --------------  -----  \n",
      " 0   Unnamed: 0                  99887 non-null  int64  \n",
      " 1   business_id                 99887 non-null  object \n",
      " 2   name                        99887 non-null  object \n",
      " 3   address                     93303 non-null  object \n",
      " 4   city                        99886 non-null  object \n",
      " 5   state                       99887 non-null  object \n",
      " 6   postal_code                 99700 non-null  object \n",
      " 7   latitude                    99887 non-null  float64\n",
      " 8   longitude                   99887 non-null  float64\n",
      " 9   stars                       99887 non-null  float64\n",
      " 10  review_count                99887 non-null  int64  \n",
      " 11  is_open                     99887 non-null  int64  \n",
      " 12  attributes                  86335 non-null  object \n",
      " 13  hours                       80737 non-null  object \n",
      " 14   Restaurants                99887 non-null  int64  \n",
      " 15   Shopping                   99887 non-null  int64  \n",
      " 16   Food                       99887 non-null  int64  \n",
      " 17  Restaurants                 99887 non-null  int64  \n",
      " 18   Home Services              99887 non-null  int64  \n",
      " 19   Beauty & Spas              99887 non-null  int64  \n",
      " 20   Health & Medical           99887 non-null  int64  \n",
      " 21   Local Services             99887 non-null  int64  \n",
      " 22   Nightlife                  99887 non-null  int64  \n",
      " 23   Bars                       99887 non-null  int64  \n",
      " 24  BusinessAcceptsCreditCards  78621 non-null  object \n",
      " 25  BikeParking                 38699 non-null  object \n",
      " 26  GoodForKids                 26279 non-null  object \n",
      " 27  ByAppointmentOnly           38560 non-null  object \n",
      " 28  RestaurantsPriceRange2      44784 non-null  object \n",
      " 29  DogsAllowed                 9188 non-null   object \n",
      " 30  WiFi                        27790 non-null  object \n",
      " 31  RestaurantsAttire           17237 non-null  object \n",
      " 32  RestaurantsTakeOut          22780 non-null  object \n",
      " 33  NoiseLevel                  17140 non-null  object \n",
      " 34  RestaurantsReservations     18920 non-null  object \n",
      " 35  RestaurantsGoodForGroups    19522 non-null  object \n",
      " 36  HasTV                       18580 non-null  object \n",
      " 37  Alcohol                     18688 non-null  object \n",
      " 38  RestaurantsDelivery         19760 non-null  object \n",
      " 39  OutdoorSeating              20796 non-null  object \n",
      " 40  Caters                      17175 non-null  object \n",
      " 41  WheelchairAccessible        14887 non-null  object \n",
      " 42  AcceptsInsurance            6336 non-null   object \n",
      " 43  RestaurantsTableService     7868 non-null   object \n",
      " 44  Ambience                    18419 non-null  object \n",
      " 45  GoodForMeal                 12728 non-null  object \n",
      " 46  HappyHour                   7674 non-null   object \n",
      " 47  BusinessAcceptsBitcoin      11754 non-null  object \n",
      " 48  BYOB                        336 non-null    object \n",
      " 49  Corkage                     716 non-null    object \n",
      " 50  GoodForDancing              2184 non-null   object \n",
      " 51  CoatCheck                   2126 non-null   object \n",
      " 52  BestNights                  2338 non-null   object \n",
      " 53  Music                       3005 non-null   object \n",
      " 54  Smoking                     1877 non-null   object \n",
      " 55  DietaryRestrictions         17 non-null     object \n",
      " 56  DriveThru                   2304 non-null   object \n",
      " 57  HairSpecializesIn           786 non-null    object \n",
      " 58  BYOBCorkage                 1053 non-null   object \n",
      " 59  AgesAllowed                 85 non-null     object \n",
      " 60  RestaurantsCounterService   11 non-null     object \n",
      " 61  Open24Hours                 9 non-null      object \n",
      " 62  checkin_count               82378 non-null  float64\n",
      " 63  text                        65630 non-null  float64\n",
      " 64  useful_count                99887 non-null  int64  \n",
      " 65  funny_count                 99887 non-null  int64  \n",
      " 66  cool_count                  99887 non-null  int64  \n",
      " 67  review_word_count           99887 non-null  float64\n",
      " 68  parking_garage              99633 non-null  object \n",
      " 69  parking_street              99453 non-null  object \n",
      " 70  parking_validated           99628 non-null  object \n",
      " 71  parking_lot                 99436 non-null  object \n",
      " 72  parking_valet               99887 non-null  bool   \n",
      "dtypes: bool(1), float64(6), int64(16), object(50)\n",
      "memory usage: 55.7+ MB\n"
     ]
    }
   ],
   "source": [
    "df_business_filter=df_business_final.loc[df_business_final['state'].isin([\"AZ\", \"NV\"])]\n",
    "df_business_filter.shape\n",
    "df_business_filter.info()"
   ]
  },
  {
   "cell_type": "markdown",
   "metadata": {},
   "source": [
    "# Trim Features"
   ]
  },
  {
   "cell_type": "code",
   "execution_count": 47,
   "metadata": {},
   "outputs": [
    {
     "data": {
      "text/plain": [
       "['attributes',\n",
       " 'name',\n",
       " 'address',\n",
       " 'hours',\n",
       " 'business_id',\n",
       " 'Unnamed: 0',\n",
       " ' Restaurants',\n",
       " 'longitude',\n",
       " 'latitude']"
      ]
     },
     "execution_count": 47,
     "metadata": {},
     "output_type": "execute_result"
    },
    {
     "data": {
      "image/png": "[encoded data removed]",
      "text/plain": [
       "<Figure size 432x288 with 1 Axes>"
      ]
     },
     "metadata": {
      "needs_background": "light"
     },
     "output_type": "display_data"
    }
   ],
   "source": [
    "pd.set_option('display.max_columns', 0)\n",
    "\n",
    "percent_missing = df_business_filter.isnull().sum() * 100 / len(df_business_final)\n",
    "percent_missing.sort_values(ascending=False).plot(kind=\"hist\", title=\"% missing by columns\")\n",
    "\n",
    "#Remove any columns with more than 50% missing values\n",
    "missing_values_cols=percent_missing[percent_missing >50].index\n",
    "\n",
    "#Manually Remove Values , \n",
    "remove_cols=[\"attributes\",\"name\",\"address\", \"hours\", \"business_id\", \"Unnamed: 0\", \" Restaurants\", \"longitude\", \"latitude\"]  \n",
    "\n",
    "drop_cols=list(missing_values_cols) + remove_cols\n",
    "\n",
    "#collapse 'Restaurants' and ' Restaurants'\n",
    "df_business_trim=df_business_filter.\\\n",
    "    assign(Restaurants=df_business_filter[' Restaurants'] + df_business_filter['Restaurants']).\\\n",
    "    drop(columns=drop_cols).\\\n",
    "    rename(columns=lambda x: x.strip()) #remove whitespace from column names\n",
    "\n",
    "drop_cols"
   ]
  },
  {
   "cell_type": "code",
   "execution_count": 48,
   "metadata": {},
   "outputs": [
    {
     "data": {
      "text/html": [
       "<div>\n",
       "<style scoped>\n",
       "    .dataframe tbody tr th:only-of-type {\n",
       "        vertical-align: middle;\n",
       "    }\n",
       "\n",
       "    .dataframe tbody tr th {\n",
       "        vertical-align: top;\n",
       "    }\n",
       "\n",
       "    .dataframe thead th {\n",
       "        text-align: right;\n",
       "    }\n",
       "</style>\n",
       "<table border=\"1\" class=\"dataframe\">\n",
       "  <thead>\n",
       "    <tr style=\"text-align: right;\">\n",
       "      <th></th>\n",
       "      <th>is_open</th>\n",
       "      <th>Shopping</th>\n",
       "      <th>Food</th>\n",
       "      <th>Restaurants</th>\n",
       "      <th>Home Services</th>\n",
       "      <th>Beauty &amp; Spas</th>\n",
       "      <th>Health &amp; Medical</th>\n",
       "      <th>Local Services</th>\n",
       "      <th>Nightlife</th>\n",
       "      <th>Bars</th>\n",
       "      <th>parking_street</th>\n",
       "      <th>BusinessAcceptsCreditCards</th>\n",
       "      <th>parking_lot</th>\n",
       "    </tr>\n",
       "  </thead>\n",
       "  <tbody>\n",
       "    <tr>\n",
       "      <th>1</th>\n",
       "      <td>1</td>\n",
       "      <td>0</td>\n",
       "      <td>0</td>\n",
       "      <td>0</td>\n",
       "      <td>0</td>\n",
       "      <td>0</td>\n",
       "      <td>0</td>\n",
       "      <td>0</td>\n",
       "      <td>0</td>\n",
       "      <td>0</td>\n",
       "      <td>False</td>\n",
       "      <td>NaN</td>\n",
       "      <td>False</td>\n",
       "    </tr>\n",
       "    <tr>\n",
       "      <th>3</th>\n",
       "      <td>0</td>\n",
       "      <td>1</td>\n",
       "      <td>0</td>\n",
       "      <td>0</td>\n",
       "      <td>1</td>\n",
       "      <td>0</td>\n",
       "      <td>0</td>\n",
       "      <td>0</td>\n",
       "      <td>0</td>\n",
       "      <td>0</td>\n",
       "      <td>False</td>\n",
       "      <td>True</td>\n",
       "      <td>True</td>\n",
       "    </tr>\n",
       "    <tr>\n",
       "      <th>4</th>\n",
       "      <td>1</td>\n",
       "      <td>0</td>\n",
       "      <td>0</td>\n",
       "      <td>0</td>\n",
       "      <td>0</td>\n",
       "      <td>0</td>\n",
       "      <td>0</td>\n",
       "      <td>0</td>\n",
       "      <td>0</td>\n",
       "      <td>0</td>\n",
       "      <td>False</td>\n",
       "      <td>True</td>\n",
       "      <td>False</td>\n",
       "    </tr>\n",
       "    <tr>\n",
       "      <th>5</th>\n",
       "      <td>1</td>\n",
       "      <td>0</td>\n",
       "      <td>0</td>\n",
       "      <td>0</td>\n",
       "      <td>0</td>\n",
       "      <td>0</td>\n",
       "      <td>0</td>\n",
       "      <td>0</td>\n",
       "      <td>0</td>\n",
       "      <td>0</td>\n",
       "      <td>False</td>\n",
       "      <td>True</td>\n",
       "      <td>False</td>\n",
       "    </tr>\n",
       "    <tr>\n",
       "      <th>6</th>\n",
       "      <td>1</td>\n",
       "      <td>0</td>\n",
       "      <td>0</td>\n",
       "      <td>0</td>\n",
       "      <td>0</td>\n",
       "      <td>0</td>\n",
       "      <td>0</td>\n",
       "      <td>1</td>\n",
       "      <td>0</td>\n",
       "      <td>0</td>\n",
       "      <td>False</td>\n",
       "      <td>True</td>\n",
       "      <td>True</td>\n",
       "    </tr>\n",
       "    <tr>\n",
       "      <th>...</th>\n",
       "      <td>...</td>\n",
       "      <td>...</td>\n",
       "      <td>...</td>\n",
       "      <td>...</td>\n",
       "      <td>...</td>\n",
       "      <td>...</td>\n",
       "      <td>...</td>\n",
       "      <td>...</td>\n",
       "      <td>...</td>\n",
       "      <td>...</td>\n",
       "      <td>...</td>\n",
       "      <td>...</td>\n",
       "      <td>...</td>\n",
       "    </tr>\n",
       "    <tr>\n",
       "      <th>209380</th>\n",
       "      <td>1</td>\n",
       "      <td>0</td>\n",
       "      <td>0</td>\n",
       "      <td>1</td>\n",
       "      <td>0</td>\n",
       "      <td>0</td>\n",
       "      <td>0</td>\n",
       "      <td>0</td>\n",
       "      <td>0</td>\n",
       "      <td>1</td>\n",
       "      <td>False</td>\n",
       "      <td>True</td>\n",
       "      <td>True</td>\n",
       "    </tr>\n",
       "    <tr>\n",
       "      <th>209382</th>\n",
       "      <td>1</td>\n",
       "      <td>0</td>\n",
       "      <td>0</td>\n",
       "      <td>0</td>\n",
       "      <td>0</td>\n",
       "      <td>0</td>\n",
       "      <td>0</td>\n",
       "      <td>0</td>\n",
       "      <td>0</td>\n",
       "      <td>0</td>\n",
       "      <td>False</td>\n",
       "      <td>NaN</td>\n",
       "      <td>False</td>\n",
       "    </tr>\n",
       "    <tr>\n",
       "      <th>209384</th>\n",
       "      <td>1</td>\n",
       "      <td>0</td>\n",
       "      <td>0</td>\n",
       "      <td>0</td>\n",
       "      <td>1</td>\n",
       "      <td>0</td>\n",
       "      <td>0</td>\n",
       "      <td>0</td>\n",
       "      <td>0</td>\n",
       "      <td>0</td>\n",
       "      <td>False</td>\n",
       "      <td>True</td>\n",
       "      <td>False</td>\n",
       "    </tr>\n",
       "    <tr>\n",
       "      <th>209386</th>\n",
       "      <td>1</td>\n",
       "      <td>0</td>\n",
       "      <td>0</td>\n",
       "      <td>0</td>\n",
       "      <td>1</td>\n",
       "      <td>0</td>\n",
       "      <td>0</td>\n",
       "      <td>1</td>\n",
       "      <td>0</td>\n",
       "      <td>0</td>\n",
       "      <td>False</td>\n",
       "      <td>True</td>\n",
       "      <td>False</td>\n",
       "    </tr>\n",
       "    <tr>\n",
       "      <th>209390</th>\n",
       "      <td>1</td>\n",
       "      <td>0</td>\n",
       "      <td>1</td>\n",
       "      <td>1</td>\n",
       "      <td>0</td>\n",
       "      <td>0</td>\n",
       "      <td>0</td>\n",
       "      <td>0</td>\n",
       "      <td>0</td>\n",
       "      <td>0</td>\n",
       "      <td>False</td>\n",
       "      <td>True</td>\n",
       "      <td>True</td>\n",
       "    </tr>\n",
       "  </tbody>\n",
       "</table>\n",
       "<p>99887 rows × 13 columns</p>\n",
       "</div>"
      ],
      "text/plain": [
       "        is_open  Shopping  ...  BusinessAcceptsCreditCards  parking_lot\n",
       "1             1         0  ...                         NaN        False\n",
       "3             0         1  ...                        True         True\n",
       "4             1         0  ...                        True        False\n",
       "5             1         0  ...                        True        False\n",
       "6             1         0  ...                        True         True\n",
       "...         ...       ...  ...                         ...          ...\n",
       "209380        1         0  ...                        True         True\n",
       "209382        1         0  ...                         NaN        False\n",
       "209384        1         0  ...                        True        False\n",
       "209386        1         0  ...                        True        False\n",
       "209390        1         0  ...                        True         True\n",
       "\n",
       "[99887 rows x 13 columns]"
      ]
     },
     "execution_count": 48,
     "metadata": {},
     "output_type": "execute_result"
    }
   ],
   "source": [
    "encode_bool_cols=df_business_trim.select_dtypes(include='int').drop(['review_count','useful_count', 'funny_count','cool_count'], axis=1).columns\n",
    "encode_bool_cols=list(encode_bool_cols)+[\"parking_street\",\"BusinessAcceptsCreditCards\",\"parking_lot\"]\n",
    "\n",
    "df_business_trim[encode_bool_cols]"
   ]
  },
  {
   "cell_type": "markdown",
   "metadata": {},
   "source": [
    "## Transformation"
   ]
  },
  {
   "cell_type": "code",
   "execution_count": 49,
   "metadata": {
    "scrolled": true
   },
   "outputs": [
    {
     "data": {
      "text/html": [
       "<div>\n",
       "<style scoped>\n",
       "    .dataframe tbody tr th:only-of-type {\n",
       "        vertical-align: middle;\n",
       "    }\n",
       "\n",
       "    .dataframe tbody tr th {\n",
       "        vertical-align: top;\n",
       "    }\n",
       "\n",
       "    .dataframe thead th {\n",
       "        text-align: right;\n",
       "    }\n",
       "</style>\n",
       "<table border=\"1\" class=\"dataframe\">\n",
       "  <thead>\n",
       "    <tr style=\"text-align: right;\">\n",
       "      <th></th>\n",
       "      <th>state</th>\n",
       "      <th>stars</th>\n",
       "      <th>review_count</th>\n",
       "      <th>BikeParking</th>\n",
       "      <th>GoodForKids</th>\n",
       "      <th>ByAppointmentOnly</th>\n",
       "      <th>RestaurantsPriceRange2</th>\n",
       "      <th>DogsAllowed</th>\n",
       "      <th>WiFi</th>\n",
       "      <th>RestaurantsAttire</th>\n",
       "      <th>RestaurantsTakeOut</th>\n",
       "      <th>NoiseLevel</th>\n",
       "      <th>RestaurantsReservations</th>\n",
       "      <th>RestaurantsGoodForGroups</th>\n",
       "      <th>HasTV</th>\n",
       "      <th>Alcohol</th>\n",
       "      <th>RestaurantsDelivery</th>\n",
       "      <th>OutdoorSeating</th>\n",
       "      <th>Caters</th>\n",
       "      <th>WheelchairAccessible</th>\n",
       "      <th>AcceptsInsurance</th>\n",
       "      <th>RestaurantsTableService</th>\n",
       "      <th>Ambience</th>\n",
       "      <th>GoodForMeal</th>\n",
       "      <th>HappyHour</th>\n",
       "      <th>BusinessAcceptsBitcoin</th>\n",
       "      <th>BYOB</th>\n",
       "      <th>Corkage</th>\n",
       "      <th>GoodForDancing</th>\n",
       "      <th>CoatCheck</th>\n",
       "      <th>BestNights</th>\n",
       "      <th>Music</th>\n",
       "      <th>Smoking</th>\n",
       "      <th>DietaryRestrictions</th>\n",
       "      <th>DriveThru</th>\n",
       "      <th>HairSpecializesIn</th>\n",
       "      <th>BYOBCorkage</th>\n",
       "      <th>AgesAllowed</th>\n",
       "      <th>RestaurantsCounterService</th>\n",
       "      <th>Open24Hours</th>\n",
       "      <th>checkin_count</th>\n",
       "      <th>text</th>\n",
       "      <th>useful_count</th>\n",
       "      <th>funny_count</th>\n",
       "      <th>cool_count</th>\n",
       "      <th>review_word_count</th>\n",
       "      <th>parking_garage</th>\n",
       "      <th>parking_validated</th>\n",
       "      <th>parking_valet</th>\n",
       "      <th>zip3</th>\n",
       "      <th>city_state</th>\n",
       "      <th>is_open</th>\n",
       "      <th>Shopping</th>\n",
       "      <th>Food</th>\n",
       "      <th>Restaurants</th>\n",
       "      <th>Home Services</th>\n",
       "      <th>Beauty &amp; Spas</th>\n",
       "      <th>Health &amp; Medical</th>\n",
       "      <th>Local Services</th>\n",
       "      <th>Nightlife</th>\n",
       "      <th>Bars</th>\n",
       "      <th>parking_street</th>\n",
       "      <th>BusinessAcceptsCreditCards</th>\n",
       "      <th>parking_lot</th>\n",
       "      <th>rating_category</th>\n",
       "    </tr>\n",
       "  </thead>\n",
       "  <tbody>\n",
       "    <tr>\n",
       "      <th>1</th>\n",
       "      <td>AZ</td>\n",
       "      <td>5.0</td>\n",
       "      <td>4</td>\n",
       "      <td>NaN</td>\n",
       "      <td>True</td>\n",
       "      <td>True</td>\n",
       "      <td>NaN</td>\n",
       "      <td>NaN</td>\n",
       "      <td>NaN</td>\n",
       "      <td>NaN</td>\n",
       "      <td>NaN</td>\n",
       "      <td>NaN</td>\n",
       "      <td>NaN</td>\n",
       "      <td>NaN</td>\n",
       "      <td>NaN</td>\n",
       "      <td>NaN</td>\n",
       "      <td>NaN</td>\n",
       "      <td>NaN</td>\n",
       "      <td>NaN</td>\n",
       "      <td>NaN</td>\n",
       "      <td>NaN</td>\n",
       "      <td>NaN</td>\n",
       "      <td>NaN</td>\n",
       "      <td>NaN</td>\n",
       "      <td>NaN</td>\n",
       "      <td>NaN</td>\n",
       "      <td>NaN</td>\n",
       "      <td>NaN</td>\n",
       "      <td>NaN</td>\n",
       "      <td>NaN</td>\n",
       "      <td>NaN</td>\n",
       "      <td>NaN</td>\n",
       "      <td>NaN</td>\n",
       "      <td>NaN</td>\n",
       "      <td>NaN</td>\n",
       "      <td>NaN</td>\n",
       "      <td>NaN</td>\n",
       "      <td>NaN</td>\n",
       "      <td>NaN</td>\n",
       "      <td>NaN</td>\n",
       "      <td>9.0</td>\n",
       "      <td>NaN</td>\n",
       "      <td>4</td>\n",
       "      <td>2</td>\n",
       "      <td>1</td>\n",
       "      <td>121.000000</td>\n",
       "      <td>False</td>\n",
       "      <td>False</td>\n",
       "      <td>False</td>\n",
       "      <td>852</td>\n",
       "      <td>Scottsdale_AZ</td>\n",
       "      <td>True</td>\n",
       "      <td>False</td>\n",
       "      <td>False</td>\n",
       "      <td>False</td>\n",
       "      <td>False</td>\n",
       "      <td>False</td>\n",
       "      <td>False</td>\n",
       "      <td>False</td>\n",
       "      <td>False</td>\n",
       "      <td>False</td>\n",
       "      <td>False</td>\n",
       "      <td>False</td>\n",
       "      <td>False</td>\n",
       "      <td>2</td>\n",
       "    </tr>\n",
       "    <tr>\n",
       "      <th>3</th>\n",
       "      <td>NV</td>\n",
       "      <td>2.5</td>\n",
       "      <td>3</td>\n",
       "      <td>True</td>\n",
       "      <td>NaN</td>\n",
       "      <td>False</td>\n",
       "      <td>4.0</td>\n",
       "      <td>True</td>\n",
       "      <td>NaN</td>\n",
       "      <td>NaN</td>\n",
       "      <td>NaN</td>\n",
       "      <td>NaN</td>\n",
       "      <td>NaN</td>\n",
       "      <td>NaN</td>\n",
       "      <td>NaN</td>\n",
       "      <td>NaN</td>\n",
       "      <td>NaN</td>\n",
       "      <td>NaN</td>\n",
       "      <td>NaN</td>\n",
       "      <td>NaN</td>\n",
       "      <td>NaN</td>\n",
       "      <td>NaN</td>\n",
       "      <td>NaN</td>\n",
       "      <td>NaN</td>\n",
       "      <td>NaN</td>\n",
       "      <td>NaN</td>\n",
       "      <td>NaN</td>\n",
       "      <td>NaN</td>\n",
       "      <td>NaN</td>\n",
       "      <td>NaN</td>\n",
       "      <td>NaN</td>\n",
       "      <td>NaN</td>\n",
       "      <td>NaN</td>\n",
       "      <td>NaN</td>\n",
       "      <td>NaN</td>\n",
       "      <td>NaN</td>\n",
       "      <td>NaN</td>\n",
       "      <td>NaN</td>\n",
       "      <td>NaN</td>\n",
       "      <td>NaN</td>\n",
       "      <td>3.0</td>\n",
       "      <td>NaN</td>\n",
       "      <td>1</td>\n",
       "      <td>0</td>\n",
       "      <td>0</td>\n",
       "      <td>26.666667</td>\n",
       "      <td>False</td>\n",
       "      <td>False</td>\n",
       "      <td>False</td>\n",
       "      <td>890</td>\n",
       "      <td>North Las Vegas_NV</td>\n",
       "      <td>False</td>\n",
       "      <td>True</td>\n",
       "      <td>False</td>\n",
       "      <td>False</td>\n",
       "      <td>True</td>\n",
       "      <td>False</td>\n",
       "      <td>False</td>\n",
       "      <td>False</td>\n",
       "      <td>False</td>\n",
       "      <td>False</td>\n",
       "      <td>False</td>\n",
       "      <td>True</td>\n",
       "      <td>True</td>\n",
       "      <td>0</td>\n",
       "    </tr>\n",
       "    <tr>\n",
       "      <th>4</th>\n",
       "      <td>AZ</td>\n",
       "      <td>4.5</td>\n",
       "      <td>26</td>\n",
       "      <td>NaN</td>\n",
       "      <td>NaN</td>\n",
       "      <td>True</td>\n",
       "      <td>NaN</td>\n",
       "      <td>NaN</td>\n",
       "      <td>NaN</td>\n",
       "      <td>NaN</td>\n",
       "      <td>NaN</td>\n",
       "      <td>NaN</td>\n",
       "      <td>NaN</td>\n",
       "      <td>NaN</td>\n",
       "      <td>NaN</td>\n",
       "      <td>NaN</td>\n",
       "      <td>NaN</td>\n",
       "      <td>NaN</td>\n",
       "      <td>NaN</td>\n",
       "      <td>NaN</td>\n",
       "      <td>NaN</td>\n",
       "      <td>NaN</td>\n",
       "      <td>NaN</td>\n",
       "      <td>NaN</td>\n",
       "      <td>NaN</td>\n",
       "      <td>NaN</td>\n",
       "      <td>NaN</td>\n",
       "      <td>NaN</td>\n",
       "      <td>NaN</td>\n",
       "      <td>NaN</td>\n",
       "      <td>NaN</td>\n",
       "      <td>NaN</td>\n",
       "      <td>NaN</td>\n",
       "      <td>NaN</td>\n",
       "      <td>NaN</td>\n",
       "      <td>NaN</td>\n",
       "      <td>NaN</td>\n",
       "      <td>NaN</td>\n",
       "      <td>NaN</td>\n",
       "      <td>NaN</td>\n",
       "      <td>1.0</td>\n",
       "      <td>NaN</td>\n",
       "      <td>11</td>\n",
       "      <td>6</td>\n",
       "      <td>3</td>\n",
       "      <td>86.962963</td>\n",
       "      <td>False</td>\n",
       "      <td>False</td>\n",
       "      <td>False</td>\n",
       "      <td>852</td>\n",
       "      <td>Mesa_AZ</td>\n",
       "      <td>True</td>\n",
       "      <td>False</td>\n",
       "      <td>False</td>\n",
       "      <td>False</td>\n",
       "      <td>False</td>\n",
       "      <td>False</td>\n",
       "      <td>False</td>\n",
       "      <td>False</td>\n",
       "      <td>False</td>\n",
       "      <td>False</td>\n",
       "      <td>False</td>\n",
       "      <td>True</td>\n",
       "      <td>False</td>\n",
       "      <td>2</td>\n",
       "    </tr>\n",
       "    <tr>\n",
       "      <th>5</th>\n",
       "      <td>AZ</td>\n",
       "      <td>4.5</td>\n",
       "      <td>38</td>\n",
       "      <td>NaN</td>\n",
       "      <td>NaN</td>\n",
       "      <td>NaN</td>\n",
       "      <td>NaN</td>\n",
       "      <td>NaN</td>\n",
       "      <td>NaN</td>\n",
       "      <td>NaN</td>\n",
       "      <td>NaN</td>\n",
       "      <td>NaN</td>\n",
       "      <td>NaN</td>\n",
       "      <td>NaN</td>\n",
       "      <td>NaN</td>\n",
       "      <td>NaN</td>\n",
       "      <td>NaN</td>\n",
       "      <td>NaN</td>\n",
       "      <td>NaN</td>\n",
       "      <td>NaN</td>\n",
       "      <td>NaN</td>\n",
       "      <td>NaN</td>\n",
       "      <td>NaN</td>\n",
       "      <td>NaN</td>\n",
       "      <td>NaN</td>\n",
       "      <td>NaN</td>\n",
       "      <td>NaN</td>\n",
       "      <td>NaN</td>\n",
       "      <td>NaN</td>\n",
       "      <td>NaN</td>\n",
       "      <td>NaN</td>\n",
       "      <td>NaN</td>\n",
       "      <td>NaN</td>\n",
       "      <td>NaN</td>\n",
       "      <td>NaN</td>\n",
       "      <td>NaN</td>\n",
       "      <td>NaN</td>\n",
       "      <td>NaN</td>\n",
       "      <td>NaN</td>\n",
       "      <td>NaN</td>\n",
       "      <td>39.0</td>\n",
       "      <td>4.0</td>\n",
       "      <td>25</td>\n",
       "      <td>6</td>\n",
       "      <td>2</td>\n",
       "      <td>81.690476</td>\n",
       "      <td>False</td>\n",
       "      <td>False</td>\n",
       "      <td>False</td>\n",
       "      <td>852</td>\n",
       "      <td>Gilbert_AZ</td>\n",
       "      <td>True</td>\n",
       "      <td>False</td>\n",
       "      <td>False</td>\n",
       "      <td>False</td>\n",
       "      <td>False</td>\n",
       "      <td>False</td>\n",
       "      <td>False</td>\n",
       "      <td>False</td>\n",
       "      <td>False</td>\n",
       "      <td>False</td>\n",
       "      <td>False</td>\n",
       "      <td>True</td>\n",
       "      <td>False</td>\n",
       "      <td>2</td>\n",
       "    </tr>\n",
       "    <tr>\n",
       "      <th>6</th>\n",
       "      <td>NV</td>\n",
       "      <td>3.5</td>\n",
       "      <td>81</td>\n",
       "      <td>True</td>\n",
       "      <td>NaN</td>\n",
       "      <td>NaN</td>\n",
       "      <td>1.0</td>\n",
       "      <td>NaN</td>\n",
       "      <td>u'no'</td>\n",
       "      <td>NaN</td>\n",
       "      <td>NaN</td>\n",
       "      <td>NaN</td>\n",
       "      <td>NaN</td>\n",
       "      <td>NaN</td>\n",
       "      <td>NaN</td>\n",
       "      <td>NaN</td>\n",
       "      <td>NaN</td>\n",
       "      <td>NaN</td>\n",
       "      <td>NaN</td>\n",
       "      <td>NaN</td>\n",
       "      <td>NaN</td>\n",
       "      <td>NaN</td>\n",
       "      <td>NaN</td>\n",
       "      <td>NaN</td>\n",
       "      <td>NaN</td>\n",
       "      <td>NaN</td>\n",
       "      <td>NaN</td>\n",
       "      <td>NaN</td>\n",
       "      <td>NaN</td>\n",
       "      <td>NaN</td>\n",
       "      <td>NaN</td>\n",
       "      <td>NaN</td>\n",
       "      <td>NaN</td>\n",
       "      <td>NaN</td>\n",
       "      <td>NaN</td>\n",
       "      <td>NaN</td>\n",
       "      <td>NaN</td>\n",
       "      <td>NaN</td>\n",
       "      <td>NaN</td>\n",
       "      <td>NaN</td>\n",
       "      <td>328.0</td>\n",
       "      <td>22.0</td>\n",
       "      <td>50</td>\n",
       "      <td>18</td>\n",
       "      <td>22</td>\n",
       "      <td>111.097561</td>\n",
       "      <td>False</td>\n",
       "      <td>False</td>\n",
       "      <td>False</td>\n",
       "      <td>891</td>\n",
       "      <td>Las Vegas_NV</td>\n",
       "      <td>True</td>\n",
       "      <td>False</td>\n",
       "      <td>False</td>\n",
       "      <td>False</td>\n",
       "      <td>False</td>\n",
       "      <td>False</td>\n",
       "      <td>False</td>\n",
       "      <td>True</td>\n",
       "      <td>False</td>\n",
       "      <td>False</td>\n",
       "      <td>False</td>\n",
       "      <td>True</td>\n",
       "      <td>True</td>\n",
       "      <td>1</td>\n",
       "    </tr>\n",
       "  </tbody>\n",
       "</table>\n",
       "</div>"
      ],
      "text/plain": [
       "  state  stars  ...  parking_lot rating_category\n",
       "1    AZ    5.0  ...        False               2\n",
       "3    NV    2.5  ...         True               0\n",
       "4    AZ    4.5  ...        False               2\n",
       "5    AZ    4.5  ...        False               2\n",
       "6    NV    3.5  ...         True               1\n",
       "\n",
       "[5 rows x 65 columns]"
      ]
     },
     "execution_count": 49,
     "metadata": {},
     "output_type": "execute_result"
    }
   ],
   "source": [
    "def encode_null(s):\n",
    "    if s=='None':\n",
    "         return None\n",
    "    elif pd.isnull(s):\n",
    "         return None\n",
    "    else:\n",
    "        return s\n",
    "\n",
    "#encode string values of null\n",
    "restaurant_price_encoded=df_business_trim.RestaurantsPriceRange2.apply(encode_null).astype(\"float\")\n",
    "\n",
    "# #encode boolean columns \n",
    "df_boolean=df_business_trim[encode_bool_cols].applymap(encode_bool).astype('bool')\n",
    "\n",
    "df_business_transform = df_business_trim.\\\n",
    "    assign(zip3=df_business_trim.postal_code.apply(lambda x:str(x)[0:3])).\\\n",
    "    drop(\"postal_code\", axis=1).\\\n",
    "    assign(city_state=df_business_trim[\"city\"]+\"_\"+df_business_trim[\"state\"]).\\\n",
    "    drop(\"city\", axis=1).\\\n",
    "    drop(encode_bool_cols, axis=1).\\\n",
    "    merge(\n",
    "        df_boolean,\n",
    "        how='left',\n",
    "        left_index=True,\n",
    "        right_index=True\n",
    "    ).\\\n",
    "    assign(RestaurantsPriceRange2=restaurant_price_encoded)\n",
    "\n",
    "#transform stars to categorical 0,1,2 (i.e. low,medium,high)\n",
    "df_business_transform['rating_category'] = 0 #for less tha 2.5\n",
    "df_business_transform.loc[(df_business_transform['stars'] > 2.5) & (df_business_transform['stars'] <= 3.9), 'rating_category'] = 1 #between 2.6 and 3.9\n",
    "df_business_transform.loc[(df_business_transform['stars'] > 3.9), 'rating_category'] = 2 #greater  4 \n",
    "df_business_transform['rating_category']=df_business_transform['rating_category'].astype(int) \n",
    "df_business_transform.head()"
   ]
  },
  {
   "cell_type": "code",
   "execution_count": 50,
   "metadata": {},
   "outputs": [
    {
     "name": "stdout",
     "output_type": "stream",
     "text": [
      "Beauty & Spas\n",
      "Bars\n",
      "Nightlife\n",
      "Local Services\n",
      "Health & Medical\n",
      "Home Services\n",
      "is_open\n",
      "Shopping\n",
      "Food\n",
      "Restaurants\n",
      "BusinessAcceptsCreditCards\n",
      "parking_valet\n",
      "parking_lot\n",
      "parking_garage\n",
      "parking_street\n",
      "parking_validated\n",
      "RestaurantsPriceRange2\n",
      "state\n",
      "city_state\n",
      "zip3\n",
      "rating_category\n"
     ]
    }
   ],
   "source": [
    "categorical_cols=[\"Beauty & Spas\",\"Bars\",\"Nightlife\",\"Local Services\",\"Health & Medical\",\"Home Services\",\"is_open\",\"Shopping\",\"Food\",\"Restaurants\",\"BusinessAcceptsCreditCards\",\"parking_valet\",\"parking_lot\",\"parking_garage\",\"parking_street\",\"parking_validated\",\"RestaurantsPriceRange2\",\"state\",\"city_state\",\"zip3\", \"rating_category\"]\n",
    "\n",
    "df_business_hot=df_business_transform\n",
    "for col in categorical_cols:\n",
    "    print(col)\n",
    "    dummies=pd.get_dummies(df_business_hot[col], dummy_na=True, prefix=col)\n",
    "    df_business_hot=df_business_hot.\\\n",
    "        drop(col,axis=1).\\\n",
    "    merge(\n",
    "        dummies,\n",
    "        how='left',\n",
    "        left_index=True,\n",
    "        right_index=True\n",
    "        )"
   ]
  },
  {
   "cell_type": "code",
   "execution_count": 51,
   "metadata": {},
   "outputs": [
    {
     "data": {
      "text/html": [
       "<div>\n",
       "<style scoped>\n",
       "    .dataframe tbody tr th:only-of-type {\n",
       "        vertical-align: middle;\n",
       "    }\n",
       "\n",
       "    .dataframe tbody tr th {\n",
       "        vertical-align: top;\n",
       "    }\n",
       "\n",
       "    .dataframe thead th {\n",
       "        text-align: right;\n",
       "    }\n",
       "</style>\n",
       "<table border=\"1\" class=\"dataframe\">\n",
       "  <thead>\n",
       "    <tr style=\"text-align: right;\">\n",
       "      <th></th>\n",
       "      <th>stars</th>\n",
       "      <th>review_count</th>\n",
       "      <th>BikeParking</th>\n",
       "      <th>GoodForKids</th>\n",
       "      <th>ByAppointmentOnly</th>\n",
       "      <th>DogsAllowed</th>\n",
       "      <th>WiFi</th>\n",
       "      <th>RestaurantsAttire</th>\n",
       "      <th>RestaurantsTakeOut</th>\n",
       "      <th>NoiseLevel</th>\n",
       "      <th>RestaurantsReservations</th>\n",
       "      <th>RestaurantsGoodForGroups</th>\n",
       "      <th>HasTV</th>\n",
       "      <th>Alcohol</th>\n",
       "      <th>RestaurantsDelivery</th>\n",
       "      <th>OutdoorSeating</th>\n",
       "      <th>Caters</th>\n",
       "      <th>WheelchairAccessible</th>\n",
       "      <th>AcceptsInsurance</th>\n",
       "      <th>RestaurantsTableService</th>\n",
       "      <th>Ambience</th>\n",
       "      <th>GoodForMeal</th>\n",
       "      <th>HappyHour</th>\n",
       "      <th>BusinessAcceptsBitcoin</th>\n",
       "      <th>BYOB</th>\n",
       "      <th>Corkage</th>\n",
       "      <th>GoodForDancing</th>\n",
       "      <th>CoatCheck</th>\n",
       "      <th>BestNights</th>\n",
       "      <th>Music</th>\n",
       "      <th>Smoking</th>\n",
       "      <th>DietaryRestrictions</th>\n",
       "      <th>DriveThru</th>\n",
       "      <th>HairSpecializesIn</th>\n",
       "      <th>BYOBCorkage</th>\n",
       "      <th>AgesAllowed</th>\n",
       "      <th>RestaurantsCounterService</th>\n",
       "      <th>Open24Hours</th>\n",
       "      <th>checkin_count</th>\n",
       "      <th>text</th>\n",
       "      <th>...</th>\n",
       "      <th>zip3_850</th>\n",
       "      <th>zip3_851</th>\n",
       "      <th>zip3_852</th>\n",
       "      <th>zip3_853</th>\n",
       "      <th>zip3_854</th>\n",
       "      <th>zip3_855</th>\n",
       "      <th>zip3_857</th>\n",
       "      <th>zip3_858</th>\n",
       "      <th>zip3_859</th>\n",
       "      <th>zip3_860</th>\n",
       "      <th>zip3_863</th>\n",
       "      <th>zip3_864</th>\n",
       "      <th>zip3_871</th>\n",
       "      <th>zip3_880</th>\n",
       "      <th>zip3_881</th>\n",
       "      <th>zip3_889</th>\n",
       "      <th>zip3_890</th>\n",
       "      <th>zip3_891</th>\n",
       "      <th>zip3_894</th>\n",
       "      <th>zip3_895</th>\n",
       "      <th>zip3_900</th>\n",
       "      <th>zip3_910</th>\n",
       "      <th>zip3_911</th>\n",
       "      <th>zip3_912</th>\n",
       "      <th>zip3_920</th>\n",
       "      <th>zip3_925</th>\n",
       "      <th>zip3_928</th>\n",
       "      <th>zip3_930</th>\n",
       "      <th>zip3_940</th>\n",
       "      <th>zip3_952</th>\n",
       "      <th>zip3_953</th>\n",
       "      <th>zip3_959</th>\n",
       "      <th>zip3_967</th>\n",
       "      <th>zip3_981</th>\n",
       "      <th>zip3_nan</th>\n",
       "      <th>zip3_nan</th>\n",
       "      <th>rating_category_0.0</th>\n",
       "      <th>rating_category_1.0</th>\n",
       "      <th>rating_category_2.0</th>\n",
       "      <th>rating_category_nan</th>\n",
       "    </tr>\n",
       "  </thead>\n",
       "  <tbody>\n",
       "    <tr>\n",
       "      <th>1</th>\n",
       "      <td>5.0</td>\n",
       "      <td>4</td>\n",
       "      <td>NaN</td>\n",
       "      <td>True</td>\n",
       "      <td>True</td>\n",
       "      <td>NaN</td>\n",
       "      <td>NaN</td>\n",
       "      <td>NaN</td>\n",
       "      <td>NaN</td>\n",
       "      <td>NaN</td>\n",
       "      <td>NaN</td>\n",
       "      <td>NaN</td>\n",
       "      <td>NaN</td>\n",
       "      <td>NaN</td>\n",
       "      <td>NaN</td>\n",
       "      <td>NaN</td>\n",
       "      <td>NaN</td>\n",
       "      <td>NaN</td>\n",
       "      <td>NaN</td>\n",
       "      <td>NaN</td>\n",
       "      <td>NaN</td>\n",
       "      <td>NaN</td>\n",
       "      <td>NaN</td>\n",
       "      <td>NaN</td>\n",
       "      <td>NaN</td>\n",
       "      <td>NaN</td>\n",
       "      <td>NaN</td>\n",
       "      <td>NaN</td>\n",
       "      <td>NaN</td>\n",
       "      <td>NaN</td>\n",
       "      <td>NaN</td>\n",
       "      <td>NaN</td>\n",
       "      <td>NaN</td>\n",
       "      <td>NaN</td>\n",
       "      <td>NaN</td>\n",
       "      <td>NaN</td>\n",
       "      <td>NaN</td>\n",
       "      <td>NaN</td>\n",
       "      <td>9.0</td>\n",
       "      <td>NaN</td>\n",
       "      <td>...</td>\n",
       "      <td>0</td>\n",
       "      <td>0</td>\n",
       "      <td>1</td>\n",
       "      <td>0</td>\n",
       "      <td>0</td>\n",
       "      <td>0</td>\n",
       "      <td>0</td>\n",
       "      <td>0</td>\n",
       "      <td>0</td>\n",
       "      <td>0</td>\n",
       "      <td>0</td>\n",
       "      <td>0</td>\n",
       "      <td>0</td>\n",
       "      <td>0</td>\n",
       "      <td>0</td>\n",
       "      <td>0</td>\n",
       "      <td>0</td>\n",
       "      <td>0</td>\n",
       "      <td>0</td>\n",
       "      <td>0</td>\n",
       "      <td>0</td>\n",
       "      <td>0</td>\n",
       "      <td>0</td>\n",
       "      <td>0</td>\n",
       "      <td>0</td>\n",
       "      <td>0</td>\n",
       "      <td>0</td>\n",
       "      <td>0</td>\n",
       "      <td>0</td>\n",
       "      <td>0</td>\n",
       "      <td>0</td>\n",
       "      <td>0</td>\n",
       "      <td>0</td>\n",
       "      <td>0</td>\n",
       "      <td>0</td>\n",
       "      <td>0</td>\n",
       "      <td>0</td>\n",
       "      <td>0</td>\n",
       "      <td>1</td>\n",
       "      <td>0</td>\n",
       "    </tr>\n",
       "    <tr>\n",
       "      <th>3</th>\n",
       "      <td>2.5</td>\n",
       "      <td>3</td>\n",
       "      <td>True</td>\n",
       "      <td>NaN</td>\n",
       "      <td>False</td>\n",
       "      <td>True</td>\n",
       "      <td>NaN</td>\n",
       "      <td>NaN</td>\n",
       "      <td>NaN</td>\n",
       "      <td>NaN</td>\n",
       "      <td>NaN</td>\n",
       "      <td>NaN</td>\n",
       "      <td>NaN</td>\n",
       "      <td>NaN</td>\n",
       "      <td>NaN</td>\n",
       "      <td>NaN</td>\n",
       "      <td>NaN</td>\n",
       "      <td>NaN</td>\n",
       "      <td>NaN</td>\n",
       "      <td>NaN</td>\n",
       "      <td>NaN</td>\n",
       "      <td>NaN</td>\n",
       "      <td>NaN</td>\n",
       "      <td>NaN</td>\n",
       "      <td>NaN</td>\n",
       "      <td>NaN</td>\n",
       "      <td>NaN</td>\n",
       "      <td>NaN</td>\n",
       "      <td>NaN</td>\n",
       "      <td>NaN</td>\n",
       "      <td>NaN</td>\n",
       "      <td>NaN</td>\n",
       "      <td>NaN</td>\n",
       "      <td>NaN</td>\n",
       "      <td>NaN</td>\n",
       "      <td>NaN</td>\n",
       "      <td>NaN</td>\n",
       "      <td>NaN</td>\n",
       "      <td>3.0</td>\n",
       "      <td>NaN</td>\n",
       "      <td>...</td>\n",
       "      <td>0</td>\n",
       "      <td>0</td>\n",
       "      <td>0</td>\n",
       "      <td>0</td>\n",
       "      <td>0</td>\n",
       "      <td>0</td>\n",
       "      <td>0</td>\n",
       "      <td>0</td>\n",
       "      <td>0</td>\n",
       "      <td>0</td>\n",
       "      <td>0</td>\n",
       "      <td>0</td>\n",
       "      <td>0</td>\n",
       "      <td>0</td>\n",
       "      <td>0</td>\n",
       "      <td>0</td>\n",
       "      <td>1</td>\n",
       "      <td>0</td>\n",
       "      <td>0</td>\n",
       "      <td>0</td>\n",
       "      <td>0</td>\n",
       "      <td>0</td>\n",
       "      <td>0</td>\n",
       "      <td>0</td>\n",
       "      <td>0</td>\n",
       "      <td>0</td>\n",
       "      <td>0</td>\n",
       "      <td>0</td>\n",
       "      <td>0</td>\n",
       "      <td>0</td>\n",
       "      <td>0</td>\n",
       "      <td>0</td>\n",
       "      <td>0</td>\n",
       "      <td>0</td>\n",
       "      <td>0</td>\n",
       "      <td>0</td>\n",
       "      <td>1</td>\n",
       "      <td>0</td>\n",
       "      <td>0</td>\n",
       "      <td>0</td>\n",
       "    </tr>\n",
       "    <tr>\n",
       "      <th>4</th>\n",
       "      <td>4.5</td>\n",
       "      <td>26</td>\n",
       "      <td>NaN</td>\n",
       "      <td>NaN</td>\n",
       "      <td>True</td>\n",
       "      <td>NaN</td>\n",
       "      <td>NaN</td>\n",
       "      <td>NaN</td>\n",
       "      <td>NaN</td>\n",
       "      <td>NaN</td>\n",
       "      <td>NaN</td>\n",
       "      <td>NaN</td>\n",
       "      <td>NaN</td>\n",
       "      <td>NaN</td>\n",
       "      <td>NaN</td>\n",
       "      <td>NaN</td>\n",
       "      <td>NaN</td>\n",
       "      <td>NaN</td>\n",
       "      <td>NaN</td>\n",
       "      <td>NaN</td>\n",
       "      <td>NaN</td>\n",
       "      <td>NaN</td>\n",
       "      <td>NaN</td>\n",
       "      <td>NaN</td>\n",
       "      <td>NaN</td>\n",
       "      <td>NaN</td>\n",
       "      <td>NaN</td>\n",
       "      <td>NaN</td>\n",
       "      <td>NaN</td>\n",
       "      <td>NaN</td>\n",
       "      <td>NaN</td>\n",
       "      <td>NaN</td>\n",
       "      <td>NaN</td>\n",
       "      <td>NaN</td>\n",
       "      <td>NaN</td>\n",
       "      <td>NaN</td>\n",
       "      <td>NaN</td>\n",
       "      <td>NaN</td>\n",
       "      <td>1.0</td>\n",
       "      <td>NaN</td>\n",
       "      <td>...</td>\n",
       "      <td>0</td>\n",
       "      <td>0</td>\n",
       "      <td>1</td>\n",
       "      <td>0</td>\n",
       "      <td>0</td>\n",
       "      <td>0</td>\n",
       "      <td>0</td>\n",
       "      <td>0</td>\n",
       "      <td>0</td>\n",
       "      <td>0</td>\n",
       "      <td>0</td>\n",
       "      <td>0</td>\n",
       "      <td>0</td>\n",
       "      <td>0</td>\n",
       "      <td>0</td>\n",
       "      <td>0</td>\n",
       "      <td>0</td>\n",
       "      <td>0</td>\n",
       "      <td>0</td>\n",
       "      <td>0</td>\n",
       "      <td>0</td>\n",
       "      <td>0</td>\n",
       "      <td>0</td>\n",
       "      <td>0</td>\n",
       "      <td>0</td>\n",
       "      <td>0</td>\n",
       "      <td>0</td>\n",
       "      <td>0</td>\n",
       "      <td>0</td>\n",
       "      <td>0</td>\n",
       "      <td>0</td>\n",
       "      <td>0</td>\n",
       "      <td>0</td>\n",
       "      <td>0</td>\n",
       "      <td>0</td>\n",
       "      <td>0</td>\n",
       "      <td>0</td>\n",
       "      <td>0</td>\n",
       "      <td>1</td>\n",
       "      <td>0</td>\n",
       "    </tr>\n",
       "    <tr>\n",
       "      <th>5</th>\n",
       "      <td>4.5</td>\n",
       "      <td>38</td>\n",
       "      <td>NaN</td>\n",
       "      <td>NaN</td>\n",
       "      <td>NaN</td>\n",
       "      <td>NaN</td>\n",
       "      <td>NaN</td>\n",
       "      <td>NaN</td>\n",
       "      <td>NaN</td>\n",
       "      <td>NaN</td>\n",
       "      <td>NaN</td>\n",
       "      <td>NaN</td>\n",
       "      <td>NaN</td>\n",
       "      <td>NaN</td>\n",
       "      <td>NaN</td>\n",
       "      <td>NaN</td>\n",
       "      <td>NaN</td>\n",
       "      <td>NaN</td>\n",
       "      <td>NaN</td>\n",
       "      <td>NaN</td>\n",
       "      <td>NaN</td>\n",
       "      <td>NaN</td>\n",
       "      <td>NaN</td>\n",
       "      <td>NaN</td>\n",
       "      <td>NaN</td>\n",
       "      <td>NaN</td>\n",
       "      <td>NaN</td>\n",
       "      <td>NaN</td>\n",
       "      <td>NaN</td>\n",
       "      <td>NaN</td>\n",
       "      <td>NaN</td>\n",
       "      <td>NaN</td>\n",
       "      <td>NaN</td>\n",
       "      <td>NaN</td>\n",
       "      <td>NaN</td>\n",
       "      <td>NaN</td>\n",
       "      <td>NaN</td>\n",
       "      <td>NaN</td>\n",
       "      <td>39.0</td>\n",
       "      <td>4.0</td>\n",
       "      <td>...</td>\n",
       "      <td>0</td>\n",
       "      <td>0</td>\n",
       "      <td>1</td>\n",
       "      <td>0</td>\n",
       "      <td>0</td>\n",
       "      <td>0</td>\n",
       "      <td>0</td>\n",
       "      <td>0</td>\n",
       "      <td>0</td>\n",
       "      <td>0</td>\n",
       "      <td>0</td>\n",
       "      <td>0</td>\n",
       "      <td>0</td>\n",
       "      <td>0</td>\n",
       "      <td>0</td>\n",
       "      <td>0</td>\n",
       "      <td>0</td>\n",
       "      <td>0</td>\n",
       "      <td>0</td>\n",
       "      <td>0</td>\n",
       "      <td>0</td>\n",
       "      <td>0</td>\n",
       "      <td>0</td>\n",
       "      <td>0</td>\n",
       "      <td>0</td>\n",
       "      <td>0</td>\n",
       "      <td>0</td>\n",
       "      <td>0</td>\n",
       "      <td>0</td>\n",
       "      <td>0</td>\n",
       "      <td>0</td>\n",
       "      <td>0</td>\n",
       "      <td>0</td>\n",
       "      <td>0</td>\n",
       "      <td>0</td>\n",
       "      <td>0</td>\n",
       "      <td>0</td>\n",
       "      <td>0</td>\n",
       "      <td>1</td>\n",
       "      <td>0</td>\n",
       "    </tr>\n",
       "    <tr>\n",
       "      <th>6</th>\n",
       "      <td>3.5</td>\n",
       "      <td>81</td>\n",
       "      <td>True</td>\n",
       "      <td>NaN</td>\n",
       "      <td>NaN</td>\n",
       "      <td>NaN</td>\n",
       "      <td>u'no'</td>\n",
       "      <td>NaN</td>\n",
       "      <td>NaN</td>\n",
       "      <td>NaN</td>\n",
       "      <td>NaN</td>\n",
       "      <td>NaN</td>\n",
       "      <td>NaN</td>\n",
       "      <td>NaN</td>\n",
       "      <td>NaN</td>\n",
       "      <td>NaN</td>\n",
       "      <td>NaN</td>\n",
       "      <td>NaN</td>\n",
       "      <td>NaN</td>\n",
       "      <td>NaN</td>\n",
       "      <td>NaN</td>\n",
       "      <td>NaN</td>\n",
       "      <td>NaN</td>\n",
       "      <td>NaN</td>\n",
       "      <td>NaN</td>\n",
       "      <td>NaN</td>\n",
       "      <td>NaN</td>\n",
       "      <td>NaN</td>\n",
       "      <td>NaN</td>\n",
       "      <td>NaN</td>\n",
       "      <td>NaN</td>\n",
       "      <td>NaN</td>\n",
       "      <td>NaN</td>\n",
       "      <td>NaN</td>\n",
       "      <td>NaN</td>\n",
       "      <td>NaN</td>\n",
       "      <td>NaN</td>\n",
       "      <td>NaN</td>\n",
       "      <td>328.0</td>\n",
       "      <td>22.0</td>\n",
       "      <td>...</td>\n",
       "      <td>0</td>\n",
       "      <td>0</td>\n",
       "      <td>0</td>\n",
       "      <td>0</td>\n",
       "      <td>0</td>\n",
       "      <td>0</td>\n",
       "      <td>0</td>\n",
       "      <td>0</td>\n",
       "      <td>0</td>\n",
       "      <td>0</td>\n",
       "      <td>0</td>\n",
       "      <td>0</td>\n",
       "      <td>0</td>\n",
       "      <td>0</td>\n",
       "      <td>0</td>\n",
       "      <td>0</td>\n",
       "      <td>0</td>\n",
       "      <td>1</td>\n",
       "      <td>0</td>\n",
       "      <td>0</td>\n",
       "      <td>0</td>\n",
       "      <td>0</td>\n",
       "      <td>0</td>\n",
       "      <td>0</td>\n",
       "      <td>0</td>\n",
       "      <td>0</td>\n",
       "      <td>0</td>\n",
       "      <td>0</td>\n",
       "      <td>0</td>\n",
       "      <td>0</td>\n",
       "      <td>0</td>\n",
       "      <td>0</td>\n",
       "      <td>0</td>\n",
       "      <td>0</td>\n",
       "      <td>0</td>\n",
       "      <td>0</td>\n",
       "      <td>0</td>\n",
       "      <td>1</td>\n",
       "      <td>0</td>\n",
       "      <td>0</td>\n",
       "    </tr>\n",
       "  </tbody>\n",
       "</table>\n",
       "<p>5 rows × 365 columns</p>\n",
       "</div>"
      ],
      "text/plain": [
       "   stars  review_count  ... rating_category_2.0 rating_category_nan\n",
       "1    5.0             4  ...                   1                   0\n",
       "3    2.5             3  ...                   0                   0\n",
       "4    4.5            26  ...                   1                   0\n",
       "5    4.5            38  ...                   1                   0\n",
       "6    3.5            81  ...                   0                   0\n",
       "\n",
       "[5 rows x 365 columns]"
      ]
     },
     "execution_count": 51,
     "metadata": {},
     "output_type": "execute_result"
    }
   ],
   "source": [
    "df_business_hot.head()"
   ]
  },
  {
   "cell_type": "markdown",
   "metadata": {},
   "source": [
    "# Feature Selection"
   ]
  },
  {
   "cell_type": "code",
   "execution_count": 52,
   "metadata": {},
   "outputs": [
    {
     "name": "stdout",
     "output_type": "stream",
     "text": [
      "Lasso picked 9 variables and eliminated the other 305 variables\n",
      "CPU times: user 55 s, sys: 30.5 s, total: 1min 25s\n",
      "Wall time: 6.44 s\n"
     ]
    }
   ],
   "source": [
    "%%time\n",
    "import numpy as np\n",
    "from sklearn.linear_model import LassoCV\n",
    "\n",
    "y=df_business_hot[\"stars\"]\n",
    "X=df_business_hot.select_dtypes(include=np.number).drop([\"stars\",\"rating_category_0.0\",\"rating_category_1.0\",\"rating_category_2.0\",\"rating_category_nan\"],axis=1).fillna(0)\n",
    "\n",
    "lasso = LassoCV()\n",
    "lasso.fit(X, y)\n",
    "coef = pd.Series(lasso.coef_, index = X.columns)\n",
    "print(\"Lasso picked \" + str(sum(coef > 0)) + \" variables and eliminated the other \" +  str(sum(coef == 0)) + \" variables\")"
   ]
  },
  {
   "cell_type": "code",
   "execution_count": 53,
   "metadata": {
    "scrolled": true
   },
   "outputs": [
    {
     "data": {
      "image/png": "[encoded data removed]",
      "text/plain": [
       "<Figure size 432x288 with 1 Axes>"
      ]
     },
     "metadata": {
      "needs_background": "light"
     },
     "output_type": "display_data"
    }
   ],
   "source": [
    "lasso_top_15=(coef).sort_values(ascending=False).head(15)\n",
    "plt.barh(y=lasso_top_15.index, width=lasso_top_15.values)\n",
    "plt.title(\"Lasso - Most Important Features\")\n",
    "plt.show()"
   ]
  },
  {
   "cell_type": "code",
   "execution_count": 55,
   "metadata": {},
   "outputs": [
    {
     "data": {
      "image/png": "[encoded data removed]",
      "text/plain": [
       "<Figure size 432x288 with 1 Axes>"
      ]
     },
     "metadata": {
      "needs_background": "light"
     },
     "output_type": "display_data"
    }
   ],
   "source": [
    "lasso_bottom_15=(coef).sort_values(ascending=False).tail(15)\n",
    "plt.barh(y=lasso_bottom_15.index, width=lasso_bottom_15.values)\n",
    "plt.title(\"Lasso - Least Important Features\")\n",
    "plt.show()"
   ]
  },
  {
   "cell_type": "markdown",
   "metadata": {},
   "source": [
    "## Tree-based feature selection"
   ]
  },
  {
   "cell_type": "code",
   "execution_count": 57,
   "metadata": {},
   "outputs": [
    {
     "name": "stdout",
     "output_type": "stream",
     "text": [
      "Tree-based picked 308 variables and eliminated the other 16 variables\n"
     ]
    }
   ],
   "source": [
    "from sklearn.ensemble import ExtraTreesClassifier\n",
    "from sklearn.feature_selection import SelectFromModel\n",
    "\n",
    "#using the non-one hot encoded rating_category \n",
    "y2=df_business_transform[\"rating_category\"]\n",
    "X2=df_business_hot.select_dtypes(include=np.number).drop([\"stars\",\"rating_category_0.0\",\"rating_category_1.0\",\"rating_category_2.0\",\"rating_category_nan\"],axis=1).fillna(0)\n",
    "\n",
    "clf = ExtraTreesClassifier(n_estimators=50)\n",
    "clf = clf.fit(X2, y2)\n",
    "clf.feature_importances_\n",
    "\n",
    "model = SelectFromModel(clf, prefit=True)\n",
    "X_new = model.transform(X2)\n",
    "X_new.shape\n",
    "\n",
    "coef2 = pd.Series(clf.feature_importances_, index = X2.columns)\n",
    "print(\"Tree-based picked \" + str(sum(coef2 > 0)) + \" variables and eliminated the other \" +  str(sum(coef2 == 0)) + \" variables\")"
   ]
  },
  {
   "cell_type": "code",
   "execution_count": 58,
   "metadata": {},
   "outputs": [
    {
     "data": {
      "image/png": "[encoded data removed]",
      "text/plain": [
       "<Figure size 432x288 with 1 Axes>"
      ]
     },
     "metadata": {
      "needs_background": "light"
     },
     "output_type": "display_data"
    }
   ],
   "source": [
    "tree_top_15=(coef2).sort_values(ascending=False).head(15)\n",
    "plt.barh(y=tree_top_15.index, width=tree_top_15.values)\n",
    "plt.title(\"Tree - Most Important Features (Tree based)\")\n",
    "plt.show()"
   ]
  },
  {
   "cell_type": "code",
   "execution_count": 59,
   "metadata": {},
   "outputs": [
    {
     "data": {
      "image/png": "[encoded data removed]",
      "text/plain": [
       "<Figure size 432x288 with 1 Axes>"
      ]
     },
     "metadata": {
      "needs_background": "light"
     },
     "output_type": "display_data"
    }
   ],
   "source": [
    "tree_bottom_15=(coef).sort_values(ascending=False).tail(15)\n",
    "plt.barh(y=tree_bottom_15.index, width=tree_bottom_15.values)\n",
    "plt.title(\"Tree - Least Important Features(Tree based)\")\n",
    "plt.show()"
   ]
  },
  {
   "cell_type": "code",
   "execution_count": 60,
   "metadata": {},
   "outputs": [
    {
     "data": {
      "text/plain": [
       "Restaurants_False                  1.864721e-01\n",
       "RestaurantsPriceRange2_nan         1.524233e-01\n",
       "city_state_Scottsdale_AZ           6.357205e-02\n",
       "cool_count                         1.377015e-02\n",
       "zip3_852                           1.017407e-02\n",
       "review_count                       2.843936e-04\n",
       "parking_lot_True                   1.991703e-15\n",
       "Beauty & Spas_True                 2.304600e-16\n",
       "BusinessAcceptsCreditCards_True    8.278197e-17\n",
       "city_state_Glbert_AZ               0.000000e+00\n",
       "city_state_Glendale Az_AZ         -0.000000e+00\n",
       "city_state_Glendale_AZ            -0.000000e+00\n",
       "city_state_Goodyear_AZ            -0.000000e+00\n",
       "city_state_Green Valley_NV         0.000000e+00\n",
       "city_state_HENDERSON_NV            0.000000e+00\n",
       "dtype: float64"
      ]
     },
     "execution_count": 60,
     "metadata": {},
     "output_type": "execute_result"
    }
   ],
   "source": [
    "# Final Variables Selection\n",
    "lasso_top_15"
   ]
  },
  {
   "cell_type": "code",
   "execution_count": 61,
   "metadata": {},
   "outputs": [
    {
     "data": {
      "text/plain": [
       "review_word_count                   0.182303\n",
       "checkin_count                       0.122887\n",
       "review_count                        0.118887\n",
       "useful_count                        0.115300\n",
       "cool_count                          0.097969\n",
       "funny_count                         0.097073\n",
       "text                                0.083841\n",
       "RestaurantsPriceRange2_nan          0.007183\n",
       "RestaurantsPriceRange2_1.0          0.006772\n",
       "RestaurantsPriceRange2_2.0          0.005891\n",
       "Restaurants_False                   0.005356\n",
       "is_open_False                       0.005310\n",
       "is_open_True                        0.005298\n",
       "BusinessAcceptsCreditCards_True     0.005079\n",
       "BusinessAcceptsCreditCards_False    0.005022\n",
       "dtype: float64"
      ]
     },
     "execution_count": 61,
     "metadata": {},
     "output_type": "execute_result"
    }
   ],
   "source": [
    "tree_top_15"
   ]
  },
  {
   "cell_type": "code",
   "execution_count": 399,
   "metadata": {},
   "outputs": [
    {
     "name": "stdout",
     "output_type": "stream",
     "text": [
      "<class 'pandas.core.frame.DataFrame'>\n",
      "Int64Index: 99887 entries, 1 to 209390\n",
      "Data columns (total 17 columns):\n",
      " #   Column                      Non-Null Count  Dtype  \n",
      "---  ------                      --------------  -----  \n",
      " 0   rating_category             99887 non-null  int64  \n",
      " 1   stars                       99887 non-null  float64\n",
      " 2   Beauty & Spas               99887 non-null  bool   \n",
      " 3   BusinessAcceptsCreditCards  99887 non-null  bool   \n",
      " 4   Restaurants                 99887 non-null  bool   \n",
      " 5   is_open                     99887 non-null  bool   \n",
      " 6   parking_lot                 99887 non-null  bool   \n",
      " 7   city_state                  99886 non-null  object \n",
      " 8   zip3                        99887 non-null  object \n",
      " 9   RestaurantsPriceRange2      44756 non-null  float64\n",
      " 10  text                        65630 non-null  float64\n",
      " 11  checkin_count               82378 non-null  float64\n",
      " 12  useful_count                99887 non-null  int64  \n",
      " 13  cool_count                  99887 non-null  int64  \n",
      " 14  funny_count                 99887 non-null  int64  \n",
      " 15  review_count                99887 non-null  int64  \n",
      " 16  review_word_count           99887 non-null  float64\n",
      "dtypes: bool(5), float64(5), int64(5), object(2)\n",
      "memory usage: 12.9+ MB\n"
     ]
    }
   ],
   "source": [
    "def dedup_list(x):\n",
    "  return list(dict.fromkeys(x))\n",
    "\n",
    "response_vars=[\"stars\",\"rating_category\"]\n",
    "lasso_important_vars=[\"RestaurantsPriceRange2\",\"city_state\",\"BusinessAcceptsCreditCards\",\"Beauty & Spas\",\"parking_lot\",\"review_count\",\"zip3\",\"cool_count\",\"Restaurants\"]\n",
    "tree_important_vars=[\"review_word_count\",\"checkin_count\",\"review_count\",\"useful_count\",\"cool_count\",\"funny_count\",\"text\",\"RestaurantsPriceRange2\",\"Restaurants\",\"is_open\",\"BusinessAcceptsCreditCards\"]\n",
    "eda_cols=dedup_list(response_vars+lasso_important_vars+tree_important_vars)\n",
    "\n",
    "df_business_eda=df_business_transform[eda_cols]\n",
    "\n",
    "reorder_cols=[\"rating_category\",\"stars\",\"Beauty & Spas\",\"BusinessAcceptsCreditCards\",\"Restaurants\",\"is_open\",\"parking_lot\",\"city_state\",\"zip3\",\"RestaurantsPriceRange2\",\"text\",\"checkin_count\",\"useful_count\",\"cool_count\",\"funny_count\",\"review_count\",\"review_word_count\"]\n",
    "\n",
    "df_business_eda=df_business_eda.reindex(columns=reorder_cols)\n",
    "\n",
    "df_business_eda.info()"
   ]
  },
  {
   "cell_type": "markdown",
   "metadata": {},
   "source": [
    "# Business Understanding \n",
    "  Describe the purpose of the data set you selected (i.e., why was this data collected in the first place?).  \n",
    "\n",
    "  The data we will be using for analysis was extracted from Yelp, an online tool where users give ratings and write reviews about businesses and services on Yelp. Potential customers who are also Yelp users use the ratings and reviews to evaluate a given business or services before making a choice. This dataset was collected as part of “Yelp Dataset Challenge which is a chance for students to conduct research or analysis on Yelp's data and share their discoveries. In total, there are: 5,200,000 user reviews, Information on 174,000 businesses and the data spans 11 metropolitan areas[1]” \n",
    "  \n",
    "  Describe how you would define and measure the outcomes from the dataset. That is, why is this data important and how do you know if you have mined useful knowledge from the dataset? \n",
    "  \n",
    "  The aim of this analysis is to determine how the customer’s choice to engage with a business or service is influenced by the ratings in yelp for a particular business. We predict that a business in a specific location and a given category, is likely to have high customer engagement based on its ratings. To develop our model, we will be looking at the data for a specific business in a given location and analyze how many customers checked in and left Thank you notes. Initial inspection of the data revealed that Yelp data is in JSON format and some columns are nested which forces us to flatten the nested columns before we begin our analysis. We imported the business, checking and thank you notes JSON files and flattened them in pandas then applied the feature selection. The text on the reviews is so around 6GB so we will not include that data as there’s no use for the actual review text. We will also not be using specific customer information such as name, id as that will not be useful in our analysis. Once we have our dataset, we will split it into separate training and test subsets then apply our algorithm on the training before using it on the test dataset.  \n",
    "The scenario where customer engagement prediction will be useful is during the sales process, the Yelp salesperson can use the analysis to show customers how their business rating can influence customers in the area to make a choice on whether or not they will like to engage the business. \n",
    "\n",
    "\n",
    "How would you measure the effectiveness of a good prediction algorithm? Be specific.\n",
    "\n",
    "To assess predictive performance, we will randomly divide data using stratified sampling, into sets for the training data set and sets for the test data set. We will fit logistic LASSO regression using the training data set only and predict user engagement of the test data using the fitted model. The reason we will use Logistic LASSO regression is because we are predicting whether the customer will engage in the business, the outcome is denoted by Y or X. For logistic LASSO regression, we will use cross-validation to select lambda(λ). We will then calculate the misclassification error and the area under the (AUC) for test data as a way to measures the predictive performance of the fitted model. \n",
    "\n",
    "  A good prediction algorithm would be...\n",
    "  Identify what you want to predict (1 or 2)\n",
    "  Regression: RMSE,...\n",
    "  Classification: accurary, precision, f1\n",
    "  ten-fold cross-validation (if there are a million records)\n",
    "  \n",
    " "
   ]
  },
  {
   "cell_type": "markdown",
   "metadata": {},
   "source": [
    "# Data Meaning Type\n",
    "  Describe the meaning and type of data (scale, values, etc.) for each attribute in the data file.\n",
    "\n",
    "  pd.df.info()\n",
    "  pd.df.describe()\n",
    "  summarize the types of columns"
   ]
  },
  {
   "cell_type": "markdown",
   "metadata": {},
   "source": [
    "# Data Quality\n",
    "  Verify data quality: Explain any missing values, duplicate data, and outliers. Are those mistakes? How do you deal with these problems? Give justifications for your methods.\n",
    "\n",
    "  boxplots for outliers (don't need to correct) <- do we think it's bad data? / Delete\n",
    "  missing data <- what's the imputation plan? / Delete"
   ]
  },
  {
   "cell_type": "markdown",
   "metadata": {},
   "source": [
    "# Simple Statistics"
   ]
  },
  {
   "cell_type": "markdown",
   "metadata": {},
   "source": [
    "### Boolean Data\n"
   ]
  },
  {
   "cell_type": "code",
   "execution_count": 443,
   "metadata": {},
   "outputs": [
    {
     "data": {
      "text/html": [
       "<div>\n",
       "<style scoped>\n",
       "    .dataframe tbody tr th:only-of-type {\n",
       "        vertical-align: middle;\n",
       "    }\n",
       "\n",
       "    .dataframe tbody tr th {\n",
       "        vertical-align: top;\n",
       "    }\n",
       "\n",
       "    .dataframe thead th {\n",
       "        text-align: right;\n",
       "    }\n",
       "</style>\n",
       "<table border=\"1\" class=\"dataframe\">\n",
       "  <thead>\n",
       "    <tr style=\"text-align: right;\">\n",
       "      <th></th>\n",
       "      <th>Beauty &amp; Spas</th>\n",
       "      <th>BusinessAcceptsCreditCards</th>\n",
       "      <th>Restaurants</th>\n",
       "      <th>is_open</th>\n",
       "      <th>parking_lot</th>\n",
       "    </tr>\n",
       "  </thead>\n",
       "  <tbody>\n",
       "    <tr>\n",
       "      <th>count</th>\n",
       "      <td>99887</td>\n",
       "      <td>99887</td>\n",
       "      <td>99887</td>\n",
       "      <td>99887</td>\n",
       "      <td>99887</td>\n",
       "    </tr>\n",
       "    <tr>\n",
       "      <th>unique</th>\n",
       "      <td>2</td>\n",
       "      <td>2</td>\n",
       "      <td>2</td>\n",
       "      <td>2</td>\n",
       "      <td>2</td>\n",
       "    </tr>\n",
       "    <tr>\n",
       "      <th>top</th>\n",
       "      <td>False</td>\n",
       "      <td>True</td>\n",
       "      <td>False</td>\n",
       "      <td>True</td>\n",
       "      <td>False</td>\n",
       "    </tr>\n",
       "    <tr>\n",
       "      <th>freq</th>\n",
       "      <td>92423</td>\n",
       "      <td>73899</td>\n",
       "      <td>79423</td>\n",
       "      <td>80595</td>\n",
       "      <td>74699</td>\n",
       "    </tr>\n",
       "  </tbody>\n",
       "</table>\n",
       "</div>"
      ],
      "text/plain": [
       "       Beauty & Spas BusinessAcceptsCreditCards Restaurants is_open parking_lot\n",
       "count          99887                      99887       99887   99887       99887\n",
       "unique             2                          2           2       2           2\n",
       "top            False                       True       False    True       False\n",
       "freq           92423                      73899       79423   80595       74699"
      ]
     },
     "execution_count": 443,
     "metadata": {},
     "output_type": "execute_result"
    }
   ],
   "source": [
    "df_business_eda.select_dtypes([\"bool\"]).describe()"
   ]
  },
  {
   "cell_type": "markdown",
   "metadata": {},
   "source": [
    "### Integer Data "
   ]
  },
  {
   "cell_type": "markdown",
   "metadata": {},
   "source": [
    "The boolean features can take a value of True or False. *Beauty & Spas*, *Restaurants*, and *parking_lot* are most frequently false while *BusinessAcceptsCreditCards* and *is_open* are most frequently valued as true."
   ]
  },
  {
   "cell_type": "code",
   "execution_count": 401,
   "metadata": {
    "scrolled": true
   },
   "outputs": [
    {
     "data": {
      "text/html": [
       "<div>\n",
       "<style scoped>\n",
       "    .dataframe tbody tr th:only-of-type {\n",
       "        vertical-align: middle;\n",
       "    }\n",
       "\n",
       "    .dataframe tbody tr th {\n",
       "        vertical-align: top;\n",
       "    }\n",
       "\n",
       "    .dataframe thead th {\n",
       "        text-align: right;\n",
       "    }\n",
       "</style>\n",
       "<table border=\"1\" class=\"dataframe\">\n",
       "  <thead>\n",
       "    <tr style=\"text-align: right;\">\n",
       "      <th></th>\n",
       "      <th>rating_category</th>\n",
       "      <th>useful_count</th>\n",
       "      <th>cool_count</th>\n",
       "      <th>funny_count</th>\n",
       "      <th>review_count</th>\n",
       "    </tr>\n",
       "  </thead>\n",
       "  <tbody>\n",
       "    <tr>\n",
       "      <th>count</th>\n",
       "      <td>99887.000000</td>\n",
       "      <td>99887.000000</td>\n",
       "      <td>99887.000000</td>\n",
       "      <td>99887.000000</td>\n",
       "      <td>99887.000000</td>\n",
       "    </tr>\n",
       "    <tr>\n",
       "      <th>mean</th>\n",
       "      <td>1.307748</td>\n",
       "      <td>23.934646</td>\n",
       "      <td>12.825783</td>\n",
       "      <td>10.694975</td>\n",
       "      <td>51.122238</td>\n",
       "    </tr>\n",
       "    <tr>\n",
       "      <th>std</th>\n",
       "      <td>0.788078</td>\n",
       "      <td>72.904120</td>\n",
       "      <td>46.841335</td>\n",
       "      <td>38.820131</td>\n",
       "      <td>166.772997</td>\n",
       "    </tr>\n",
       "    <tr>\n",
       "      <th>min</th>\n",
       "      <td>0.000000</td>\n",
       "      <td>0.000000</td>\n",
       "      <td>0.000000</td>\n",
       "      <td>0.000000</td>\n",
       "      <td>3.000000</td>\n",
       "    </tr>\n",
       "    <tr>\n",
       "      <th>25%</th>\n",
       "      <td>1.000000</td>\n",
       "      <td>2.000000</td>\n",
       "      <td>1.000000</td>\n",
       "      <td>1.000000</td>\n",
       "      <td>5.000000</td>\n",
       "    </tr>\n",
       "    <tr>\n",
       "      <th>50%</th>\n",
       "      <td>2.000000</td>\n",
       "      <td>6.000000</td>\n",
       "      <td>2.000000</td>\n",
       "      <td>2.000000</td>\n",
       "      <td>12.000000</td>\n",
       "    </tr>\n",
       "    <tr>\n",
       "      <th>75%</th>\n",
       "      <td>2.000000</td>\n",
       "      <td>19.000000</td>\n",
       "      <td>8.000000</td>\n",
       "      <td>7.000000</td>\n",
       "      <td>36.000000</td>\n",
       "    </tr>\n",
       "    <tr>\n",
       "      <th>max</th>\n",
       "      <td>2.000000</td>\n",
       "      <td>4358.000000</td>\n",
       "      <td>2599.000000</td>\n",
       "      <td>2282.000000</td>\n",
       "      <td>10129.000000</td>\n",
       "    </tr>\n",
       "  </tbody>\n",
       "</table>\n",
       "</div>"
      ],
      "text/plain": [
       "       rating_category  useful_count    cool_count   funny_count  review_count\n",
       "count     99887.000000  99887.000000  99887.000000  99887.000000  99887.000000\n",
       "mean          1.307748     23.934646     12.825783     10.694975     51.122238\n",
       "std           0.788078     72.904120     46.841335     38.820131    166.772997\n",
       "min           0.000000      0.000000      0.000000      0.000000      3.000000\n",
       "25%           1.000000      2.000000      1.000000      1.000000      5.000000\n",
       "50%           2.000000      6.000000      2.000000      2.000000     12.000000\n",
       "75%           2.000000     19.000000      8.000000      7.000000     36.000000\n",
       "max           2.000000   4358.000000   2599.000000   2282.000000  10129.000000"
      ]
     },
     "execution_count": 401,
     "metadata": {},
     "output_type": "execute_result"
    }
   ],
   "source": [
    "df_business_eda.select_dtypes([\"int\"]).describe()"
   ]
  },
  {
   "cell_type": "markdown",
   "metadata": {},
   "source": [
    "### Continuous Data "
   ]
  },
  {
   "cell_type": "markdown",
   "metadata": {},
   "source": [
    "The continuous data summary statistics can be seen below. It should be noted that the *text*, *checkin_count*, and *review_word_count* are extremely right skewed. For example *check_in_count* has a mean of 188, a standard deviation of 1065, and a value maximum of 3679. "
   ]
  },
  {
   "cell_type": "code",
   "execution_count": 445,
   "metadata": {},
   "outputs": [
    {
     "data": {
      "text/html": [
       "<div>\n",
       "<style scoped>\n",
       "    .dataframe tbody tr th:only-of-type {\n",
       "        vertical-align: middle;\n",
       "    }\n",
       "\n",
       "    .dataframe tbody tr th {\n",
       "        vertical-align: top;\n",
       "    }\n",
       "\n",
       "    .dataframe thead th {\n",
       "        text-align: right;\n",
       "    }\n",
       "</style>\n",
       "<table border=\"1\" class=\"dataframe\">\n",
       "  <thead>\n",
       "    <tr style=\"text-align: right;\">\n",
       "      <th></th>\n",
       "      <th>stars</th>\n",
       "      <th>RestaurantsPriceRange2</th>\n",
       "      <th>text</th>\n",
       "      <th>checkin_count</th>\n",
       "      <th>review_word_count</th>\n",
       "    </tr>\n",
       "  </thead>\n",
       "  <tbody>\n",
       "    <tr>\n",
       "      <th>count</th>\n",
       "      <td>99887.000000</td>\n",
       "      <td>44756.000000</td>\n",
       "      <td>65630.000000</td>\n",
       "      <td>82378.000000</td>\n",
       "      <td>99887.000000</td>\n",
       "    </tr>\n",
       "    <tr>\n",
       "      <th>mean</th>\n",
       "      <td>3.650035</td>\n",
       "      <td>1.774086</td>\n",
       "      <td>14.332424</td>\n",
       "      <td>188.223009</td>\n",
       "      <td>108.825887</td>\n",
       "    </tr>\n",
       "    <tr>\n",
       "      <th>std</th>\n",
       "      <td>1.044467</td>\n",
       "      <td>0.682658</td>\n",
       "      <td>44.659829</td>\n",
       "      <td>1065.807690</td>\n",
       "      <td>47.249055</td>\n",
       "    </tr>\n",
       "    <tr>\n",
       "      <th>min</th>\n",
       "      <td>1.000000</td>\n",
       "      <td>1.000000</td>\n",
       "      <td>1.000000</td>\n",
       "      <td>1.000000</td>\n",
       "      <td>14.000000</td>\n",
       "    </tr>\n",
       "    <tr>\n",
       "      <th>25%</th>\n",
       "      <td>3.000000</td>\n",
       "      <td>1.000000</td>\n",
       "      <td>1.000000</td>\n",
       "      <td>5.000000</td>\n",
       "      <td>78.690030</td>\n",
       "    </tr>\n",
       "    <tr>\n",
       "      <th>50%</th>\n",
       "      <td>4.000000</td>\n",
       "      <td>2.000000</td>\n",
       "      <td>3.000000</td>\n",
       "      <td>21.000000</td>\n",
       "      <td>98.692308</td>\n",
       "    </tr>\n",
       "    <tr>\n",
       "      <th>75%</th>\n",
       "      <td>4.500000</td>\n",
       "      <td>2.000000</td>\n",
       "      <td>11.000000</td>\n",
       "      <td>95.000000</td>\n",
       "      <td>127.815341</td>\n",
       "    </tr>\n",
       "    <tr>\n",
       "      <th>max</th>\n",
       "      <td>5.000000</td>\n",
       "      <td>4.000000</td>\n",
       "      <td>3679.000000</td>\n",
       "      <td>151671.000000</td>\n",
       "      <td>671.750000</td>\n",
       "    </tr>\n",
       "  </tbody>\n",
       "</table>\n",
       "</div>"
      ],
      "text/plain": [
       "              stars  RestaurantsPriceRange2  ...  checkin_count  review_word_count\n",
       "count  99887.000000            44756.000000  ...   82378.000000       99887.000000\n",
       "mean       3.650035                1.774086  ...     188.223009         108.825887\n",
       "std        1.044467                0.682658  ...    1065.807690          47.249055\n",
       "min        1.000000                1.000000  ...       1.000000          14.000000\n",
       "25%        3.000000                1.000000  ...       5.000000          78.690030\n",
       "50%        4.000000                2.000000  ...      21.000000          98.692308\n",
       "75%        4.500000                2.000000  ...      95.000000         127.815341\n",
       "max        5.000000                4.000000  ...  151671.000000         671.750000\n",
       "\n",
       "[8 rows x 5 columns]"
      ]
     },
     "execution_count": 445,
     "metadata": {},
     "output_type": "execute_result"
    }
   ],
   "source": [
    "df_business_eda.select_dtypes([\"float\"]).describe()"
   ]
  },
  {
   "cell_type": "markdown",
   "metadata": {},
   "source": [
    "### Categorical Data"
   ]
  },
  {
   "cell_type": "markdown",
   "metadata": {},
   "source": [
    "For the *city_state* data there is 209 unique values of 99886 total records. The mode value is *Las Vegas_NV*. The *zip3* variable has 50 unique values of 99887 total records. The mode value for *zip3* is 891."
   ]
  },
  {
   "cell_type": "code",
   "execution_count": 403,
   "metadata": {},
   "outputs": [
    {
     "data": {
      "text/html": [
       "<div>\n",
       "<style scoped>\n",
       "    .dataframe tbody tr th:only-of-type {\n",
       "        vertical-align: middle;\n",
       "    }\n",
       "\n",
       "    .dataframe tbody tr th {\n",
       "        vertical-align: top;\n",
       "    }\n",
       "\n",
       "    .dataframe thead th {\n",
       "        text-align: right;\n",
       "    }\n",
       "</style>\n",
       "<table border=\"1\" class=\"dataframe\">\n",
       "  <thead>\n",
       "    <tr style=\"text-align: right;\">\n",
       "      <th></th>\n",
       "      <th>city_state</th>\n",
       "      <th>zip3</th>\n",
       "    </tr>\n",
       "  </thead>\n",
       "  <tbody>\n",
       "    <tr>\n",
       "      <th>count</th>\n",
       "      <td>99886</td>\n",
       "      <td>99887</td>\n",
       "    </tr>\n",
       "    <tr>\n",
       "      <th>unique</th>\n",
       "      <td>209</td>\n",
       "      <td>50</td>\n",
       "    </tr>\n",
       "    <tr>\n",
       "      <th>top</th>\n",
       "      <td>Las Vegas_NV</td>\n",
       "      <td>891</td>\n",
       "    </tr>\n",
       "    <tr>\n",
       "      <th>freq</th>\n",
       "      <td>31623</td>\n",
       "      <td>31432</td>\n",
       "    </tr>\n",
       "  </tbody>\n",
       "</table>\n",
       "</div>"
      ],
      "text/plain": [
       "          city_state   zip3\n",
       "count          99886  99887\n",
       "unique           209     50\n",
       "top     Las Vegas_NV    891\n",
       "freq           31623  31432"
      ]
     },
     "execution_count": 403,
     "metadata": {},
     "output_type": "execute_result"
    }
   ],
   "source": [
    "df_business_eda.select_dtypes([\"object\"]).describe()"
   ]
  },
  {
   "cell_type": "markdown",
   "metadata": {},
   "source": [
    "# Visualize Attributes\n",
    "  Visualize the most interesting attributes (at least 5 attributes, your opinion on what is interesting). Important: Interpret the implications for each visualization. Explain for each attribute why the chosen visualization is appropriate.\n",
    "\n",
    "  every visualization needs text explaining to the viewer what the visualization means "
   ]
  },
  {
   "cell_type": "code",
   "execution_count": 404,
   "metadata": {},
   "outputs": [],
   "source": [
    "def plot_top(df, col):\n",
    "    df[col].value_counts().head(10).plot.bar(title='Top Businesses Counts by' + col,figsize=(15,5))"
   ]
  },
  {
   "cell_type": "code",
   "execution_count": 405,
   "metadata": {},
   "outputs": [
    {
     "data": {
      "image/png": "[encoded data removed]",
      "text/plain": [
       "<Figure size 432x288 with 1 Axes>"
      ]
     },
     "metadata": {
      "needs_background": "light"
     },
     "output_type": "display_data"
    }
   ],
   "source": [
    "fig=sb.histplot(df_business_eda.stars, binwidth=1,discrete=True)\n",
    "plt.xlabel(\"Average Stars\")\n",
    "plt.ylabel(\"Count\")\n",
    "plt.title(\"Average Stars Histogram\") # You can comment this line out if you don't need title\n",
    "plt.show(fig)"
   ]
  },
  {
   "cell_type": "code",
   "execution_count": 406,
   "metadata": {},
   "outputs": [
    {
     "data": {
      "image/png": "[encoded data removed]",
      "text/plain": [
       "<Figure size 432x288 with 1 Axes>"
      ]
     },
     "metadata": {
      "needs_background": "light"
     },
     "output_type": "display_data"
    }
   ],
   "source": [
    "fig=sb.histplot(df_business_eda.RestaurantsPriceRange2, binwidth=1,discrete=True)\n",
    "plt.xlabel(\"Restaurant Price Range\")\n",
    "plt.ylabel(\"Count\")\n",
    "plt.title(\"Restaurant Price Range Histogram\") # You can comment this line out if you don't need title\n",
    "plt.show(fig)\n",
    "\n",
    "# cool_count                      int64\n",
    "# funny_count                     int64\n",
    "# useful_count                    int64\n",
    "# review_count                    int64\n",
    "# checkin_count                 float64\n",
    "# review_word_count             float64\n",
    "# text                          float64"
   ]
  },
  {
   "cell_type": "code",
   "execution_count": 407,
   "metadata": {},
   "outputs": [
    {
     "data": {
      "image/png": "[encoded data removed]",
      "text/plain": [
       "<Figure size 432x288 with 1 Axes>"
      ]
     },
     "metadata": {
      "needs_background": "light"
     },
     "output_type": "display_data"
    }
   ],
   "source": [
    "fig=sb.histplot(df_business_eda.review_word_count)\n",
    "plt.xlabel(\"Word Count\")\n",
    "plt.ylabel(\"Count\")\n",
    "plt.title(\"Word Count Histogram\") # You can comment this line out if you don't need title\n",
    "plt.show(fig)"
   ]
  },
  {
   "cell_type": "code",
   "execution_count": 408,
   "metadata": {},
   "outputs": [
    {
     "data": {
      "image/png": "[encoded data removed]",
      "text/plain": [
       "<Figure size 432x288 with 1 Axes>"
      ]
     },
     "metadata": {
      "needs_background": "light"
     },
     "output_type": "display_data"
    }
   ],
   "source": [
    "fig=sb.histplot(np.log(df_business_eda.review_count))\n",
    "plt.xlabel(\"Log Review Count Histogram\")\n",
    "plt.ylabel(\"Count\")\n",
    "plt.title(\"Log Review Count\") # You can comment this line out if you don't need title\n",
    "plt.show(fig)\n",
    "# cool_count                      int64\n",
    "# funny_count                     int64\n",
    "# useful_count                    int64\n",
    "# review_count                    int64\n",
    "# checkin_count                 float64\n",
    "# review_word_count             float64\n",
    "# text                          float64"
   ]
  },
  {
   "cell_type": "code",
   "execution_count": 409,
   "metadata": {},
   "outputs": [
    {
     "data": {
      "image/png": "[encoded data removed]",
      "text/plain": [
       "<Figure size 1080x360 with 1 Axes>"
      ]
     },
     "metadata": {
      "needs_background": "light"
     },
     "output_type": "display_data"
    }
   ],
   "source": [
    "fig=plot_top(df_business_eda,\"city_state\")"
   ]
  },
  {
   "cell_type": "code",
   "execution_count": 410,
   "metadata": {},
   "outputs": [
    {
     "data": {
      "image/png": "[encoded data removed]",
      "text/plain": [
       "<Figure size 432x288 with 1 Axes>"
      ]
     },
     "metadata": {},
     "output_type": "display_data"
    }
   ],
   "source": [
    "beauty_or_restaurants=df_business_eda[\"Beauty & Spas\"]|df_business_eda[\"Restaurants\"]\n",
    "\n",
    "category_counts={\n",
    "    \"Beauty & Spas\":(df_business_eda[\"Beauty & Spas\"]==True).sum(),  \n",
    "    \"Restaurants\":(df_business_eda[\"Restaurants\"]==True).sum(),\n",
    "    \"Other\":np.size(beauty_or_restaurants) - np.count_nonzero(beauty_or_restaurants)\n",
    "}\n",
    "\n",
    "plt.suptitle('Important Categories', fontsize=16)\n",
    "plt.pie(category_counts.values(), labels=category_counts.keys(), autopct='%1.1f%%', shadow=True)\n",
    "plt.show()"
   ]
  },
  {
   "cell_type": "code",
   "execution_count": 411,
   "metadata": {},
   "outputs": [
    {
     "data": {
      "image/png": "[encoded data removed]",
      "text/plain": [
       "<Figure size 432x288 with 1 Axes>"
      ]
     },
     "metadata": {},
     "output_type": "display_data"
    }
   ],
   "source": [
    "credit_counts={\n",
    "    \"Accepts Credit Cards\":(df_business_eda[\"BusinessAcceptsCreditCards\"]==True).sum(),  \n",
    "    \"No Credit Cards\":(df_business_eda[\"BusinessAcceptsCreditCards\"]==False).sum()\n",
    "}\n",
    "\n",
    "plt.suptitle('Accepts Credit Cards', fontsize=16)\n",
    "plt.pie(credit_counts.values(), labels=credit_counts.keys(), autopct='%1.1f%%')\n",
    "plt.show()"
   ]
  },
  {
   "cell_type": "code",
   "execution_count": 412,
   "metadata": {},
   "outputs": [
    {
     "data": {
      "image/png": "[encoded data removed]",
      "text/plain": [
       "<Figure size 1080x360 with 1 Axes>"
      ]
     },
     "metadata": {
      "needs_background": "light"
     },
     "output_type": "display_data"
    }
   ],
   "source": [
    "plot_top(df_business_eda,'zip3')"
   ]
  },
  {
   "cell_type": "markdown",
   "metadata": {},
   "source": [
    "# Explore Joint Attributes\n",
    "  Visualize relationships between attributes: Look at the attributes via scatter plots, correlation, cross-tabulation, group-wise averages, etc. as appropriate. Explain any interesting relationships."
   ]
  },
  {
   "cell_type": "code",
   "execution_count": 413,
   "metadata": {},
   "outputs": [
    {
     "data": {
      "image/png": "[encoded data removed]",
      "text/plain": [
       "<Figure size 864x720 with 2 Axes>"
      ]
     },
     "metadata": {
      "needs_background": "light"
     },
     "output_type": "display_data"
    }
   ],
   "source": [
    "#https://towardsdatascience.com/feature-selection-with-pandas-e3690ad8504b\n",
    "\n",
    "\n",
    "#Using Pearson Correlation\n",
    "plt.figure(figsize=(12,10))\n",
    "cor = tst.corr()\n",
    "sb.heatmap(cor, annot=True, cmap=plt.cm.Reds)\n",
    "plt.show()"
   ]
  },
  {
   "cell_type": "code",
   "execution_count": null,
   "metadata": {},
   "outputs": [],
   "source": [
    "def visualize_crosstab(df, col1,col2, normalize='all'):\n",
    "    ct=pd.crosstab(df[col1],\n",
    "            df[col2],\n",
    "            normalize = normalize # convert absolute to row proportions\n",
    "           )\n",
    "    # now stack and reset\n",
    "    stacked = ct.stack().reset_index().rename(columns={0:'value'})\n",
    "\n",
    "    #stacked.lot == \"True\"\n",
    "    # plot grouped bar chart\n",
    "    sb.barplot(x=stacked[col1], y=stacked.value, hue=stacked[col2])\n",
    "\n",
    "def crosstab_heatmap(df, col1, col2, normalize='all'):\n",
    "    ct=pd.crosstab(\n",
    "        df[col1],\n",
    "        df[col2],\n",
    "        normalize=normalize).round(3)\n",
    "    \n",
    "    ct=ct.sort_values([col1], ascending=False)\n",
    "    sb.heatmap(ct, annot=True, fmt = '.2f', cmap=sb.color_palette(\"light:b\", as_cmap=True))"
   ]
  },
  {
   "cell_type": "code",
   "execution_count": 442,
   "metadata": {},
   "outputs": [
    {
     "data": {
      "image/png": "[encoded data removed]",
      "text/plain": [
       "<Figure size 432x288 with 1 Axes>"
      ]
     },
     "metadata": {
      "needs_background": "light"
     },
     "output_type": "display_data"
    }
   ],
   "source": [
    "# cool_count                      int64\n",
    "# funny_count                     int64\n",
    "# useful_count                    int64\n",
    "# review_count                    int64\n",
    "# checkin_count                 float64\n",
    "# review_word_count             float64\n",
    "# text                          float64\n",
    "\n",
    "fig=sb.stripplot(data=df_business_eda, x=\"stars\", y=\"review_count\", jitter=.4, alpha=.5)\n",
    "\n",
    "plt.xlabel(\"Average Stars\")\n",
    "plt.ylabel(\"Review Count\")\n",
    "plt.title(\"Stars versus Review Count\") # You can comment this line out if you don't need title\n",
    "plt.show(fig)"
   ]
  },
  {
   "cell_type": "code",
   "execution_count": 440,
   "metadata": {},
   "outputs": [
    {
     "data": {
      "image/png": "[encoded data removed]",
      "text/plain": [
       "<Figure size 432x288 with 1 Axes>"
      ]
     },
     "metadata": {
      "needs_background": "light"
     },
     "output_type": "display_data"
    }
   ],
   "source": [
    "# cool_count                      int64\n",
    "# funny_count                     int64\n",
    "# useful_count                    int64\n",
    "# review_count                    int64\n",
    "# checkin_count                 float64\n",
    "# review_word_count             float64\n",
    "# text                          float64\n",
    "\n",
    "fig=sb.stripplot(data=df_business_eda, x=\"RestaurantsPriceRange2\", y=\"review_count\", jitter=.4, alpha=.5)\n",
    "\n",
    "plt.xlabel(\"Restaurant Price Range\")\n",
    "plt.ylabel(\"Review Count\")\n",
    "plt.title(\"Restaurant Price versus Review Count\") # You can comment this line out if you don't need title\n",
    "plt.show(fig)"
   ]
  },
  {
   "cell_type": "code",
   "execution_count": 416,
   "metadata": {},
   "outputs": [
    {
     "data": {
      "text/plain": [
       "None"
      ]
     },
     "metadata": {},
     "output_type": "display_data"
    },
    {
     "data": {
      "image/png": "[encoded data removed]",
      "text/plain": [
       "<Figure size 432x288 with 1 Axes>"
      ]
     },
     "metadata": {
      "needs_background": "light"
     },
     "output_type": "display_data"
    }
   ],
   "source": [
    "display(visualize_crosstab(df_business_eda,\"BusinessAcceptsCreditCards\", \"Restaurants\"))"
   ]
  },
  {
   "cell_type": "code",
   "execution_count": 417,
   "metadata": {},
   "outputs": [
    {
     "data": {
      "text/plain": [
       "None"
      ]
     },
     "metadata": {},
     "output_type": "display_data"
    },
    {
     "data": {
      "image/png": "[encoded data removed]",
      "text/plain": [
       "<Figure size 432x288 with 2 Axes>"
      ]
     },
     "metadata": {
      "needs_background": "light"
     },
     "output_type": "display_data"
    }
   ],
   "source": [
    "display(crosstab_heatmap(df_business_eda,\"BusinessAcceptsCreditCards\", \"Restaurants\"))"
   ]
  },
  {
   "cell_type": "code",
   "execution_count": 418,
   "metadata": {},
   "outputs": [
    {
     "data": {
      "text/plain": [
       "None"
      ]
     },
     "metadata": {},
     "output_type": "display_data"
    },
    {
     "data": {
      "image/png": "[encoded data removed]",
      "text/plain": [
       "<Figure size 432x288 with 1 Axes>"
      ]
     },
     "metadata": {
      "needs_background": "light"
     },
     "output_type": "display_data"
    }
   ],
   "source": [
    "display(visualize_crosstab(df_business_eda,\"parking_lot\", \"Restaurants\"))"
   ]
  },
  {
   "cell_type": "code",
   "execution_count": 419,
   "metadata": {},
   "outputs": [
    {
     "data": {
      "text/plain": [
       "None"
      ]
     },
     "metadata": {},
     "output_type": "display_data"
    },
    {
     "data": {
      "image/png": "[encoded data removed]",
      "text/plain": [
       "<Figure size 432x288 with 2 Axes>"
      ]
     },
     "metadata": {
      "needs_background": "light"
     },
     "output_type": "display_data"
    }
   ],
   "source": [
    "display(crosstab_heatmap(df_business_eda,\"parking_lot\", \"Restaurants\"))"
   ]
  },
  {
   "cell_type": "code",
   "execution_count": 420,
   "metadata": {},
   "outputs": [
    {
     "data": {
      "text/plain": [
       "None"
      ]
     },
     "metadata": {},
     "output_type": "display_data"
    },
    {
     "data": {
      "image/png": "[encoded data removed]",
      "text/plain": [
       "<Figure size 432x288 with 1 Axes>"
      ]
     },
     "metadata": {
      "needs_background": "light"
     },
     "output_type": "display_data"
    }
   ],
   "source": [
    "display(visualize_crosstab(df_business_eda, \"BusinessAcceptsCreditCards\",\"parking_lot\"))"
   ]
  },
  {
   "cell_type": "markdown",
   "metadata": {},
   "source": [
    "# Explore Attributes and Class\n",
    "  Identify and explain interesting relationships between features and the class you are trying to predict (i.e., relationships with variables and the target classification).\n",
    "\n",
    "  compare to the response variable"
   ]
  },
  {
   "cell_type": "code",
   "execution_count": 441,
   "metadata": {},
   "outputs": [
    {
     "data": {
      "image/png": "[encoded data removed]",
      "text/plain": [
       "<Figure size 432x288 with 1 Axes>"
      ]
     },
     "metadata": {
      "needs_background": "light"
     },
     "output_type": "display_data"
    }
   ],
   "source": [
    "# cool_count                      int64\n",
    "# funny_count                     int64\n",
    "# useful_count                    int64\n",
    "# review_count                    int64\n",
    "# checkin_count                 float64\n",
    "# review_word_count             float64\n",
    "# text                          float64\n",
    "\n",
    "fig=sb.stripplot(data=df_business_eda, x=\"rating_category\", y=\"review_count\", jitter=.4, alpha=.5)\n",
    "\n",
    "plt.xlabel(\"Average Stars\")\n",
    "plt.ylabel(\"Review Count\")\n",
    "plt.title(\"Stars versus Review Count\") # You can comment this line out if you don't need title\n",
    "plt.show(fig)"
   ]
  },
  {
   "cell_type": "code",
   "execution_count": 414,
   "metadata": {},
   "outputs": [
    {
     "data": {
      "image/png": "[encoded data removed]",
      "text/plain": [
       "<Figure size 432x288 with 2 Axes>"
      ]
     },
     "metadata": {
      "needs_background": "light"
     },
     "output_type": "display_data"
    }
   ],
   "source": [
    "crosstab_heatmap(df_business_eda, \"rating_category\",\"RestaurantsPriceRange2\",normalize=\"all\")"
   ]
  },
  {
   "cell_type": "code",
   "execution_count": 421,
   "metadata": {},
   "outputs": [
    {
     "data": {
      "text/plain": [
       "None"
      ]
     },
     "metadata": {},
     "output_type": "display_data"
    },
    {
     "data": {
      "image/png": "[encoded data removed]",
      "text/plain": [
       "<Figure size 432x288 with 2 Axes>"
      ]
     },
     "metadata": {
      "needs_background": "light"
     },
     "output_type": "display_data"
    }
   ],
   "source": [
    "display(crosstab_heatmap(df_business_eda, \"rating_category\",\"parking_lot\"))"
   ]
  },
  {
   "cell_type": "markdown",
   "metadata": {},
   "source": [
    "# New Features\n",
    "  Are there other features that could be added to the data or created from existing features? Which ones?\n",
    "\n",
    "  at least 4, bin fields, for example age-income be explicit to catch retirement / too young to work\n",
    "\n",
    "  We can also say we can pull in data from another source. It has to exist."
   ]
  },
  {
   "cell_type": "markdown",
   "metadata": {},
   "source": [
    "# Exceptional Work\n",
    "  You have free reign to provide additional analyses. One idea: implement dimensionality reduction, then visualize and interpret the results."
   ]
  }
 ],
 "metadata": {
  "kernelspec": {
   "display_name": "Python 3",
   "language": "python",
   "name": "python3"
  },
  "language_info": {
   "codemirror_mode": {
    "name": "ipython",
    "version": 3
   },
   "file_extension": ".py",
   "mimetype": "text/x-python",
   "name": "python",
   "nbconvert_exporter": "python",
   "pygments_lexer": "ipython3",
   "version": "3.8.5"
  }
 },
 "nbformat": 4,
 "nbformat_minor": 4
}
